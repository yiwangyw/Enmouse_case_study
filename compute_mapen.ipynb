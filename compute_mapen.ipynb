{
 "cells": [
  {
   "cell_type": "code",
   "execution_count": 5,
   "metadata": {},
   "outputs": [],
   "source": [
    "import numpy as np\n",
    "\n",
    "def calculate_mapen_optimized(data, m, r):\n",
    "    \"\"\"\n",
    "    计算多变量联合近似熵（Multivariate Approximate Entropy, mApEn）\n",
    "    参数:\n",
    "    - data: ndarray, shape = (n_samples, n_variables)，m×15的数组\n",
    "    - m: 嵌入维度\n",
    "    - r: 相似性阈值 (建议为数据标准差的比例, 比如 0.2)\n",
    "    \n",
    "    返回:\n",
    "    - mapen: 联合近似熵值\n",
    "    \"\"\"\n",
    "    n_samples, n_variables = data.shape\n",
    "\n",
    "    # Step 1: 构造嵌入向量\n",
    "    def embed(data, dim):\n",
    "        \"\"\"\n",
    "        嵌入数据到指定维度\n",
    "        \"\"\"\n",
    "        embedded_data = np.array([data[i: n_samples - dim + i + 1] for i in range(dim)])\n",
    "        return embedded_data.transpose(1, 2, 0)\n",
    "\n",
    "    embedded_m = embed(data, m)\n",
    "    embedded_m1 = embed(data, m + 1)\n",
    "\n",
    "    # Step 2: 计算满足阈值的比例\n",
    "    def phi_optimized(embedded_data, threshold):\n",
    "        \"\"\"\n",
    "        逐行计算距离，避免生成大矩阵\n",
    "        \"\"\"\n",
    "        n_patterns = embedded_data.shape[0]\n",
    "        count = 0\n",
    "        for i in range(n_patterns):\n",
    "            distances = np.max(np.abs(embedded_data - embedded_data[i]), axis=(1, 2))\n",
    "            count += np.sum(distances <= threshold) - 1  # 减去自身\n",
    "        return count / (n_patterns * (n_patterns - 1))\n",
    "\n",
    "    r_threshold = r * np.std(data)  # 阈值为 r 的标准差\n",
    "    phi_m = phi_optimized(embedded_m, r_threshold)\n",
    "    phi_m1 = phi_optimized(embedded_m1, r_threshold)\n",
    "\n",
    "    # Step 3: 计算联合近似熵\n",
    "    mapen = np.log(phi_m) - np.log(phi_m1)\n",
    "    return mapen\n"
   ]
  },
  {
   "cell_type": "code",
   "execution_count": 6,
   "metadata": {},
   "outputs": [
    {
     "data": {
      "text/plain": [
       "((98000, 14),\n",
       " array([[0.00000000e+00, 0.00000000e+00, 2.66000000e+02, 1.99000000e+02,\n",
       "         2.11148347e-03, 3.87718805e-06, 6.05768127e-09, 1.57300631e-01,\n",
       "         1.75250084e-01, 3.60655909e-01, 3.70856483e-01, 3.60660346e-01,\n",
       "         3.70803039e-01, 0.00000000e+00],\n",
       "        [0.00000000e+00, 0.00000000e+00, 2.65000000e+02, 1.97000000e+02,\n",
       "         2.92880340e-02, 3.07313378e-04, 2.74367766e-06, 3.38443408e-01,\n",
       "         3.06895532e-01, 3.60792206e-01, 3.70647489e-01, 3.60661548e-01,\n",
       "         3.70801154e-01, 0.00000000e+00],\n",
       "        [0.00000000e+00, 0.00000000e+00, 2.76000000e+02, 1.68000000e+02,\n",
       "         6.60998881e-03, 6.47335042e-05, 5.39408621e-07, 2.99870935e-01,\n",
       "         2.49127716e-01, 3.60658044e-01, 3.70811377e-01, 3.60660350e-01,\n",
       "         3.70802646e-01, 0.00000000e+00],\n",
       "        [0.00000000e+00, 0.00000000e+00, 2.76000000e+02, 1.61000000e+02,\n",
       "         1.80405227e-02, 1.89295532e-04, 1.69002054e-06, 3.20490658e-01,\n",
       "         1.18083548e-01, 3.60487291e-01, 3.70764205e-01, 3.60658825e-01,\n",
       "         3.70802196e-01, 0.00000000e+00],\n",
       "        [0.00000000e+00, 0.00000000e+00, 2.62000000e+02, 1.48000000e+02,\n",
       "         4.08777965e-02, 4.28921483e-04, 3.82938027e-06, 3.32007518e-01,\n",
       "         1.72820339e-02, 3.60133591e-01, 3.70822563e-01, 3.60655668e-01,\n",
       "         3.70802717e-01, 0.00000000e+00]]))"
      ]
     },
     "execution_count": 6,
     "metadata": {},
     "output_type": "execute_result"
    }
   ],
   "source": [
    "import pandas as pd\n",
    "\n",
    "# 文件路径\n",
    "file_path = r\"C:\\Users\\12694\\Documents\\ndss\\merged_files\\user23\\user23_merged.csv\"\n",
    "\n",
    "# 读取文件，第一行为标签，读取前98001行\n",
    "data = pd.read_csv(file_path, nrows=98000)\n",
    "\n",
    "# 去掉第一行和第一列\n",
    "data = data.iloc[:, 1:]\n",
    "\n",
    "# 转换为数组\n",
    "array_output = data.values\n",
    "\n",
    "# 显示数组维度和前几行\n",
    "array_output.shape, array_output[:5]\n"
   ]
  },
  {
   "cell_type": "code",
   "execution_count": 7,
   "metadata": {},
   "outputs": [
    {
     "ename": "KeyboardInterrupt",
     "evalue": "",
     "output_type": "error",
     "traceback": [
      "\u001b[1;31m---------------------------------------------------------------------------\u001b[0m",
      "\u001b[1;31mKeyboardInterrupt\u001b[0m                         Traceback (most recent call last)",
      "Cell \u001b[1;32mIn[7], line 7\u001b[0m\n\u001b[0;32m      4\u001b[0m r \u001b[38;5;241m=\u001b[39m \u001b[38;5;241m0.2\u001b[39m  \u001b[38;5;66;03m# 阈值比例\u001b[39;00m\n\u001b[0;32m      6\u001b[0m \u001b[38;5;66;03m# 计算联合近似熵\u001b[39;00m\n\u001b[1;32m----> 7\u001b[0m mapen \u001b[38;5;241m=\u001b[39m \u001b[43mcalculate_mapen_optimized\u001b[49m\u001b[43m(\u001b[49m\u001b[43mdata\u001b[49m\u001b[43m,\u001b[49m\u001b[43m \u001b[49m\u001b[43mm\u001b[49m\u001b[43m,\u001b[49m\u001b[43m \u001b[49m\u001b[43mr\u001b[49m\u001b[43m)\u001b[49m\n\u001b[0;32m      8\u001b[0m \u001b[38;5;28mprint\u001b[39m(\u001b[38;5;124mf\u001b[39m\u001b[38;5;124m\"\u001b[39m\u001b[38;5;124m联合近似熵: \u001b[39m\u001b[38;5;132;01m{\u001b[39;00mmapen\u001b[38;5;132;01m}\u001b[39;00m\u001b[38;5;124m\"\u001b[39m)\n",
      "Cell \u001b[1;32mIn[5], line 40\u001b[0m, in \u001b[0;36mcalculate_mapen_optimized\u001b[1;34m(data, m, r)\u001b[0m\n\u001b[0;32m     37\u001b[0m     \u001b[38;5;28;01mreturn\u001b[39;00m count \u001b[38;5;241m/\u001b[39m (n_patterns \u001b[38;5;241m*\u001b[39m (n_patterns \u001b[38;5;241m-\u001b[39m \u001b[38;5;241m1\u001b[39m))\n\u001b[0;32m     39\u001b[0m r_threshold \u001b[38;5;241m=\u001b[39m r \u001b[38;5;241m*\u001b[39m np\u001b[38;5;241m.\u001b[39mstd(data)  \u001b[38;5;66;03m# 阈值为 r 的标准差\u001b[39;00m\n\u001b[1;32m---> 40\u001b[0m phi_m \u001b[38;5;241m=\u001b[39m \u001b[43mphi_optimized\u001b[49m\u001b[43m(\u001b[49m\u001b[43membedded_m\u001b[49m\u001b[43m,\u001b[49m\u001b[43m \u001b[49m\u001b[43mr_threshold\u001b[49m\u001b[43m)\u001b[49m\n\u001b[0;32m     41\u001b[0m phi_m1 \u001b[38;5;241m=\u001b[39m phi_optimized(embedded_m1, r_threshold)\n\u001b[0;32m     43\u001b[0m \u001b[38;5;66;03m# Step 3: 计算联合近似熵\u001b[39;00m\n",
      "Cell \u001b[1;32mIn[5], line 35\u001b[0m, in \u001b[0;36mcalculate_mapen_optimized.<locals>.phi_optimized\u001b[1;34m(embedded_data, threshold)\u001b[0m\n\u001b[0;32m     33\u001b[0m count \u001b[38;5;241m=\u001b[39m \u001b[38;5;241m0\u001b[39m\n\u001b[0;32m     34\u001b[0m \u001b[38;5;28;01mfor\u001b[39;00m i \u001b[38;5;129;01min\u001b[39;00m \u001b[38;5;28mrange\u001b[39m(n_patterns):\n\u001b[1;32m---> 35\u001b[0m     distances \u001b[38;5;241m=\u001b[39m \u001b[43mnp\u001b[49m\u001b[38;5;241;43m.\u001b[39;49m\u001b[43mmax\u001b[49m\u001b[43m(\u001b[49m\u001b[43mnp\u001b[49m\u001b[38;5;241;43m.\u001b[39;49m\u001b[43mabs\u001b[49m\u001b[43m(\u001b[49m\u001b[43membedded_data\u001b[49m\u001b[43m \u001b[49m\u001b[38;5;241;43m-\u001b[39;49m\u001b[43m \u001b[49m\u001b[43membedded_data\u001b[49m\u001b[43m[\u001b[49m\u001b[43mi\u001b[49m\u001b[43m]\u001b[49m\u001b[43m)\u001b[49m\u001b[43m,\u001b[49m\u001b[43m \u001b[49m\u001b[43maxis\u001b[49m\u001b[38;5;241;43m=\u001b[39;49m\u001b[43m(\u001b[49m\u001b[38;5;241;43m1\u001b[39;49m\u001b[43m,\u001b[49m\u001b[43m \u001b[49m\u001b[38;5;241;43m2\u001b[39;49m\u001b[43m)\u001b[49m\u001b[43m)\u001b[49m\n\u001b[0;32m     36\u001b[0m     count \u001b[38;5;241m+\u001b[39m\u001b[38;5;241m=\u001b[39m np\u001b[38;5;241m.\u001b[39msum(distances \u001b[38;5;241m<\u001b[39m\u001b[38;5;241m=\u001b[39m threshold) \u001b[38;5;241m-\u001b[39m \u001b[38;5;241m1\u001b[39m  \u001b[38;5;66;03m# 减去自身\u001b[39;00m\n\u001b[0;32m     37\u001b[0m \u001b[38;5;28;01mreturn\u001b[39;00m count \u001b[38;5;241m/\u001b[39m (n_patterns \u001b[38;5;241m*\u001b[39m (n_patterns \u001b[38;5;241m-\u001b[39m \u001b[38;5;241m1\u001b[39m))\n",
      "File \u001b[1;32m<__array_function__ internals>:200\u001b[0m, in \u001b[0;36mamax\u001b[1;34m(*args, **kwargs)\u001b[0m\n",
      "File \u001b[1;32mc:\\Users\\12694\\miniconda3\\envs\\mouse_id\\lib\\site-packages\\numpy\\core\\fromnumeric.py:2820\u001b[0m, in \u001b[0;36mamax\u001b[1;34m(a, axis, out, keepdims, initial, where)\u001b[0m\n\u001b[0;32m   2703\u001b[0m \u001b[38;5;129m@array_function_dispatch\u001b[39m(_amax_dispatcher)\n\u001b[0;32m   2704\u001b[0m \u001b[38;5;28;01mdef\u001b[39;00m \u001b[38;5;21mamax\u001b[39m(a, axis\u001b[38;5;241m=\u001b[39m\u001b[38;5;28;01mNone\u001b[39;00m, out\u001b[38;5;241m=\u001b[39m\u001b[38;5;28;01mNone\u001b[39;00m, keepdims\u001b[38;5;241m=\u001b[39mnp\u001b[38;5;241m.\u001b[39m_NoValue, initial\u001b[38;5;241m=\u001b[39mnp\u001b[38;5;241m.\u001b[39m_NoValue,\n\u001b[0;32m   2705\u001b[0m          where\u001b[38;5;241m=\u001b[39mnp\u001b[38;5;241m.\u001b[39m_NoValue):\n\u001b[0;32m   2706\u001b[0m \u001b[38;5;250m    \u001b[39m\u001b[38;5;124;03m\"\"\"\u001b[39;00m\n\u001b[0;32m   2707\u001b[0m \u001b[38;5;124;03m    Return the maximum of an array or maximum along an axis.\u001b[39;00m\n\u001b[0;32m   2708\u001b[0m \n\u001b[1;32m   (...)\u001b[0m\n\u001b[0;32m   2818\u001b[0m \u001b[38;5;124;03m    5\u001b[39;00m\n\u001b[0;32m   2819\u001b[0m \u001b[38;5;124;03m    \"\"\"\u001b[39;00m\n\u001b[1;32m-> 2820\u001b[0m     \u001b[38;5;28;01mreturn\u001b[39;00m \u001b[43m_wrapreduction\u001b[49m\u001b[43m(\u001b[49m\u001b[43ma\u001b[49m\u001b[43m,\u001b[49m\u001b[43m \u001b[49m\u001b[43mnp\u001b[49m\u001b[38;5;241;43m.\u001b[39;49m\u001b[43mmaximum\u001b[49m\u001b[43m,\u001b[49m\u001b[43m \u001b[49m\u001b[38;5;124;43m'\u001b[39;49m\u001b[38;5;124;43mmax\u001b[39;49m\u001b[38;5;124;43m'\u001b[39;49m\u001b[43m,\u001b[49m\u001b[43m \u001b[49m\u001b[43maxis\u001b[49m\u001b[43m,\u001b[49m\u001b[43m \u001b[49m\u001b[38;5;28;43;01mNone\u001b[39;49;00m\u001b[43m,\u001b[49m\u001b[43m \u001b[49m\u001b[43mout\u001b[49m\u001b[43m,\u001b[49m\n\u001b[0;32m   2821\u001b[0m \u001b[43m                          \u001b[49m\u001b[43mkeepdims\u001b[49m\u001b[38;5;241;43m=\u001b[39;49m\u001b[43mkeepdims\u001b[49m\u001b[43m,\u001b[49m\u001b[43m \u001b[49m\u001b[43minitial\u001b[49m\u001b[38;5;241;43m=\u001b[39;49m\u001b[43minitial\u001b[49m\u001b[43m,\u001b[49m\u001b[43m \u001b[49m\u001b[43mwhere\u001b[49m\u001b[38;5;241;43m=\u001b[39;49m\u001b[43mwhere\u001b[49m\u001b[43m)\u001b[49m\n",
      "File \u001b[1;32mc:\\Users\\12694\\miniconda3\\envs\\mouse_id\\lib\\site-packages\\numpy\\core\\fromnumeric.py:86\u001b[0m, in \u001b[0;36m_wrapreduction\u001b[1;34m(obj, ufunc, method, axis, dtype, out, **kwargs)\u001b[0m\n\u001b[0;32m     83\u001b[0m         \u001b[38;5;28;01melse\u001b[39;00m:\n\u001b[0;32m     84\u001b[0m             \u001b[38;5;28;01mreturn\u001b[39;00m reduction(axis\u001b[38;5;241m=\u001b[39maxis, out\u001b[38;5;241m=\u001b[39mout, \u001b[38;5;241m*\u001b[39m\u001b[38;5;241m*\u001b[39mpasskwargs)\n\u001b[1;32m---> 86\u001b[0m \u001b[38;5;28;01mreturn\u001b[39;00m \u001b[43mufunc\u001b[49m\u001b[38;5;241;43m.\u001b[39;49m\u001b[43mreduce\u001b[49m\u001b[43m(\u001b[49m\u001b[43mobj\u001b[49m\u001b[43m,\u001b[49m\u001b[43m \u001b[49m\u001b[43maxis\u001b[49m\u001b[43m,\u001b[49m\u001b[43m \u001b[49m\u001b[43mdtype\u001b[49m\u001b[43m,\u001b[49m\u001b[43m \u001b[49m\u001b[43mout\u001b[49m\u001b[43m,\u001b[49m\u001b[43m \u001b[49m\u001b[38;5;241;43m*\u001b[39;49m\u001b[38;5;241;43m*\u001b[39;49m\u001b[43mpasskwargs\u001b[49m\u001b[43m)\u001b[49m\n",
      "\u001b[1;31mKeyboardInterrupt\u001b[0m: "
     ]
    }
   ],
   "source": [
    "# 示例输入\n",
    "data = array_output  # 100 行，15 列的随机数组\n",
    "m = 500  # 嵌入维度\n",
    "r = 0.2  # 阈值比例\n",
    "\n",
    "# 计算联合近似熵\n",
    "mapen = calculate_mapen_optimized(data, m, r)\n",
    "print(f\"联合近似熵: {mapen}\")"
   ]
  }
 ],
 "metadata": {
  "kernelspec": {
   "display_name": "mouse_id",
   "language": "python",
   "name": "python3"
  },
  "language_info": {
   "codemirror_mode": {
    "name": "ipython",
    "version": 3
   },
   "file_extension": ".py",
   "mimetype": "text/x-python",
   "name": "python",
   "nbconvert_exporter": "python",
   "pygments_lexer": "ipython3",
   "version": "3.8.19"
  }
 },
 "nbformat": 4,
 "nbformat_minor": 2
}
