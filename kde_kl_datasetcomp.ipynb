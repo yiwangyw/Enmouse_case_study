{
 "cells": [
  {
   "cell_type": "code",
   "execution_count": 1,
   "metadata": {},
   "outputs": [],
   "source": [
    "import numpy as np\n",
    "from scipy.stats import gaussian_kde\n",
    "from scipy.integrate import quad\n",
    "import matplotlib.pyplot as plt\n"
   ]
  },
  {
   "cell_type": "code",
   "execution_count": 3,
   "metadata": {},
   "outputs": [],
   "source": [
    "# 计算带宽 - Silverman's 规则\n",
    "def silverman_bandwidth(data):\n",
    "    \"\"\"\n",
    "    根据 Silverman's 规则计算核密度估计的带宽。\n",
    "    :param data: 输入数据 (numpy array)\n",
    "    :return: 计算的带宽值\n",
    "    \"\"\"\n",
    "    std_dev = np.std(data)  # 数据的标准差\n",
    "    n = len(data)           # 数据样本数量\n",
    "    bandwidth = 1.06 * std_dev * n**(-1/5)\n",
    "    return bandwidth"
   ]
  },
  {
   "cell_type": "code",
   "execution_count": 4,
   "metadata": {},
   "outputs": [],
   "source": [
    "# 核密度估计函数\n",
    "def compute_kde(data, bandwidth='silverman'):\n",
    "    \"\"\"\n",
    "    计算数据的核密度估计。\n",
    "    :param data: 输入数据 (numpy array)\n",
    "    :param bandwidth: 带宽 ('silverman' 或 'scott' 或具体值)\n",
    "    :return: 核密度估计对象\n",
    "    \"\"\"\n",
    "    if bandwidth == 'silverman':\n",
    "        bandwidth = silverman_bandwidth(data)\n",
    "    kde = gaussian_kde(data, bw_method=bandwidth)\n",
    "    return kde"
   ]
  },
  {
   "cell_type": "code",
   "execution_count": 1,
   "metadata": {},
   "outputs": [],
   "source": [
    "# KL散度计算函数\n",
    "def compute_kl_divergence(kde1, kde2, xmin, xmax, num_points=10000):\n",
    "    \"\"\"\n",
    "    计算两个核密度估计之间的KL散度。\n",
    "    :param kde1: 第一个核密度估计对象\n",
    "    :param kde2: 第二个核密度估计对象\n",
    "    :param xmin: 估计范围的最小值\n",
    "    :param xmax: 估计范围的最大值\n",
    "    :param num_points: 用于积分的点数\n",
    "    :return: KL散度值\n",
    "    \"\"\"\n",
    "    x = np.linspace(xmin, xmax, num_points)\n",
    "    p = kde1(x)\n",
    "    q = kde2(x)\n",
    "    p[p == 0] = 1e-10  # 避免对数出现零\n",
    "    q[q == 0] = 1e-10\n",
    "    kl_div = np.sum(p * np.log(p / q)) * (xmax - xmin) / num_points\n",
    "    return kl_div"
   ]
  },
  {
   "cell_type": "code",
   "execution_count": 6,
   "metadata": {},
   "outputs": [],
   "source": [
    "# 判断数据收敛的关键函数\n",
    "def determine_data_sufficiency(data, epsilon=1e-4, increment=100, bandwidth='silverman'):\n",
    "    \"\"\"\n",
    "    判断数据是否足够通过KL散度收敛。\n",
    "    :param data: 输入数据 (numpy array)\n",
    "    :param epsilon: KL散度收敛阈值\n",
    "    :param increment: 每次增加的数据量\n",
    "    :param bandwidth: KDE的带宽设置 ('silverman', 'scott' 或具体值)\n",
    "    :param total_num_data: length of all data\n",
    "    :return: 收敛时的数据量\n",
    "    \"\"\"\n",
    "    n = len(data)\n",
    "    for i in range(increment, n, increment):\n",
    "        kde1 = compute_kde(data[:i], bandwidth)\n",
    "        kde2 = compute_kde(data[:i + increment], bandwidth)\n",
    "        xmin, xmax = min(data[:i]), max(data[:i])\n",
    "\n",
    "        # 生成x范围上的KDE结果\n",
    "        x = np.linspace(xmin, xmax, n)\n",
    "        p = kde1(x)\n",
    "        q = kde2(x)\n",
    "\n",
    "        # 归一化KDE结果\n",
    "        dx = (xmax - xmin) / len(x)\n",
    "        p_normalized = p / (np.sum(p) * dx)\n",
    "        q_normalized = q / (np.sum(q) * dx)\n",
    "\n",
    "        # 计算KL散度\n",
    "        p_normalized = np.where(p_normalized > 0, p_normalized, 1e-10)\n",
    "        q_normalized = np.where(q_normalized > 0, q_normalized, 1e-10)\n",
    "        kl_div = np.sum(p_normalized * np.log(p_normalized / q_normalized)) * dx\n",
    "\n",
    "        # 判断是否收敛\n",
    "        if kl_div < epsilon:\n",
    "            return i\n",
    "       \n",
    "    return n"
   ]
  },
  {
   "cell_type": "code",
   "execution_count": 7,
   "metadata": {},
   "outputs": [],
   "source": [
    "# 可视化一个特征的核密度估计随数据量变化的情况\n",
    "def plot_kde_convergence(data, increments, bandwidth='silverman'):\n",
    "    plt.figure(figsize=(10, 6))\n",
    "    for i in range(1, len(data)//increments + 1):\n",
    "        kde = compute_kde(data[:i * increments], bandwidth)\n",
    "        x = np.linspace(min(data), max(data), 1000)\n",
    "        plt.plot(x, kde(x), label=f\"Data size: {i * increments}\")\n",
    "    plt.title(\"KDE Convergence with Increasing Data Size\")\n",
    "    plt.xlabel(\"Value\")\n",
    "    plt.ylabel(\"Density\")\n",
    "    plt.legend()\n",
    "    plt.show()"
   ]
  },
  {
   "cell_type": "code",
   "execution_count": 2,
   "metadata": {},
   "outputs": [
    {
     "ename": "NameError",
     "evalue": "name 'np' is not defined",
     "output_type": "error",
     "traceback": [
      "\u001b[1;31m---------------------------------------------------------------------------\u001b[0m",
      "\u001b[1;31mNameError\u001b[0m                                 Traceback (most recent call last)",
      "Cell \u001b[1;32mIn[2], line 4\u001b[0m\n\u001b[0;32m      1\u001b[0m \u001b[38;5;66;03m# 示例：鼠标序列数据的分析\u001b[39;00m\n\u001b[0;32m      2\u001b[0m \n\u001b[0;32m      3\u001b[0m \u001b[38;5;66;03m# 在这里读数据===========\u001b[39;00m\n\u001b[1;32m----> 4\u001b[0m \u001b[43mnp\u001b[49m\u001b[38;5;241m.\u001b[39mrandom\u001b[38;5;241m.\u001b[39mseed(\u001b[38;5;241m42\u001b[39m)\n\u001b[0;32m      5\u001b[0m mouse_x \u001b[38;5;241m=\u001b[39m np\u001b[38;5;241m.\u001b[39mrandom\u001b[38;5;241m.\u001b[39mnormal(\u001b[38;5;241m0\u001b[39m, \u001b[38;5;241m1\u001b[39m, \u001b[38;5;241m10000\u001b[39m)  \u001b[38;5;66;03m# 模拟鼠标x坐标\u001b[39;00m\n\u001b[0;32m      6\u001b[0m mouse_y \u001b[38;5;241m=\u001b[39m np\u001b[38;5;241m.\u001b[39mrandom\u001b[38;5;241m.\u001b[39mnormal(\u001b[38;5;241m0\u001b[39m, \u001b[38;5;241m1\u001b[39m, \u001b[38;5;241m10000\u001b[39m)  \u001b[38;5;66;03m# 模拟鼠标y坐标\u001b[39;00m\n",
      "\u001b[1;31mNameError\u001b[0m: name 'np' is not defined"
     ]
    }
   ],
   "source": [
    "# 示例：鼠标序列数据的分析\n",
    "\n",
    "# 在这里读数据===========\n",
    "np.random.seed(42)\n",
    "mouse_x = np.random.normal(0, 1, 10000)  # 模拟鼠标x坐标\n",
    "mouse_y = np.random.normal(0, 1, 10000)  # 模拟鼠标y坐标\n",
    "mouse_speed = np.abs(np.random.normal(0.5, 0.2, 10000))  # 模拟鼠标速度\n",
    "#===========\n",
    "\n",
    "#=========修改这个=========\n",
    "# 分别对每个特征判断数据收敛量\n",
    "sufficient_x = determine_data_sufficiency(mouse_x, epsilon=1e-4, increment=200)\n",
    "sufficient_y = determine_data_sufficiency(mouse_y, epsilon=1e-4, increment=200)\n",
    "sufficient_speed = determine_data_sufficiency(mouse_speed, epsilon=1e-4, increment=200)\n",
    "\n",
    "# 输出结果\n",
    "print(f\"x 坐标的足够数据量: {sufficient_x}\")\n",
    "print(f\"y 坐标的足够数据量: {sufficient_y}\")\n",
    "print(f\"速度的足够数据量: {sufficient_speed}\")\n",
    "\n",
    "\n",
    "plot_kde_convergence(mouse_x, increments=200)\n"
   ]
  }
 ],
 "metadata": {
  "kernelspec": {
   "display_name": "mouse_id",
   "language": "python",
   "name": "python3"
  },
  "language_info": {
   "codemirror_mode": {
    "name": "ipython",
    "version": 3
   },
   "file_extension": ".py",
   "mimetype": "text/x-python",
   "name": "python",
   "nbconvert_exporter": "python",
   "pygments_lexer": "ipython3",
   "version": "3.8.19"
  }
 },
 "nbformat": 4,
 "nbformat_minor": 2
}
