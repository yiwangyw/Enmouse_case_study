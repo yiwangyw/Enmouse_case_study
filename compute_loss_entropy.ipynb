{
 "cells": [
  {
   "cell_type": "code",
   "execution_count": 1,
   "metadata": {
    "_cell_guid": "b1076dfc-b9ad-4769-8c92-a6c4dae69d19",
    "_uuid": "8f2839f25d086af736a60e9eeb907d3b93b6e0e5"
   },
   "outputs": [],
   "source": [
    "import matplotlib.pyplot as plt\n",
    "import numpy as np\n",
    "import pandas as pd\n",
    "import os\n",
    "import statsmodels.api as sm\n",
    "import seaborn as sns\n",
    "import scipy.stats as stats\n",
    "from scipy.stats import anderson\n",
    "import csv\n",
    "# from pathos.multiprocessing import ThreadPool as Pool #多线程\n",
    "\n",
    "from joblib import Parallel, delayed"
   ]
  },
  {
   "cell_type": "code",
   "execution_count": 17,
   "metadata": {},
   "outputs": [],
   "source": [
    "data = pd.read_csv(\"C:/Users/Admin/数据处理代码/user7_combined_output.csv\")\n",
    "\n",
    "data = np.array(data['velocity'])"
   ]
  },
  {
   "cell_type": "code",
   "execution_count": 18,
   "metadata": {},
   "outputs": [
    {
     "name": "stdout",
     "output_type": "stream",
     "text": [
      "2.189256509876819\n"
     ]
    }
   ],
   "source": [
    "df = np.array(data)\n",
    "print(df[0])"
   ]
  },
  {
   "cell_type": "code",
   "execution_count": 19,
   "metadata": {},
   "outputs": [],
   "source": [
    "def ApEn2(s, r, m, threads):\n",
    "    s = np.squeeze(s)\n",
    "    th = r * np.std(s) #容限阈值\n",
    "    \n",
    "    def phi(m):\n",
    "        n = len(s)\n",
    "        x = s[np.arange(n-m+1).reshape(-1,1) + np.arange(m)]\n",
    "        print('phi完成')\n",
    "        def ci(xi):\n",
    "            return ((np.abs(x-xi).max(1) <= th).sum()) / (n-m+1)\n",
    "        \n",
    "        c = threads.map(ci, x)\n",
    "        print('ci完成')\n",
    "        return np.sum(np.log(c)) / (n-m+1)\n",
    "    \n",
    "    return phi(m) - phi(m+1)"
   ]
  },
  {
   "cell_type": "code",
   "execution_count": 20,
   "metadata": {},
   "outputs": [],
   "source": [
    "def approximate_entropy(x, m=2, r=0.2):\n",
    "    \"\"\"\n",
    "    计算近似熵\n",
    "    x: 时间序列\n",
    "    m: 子序列的长度，默认为2\n",
    "    r: 差值系数，默认为0.2\n",
    "    \"\"\"\n",
    "    \n",
    "    n = len(x)\n",
    "    # 计算单个子序列的欧几里得距离\n",
    "    def distance(xi, xj):\n",
    "        return np.abs(xi - xj)\n",
    "\n",
    "    # 计算两个子序列之间的最大差值\n",
    "    def max_distance(subsequence, subsequence_i):\n",
    "        return np.max(np.abs(subsequence - subsequence_i))\n",
    "\n",
    "    a = 0\n",
    "    b = 0\n",
    "    for i in range(n-m-1):\n",
    "        a += np.sum(distance(x[i:i+m], x[i+m]) <= r)\n",
    "        b += np.sum(distance(x[i:i+m+1], x[i+m+1]) <= r)\n",
    "    return -np.log(a/b)"
   ]
  },
  {
   "cell_type": "code",
   "execution_count": 21,
   "metadata": {},
   "outputs": [],
   "source": [
    "def calculate_entropy(i, df, r):\n",
    "   return approximate_entropy(df, i, r)"
   ]
  },
  {
   "cell_type": "code",
   "execution_count": 25,
   "metadata": {},
   "outputs": [
    {
     "name": "stdout",
     "output_type": "stream",
     "text": [
      "Completed calculating entropies\n"
     ]
    }
   ],
   "source": [
    "entropy_list = []\n",
    "std = np.std(df)\n",
    "r = std * 0.2\n",
    "\n",
    "low_bound = 10\n",
    "up_bound = 300\n",
    "\n",
    "# Parallel computation of entropies\n",
    "entropy_list = Parallel(n_jobs=-1)(\n",
    "   delayed(calculate_entropy)(i, df, r) \n",
    "   for i in range(low_bound, up_bound)\n",
    ")\n",
    "\n",
    "print(\"Completed calculating entropies\")\n",
    "\n",
    "\n",
    "# Create array with lengths and entropies\n",
    "lengths = np.arange(low_bound, up_bound)\n",
    "data = pd.DataFrame({\n",
    "   'length': range(low_bound, up_bound),\n",
    "   'entropy': entropy_list\n",
    "})\n",
    "data.to_csv('entropy_results2.csv', index=False)"
   ]
  },
  {
   "cell_type": "code",
   "execution_count": null,
   "metadata": {},
   "outputs": [],
   "source": []
  }
 ],
 "metadata": {
  "kernelspec": {
   "display_name": "Python 3 (ipykernel)",
   "language": "python",
   "name": "python3"
  },
  "language_info": {
   "codemirror_mode": {
    "name": "ipython",
    "version": 3
   },
   "file_extension": ".py",
   "mimetype": "text/x-python",
   "name": "python",
   "nbconvert_exporter": "python",
   "pygments_lexer": "ipython3",
   "version": "3.8.20"
  }
 },
 "nbformat": 4,
 "nbformat_minor": 4
}
