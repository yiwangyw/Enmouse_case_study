{
 "cells": [
  {
   "cell_type": "code",
   "execution_count": 1,
   "metadata": {
    "id": "YvN7lrePI2LK",
    "tags": []
   },
   "outputs": [],
   "source": [
    "import os\n",
    "import sys\n",
    "import math\n",
    "import csv\n",
    "import pandas as pd\n",
    "\n",
    "import numpy as np\n",
    "import matplotlib.pyplot as plt\n",
    "from sklearn import metrics\n",
    "\n",
    "import torch\n",
    "from torch import nn\n",
    "import torch.nn.functional as F\n",
    "from torch.autograd import Variable\n",
    "from torch.utils import data\n",
    "from torch.utils.data import (\n",
    "    DataLoader,\n",
    "    RandomSampler,\n",
    "    SequentialSampler,\n",
    "    TensorDataset,\n",
    "    WeightedRandomSampler,\n",
    "    random_split\n",
    ")\n",
    "import torchvision\n",
    "from torchvision.datasets import mnist\n",
    "\n",
    "from torch.optim.lr_scheduler import CosineAnnealingLR\n",
    "from warmup_scheduler import GradualWarmupScheduler\n",
    "\n",
    "# 设置项目根目录\n",
    "project_root = \"C:/Users/Admin/Mouse\"  # 替换为您的项目根目录路径\n",
    "datautils_path = os.path.join(project_root, 'datautils')\n",
    "model_path = os.path.join(project_root, 'model')\n",
    "\n",
    "# 添加自定义模块路径\n",
    "sys.path.extend([datautils_path, model_path])\n",
    "\n",
    "# 导入自定义模块\n",
    "from data_utils import load_mouse_data, process_mouse_data\n",
    "from resnet_mouse import  BasicBlock1D, ResNet1D,resnet50_1d\n",
    "from mouse_traj_classification import MouseNeuralNetwork, MouseNeuralNetwork2\n",
    "from new_optim import SWATS\n",
    "\n",
    "# 获取当前工作目录（可选）\n",
    "pwd = os.getcwd()\n",
    "# print(pwd)\n"
   ]
  },
  {
   "cell_type": "code",
   "execution_count": 2,
   "metadata": {
    "tags": []
   },
   "outputs": [],
   "source": [
    "import random\n",
    "random_seed = 3407\n",
    "# set the random seed for pytorch\n",
    "torch.manual_seed(random_seed)\n",
    "torch.backends.cudnn.deterministic = True\n",
    "torch.backends.cudnn.benchmark = False\n",
    "\n",
    "# set the random seed for \"random\"\n",
    "random.seed(random_seed)\n",
    "\n",
    "# set the random seed for numpy\n",
    "np.random.seed(random_seed)\n",
    "device = torch.device(\"cuda\" if torch.cuda.is_available() else \"cpu\")"
   ]
  },
  {
   "cell_type": "code",
   "execution_count": 3,
   "metadata": {
    "tags": []
   },
   "outputs": [],
   "source": [
    "# 设置用户ID和窗口大小\n",
    "user_id = 7\n",
    "window_size = 100\n",
    "\n",
    "\n",
    "# 加载和处理数据\n",
    "X, label = process_mouse_data(\n",
    "    f'D:/论文数据/mouse/data/processed_data_user{user_id}/positive_samples_user{user_id}_{window_size}.json',\n",
    "    f'D:/论文数据/mouse/data/processed_data_user{user_id}/negative_samples_user{user_id}_{window_size}.json'\n",
    ")\n",
    "# 计算数据集划分长度\n",
    "\n",
    "train_len = math.floor(len(X)*0.7)\n",
    "test_len = len(X) - train_len\n"
   ]
  },
  {
   "cell_type": "code",
   "execution_count": 4,
   "metadata": {
    "id": "iOxbaLA2JqEB",
    "outputId": "deebd76c-d2d6-4231-f497-299e3af59e17",
    "tags": []
   },
   "outputs": [
    {
     "name": "stdout",
     "output_type": "stream",
     "text": [
      "\n",
      "Distribution after split:\n",
      "Training set:\n",
      "Positive: 6612, Negative: 1321\n",
      "Test set:\n",
      "Positive: 2834, Negative: 567\n"
     ]
    }
   ],
   "source": [
    "# 创建整体数据集\n",
    "dataset = torch.utils.data.TensorDataset(\n",
    "    X.float(),  # 确保输入数据是float类型\n",
    "    label.long() # 确保标签是long类型\n",
    ")\n",
    "\n",
    "# 统计正负样本数量\n",
    "pos_indices = (label == 0)  # 正样本索引\n",
    "neg_indices = (label == 1)  # 负样本索引\n",
    "pos_data = X[pos_indices]\n",
    "neg_data = X[neg_indices]\n",
    "pos_labels = label[pos_indices]\n",
    "neg_labels = label[neg_indices]\n",
    "\n",
    "\n",
    "# 计算正负样本中训练集和测试集的数量（70%训练，30%测试）\n",
    "n_pos = len(pos_data)\n",
    "n_neg = len(neg_data)\n",
    "\n",
    "train_pos_len = math.floor(n_pos * 0.7)\n",
    "test_pos_len = n_pos - train_pos_len\n",
    "\n",
    "train_neg_len = math.floor(n_neg * 0.7)\n",
    "test_neg_len = n_neg - train_neg_len\n",
    "\n",
    "# 随机打乱正负样本索引\n",
    "pos_shuffle = torch.randperm(n_pos)\n",
    "neg_shuffle = torch.randperm(n_neg)\n",
    "\n",
    "# 划分正样本：训练和测试\n",
    "train_pos = pos_data[pos_shuffle[:train_pos_len]]\n",
    "test_pos = pos_data[pos_shuffle[train_pos_len:]]\n",
    "\n",
    "train_pos_labels = pos_labels[pos_shuffle[:train_pos_len]]\n",
    "test_pos_labels = pos_labels[pos_shuffle[train_pos_len:]]\n",
    "\n",
    "# 划分负样本：训练和测试\n",
    "train_neg = neg_data[neg_shuffle[:train_neg_len]]\n",
    "test_neg = neg_data[neg_shuffle[train_neg_len:]]\n",
    "\n",
    "train_neg_labels = neg_labels[neg_shuffle[:train_neg_len]]\n",
    "test_neg_labels = neg_labels[neg_shuffle[train_neg_len:]]\n",
    "\n",
    "# 合并正负样本到训练集和测试集\n",
    "train_data = torch.cat([train_pos, train_neg])\n",
    "test_data = torch.cat([test_pos, test_neg])\n",
    "\n",
    "train_labels = torch.cat([train_pos_labels, train_neg_labels])\n",
    "test_labels = torch.cat([test_pos_labels, test_neg_labels])\n",
    "\n",
    "# 随机打乱训练集和测试集数据\n",
    "train_indices = torch.randperm(len(train_data))\n",
    "test_indices = torch.randperm(len(test_data))\n",
    "\n",
    "train_data = train_data[train_indices]\n",
    "train_labels = train_labels[train_indices]\n",
    "\n",
    "test_data = test_data[test_indices]\n",
    "test_labels = test_labels[test_indices]\n",
    "\n",
    "# 创建训练和测试数据集\n",
    "train_dataset = torch.utils.data.TensorDataset(train_data, train_labels)\n",
    "test_dataset = torch.utils.data.TensorDataset(test_data, test_labels)\n",
    "# print(len(test_dataset))\n",
    "# 打印划分后的分布信息\n",
    "print(\"\\nDistribution after split:\")\n",
    "print(\"Training set:\")\n",
    "print(f\"Positive: {(train_labels == 0).sum().item()}, Negative: {(train_labels == 1).sum().item()}\")\n",
    "print(\"Test set:\")\n",
    "print(f\"Positive: {(test_labels == 0).sum().item()}, Negative: {(test_labels == 1).sum().item()}\")\n"
   ]
  },
  {
   "cell_type": "code",
   "execution_count": 5,
   "metadata": {
    "id": "mfwYklq6KK_i",
    "outputId": "19c08381-49f4-4529-fa40-bb8676f0a61a",
    "tags": []
   },
   "outputs": [],
   "source": [
    "# # 计算类别权重\n",
    "# class_count = [len(label[label == t]) for t in torch.unique(label)]\n",
    "# weights = [1.0 if t == 1 else 1.0 for t in label.cpu().numpy()]  # 转换为numpy数组\n",
    "# sample_weights = torch.FloatTensor(weights)\n",
    "# sampler = WeightedRandomSampler(sample_weights, len(sample_weights))\n",
    "\n",
    "\n",
    "# 设置合适的batch_size\n",
    "# train_batch_size = 64  # 较小的batch_size，可以更好地训练  \n",
    "# test_batch_size = 64  # 测试集也可以用大一点的batch_size\n",
    "\n",
    "# 创建数据加载器\n",
    "# X_train_loader = torch.utils.data.DataLoader(\n",
    "#     train_dataset, \n",
    "#     batch_size=train_batch_size,\n",
    "#     shuffle=True,\n",
    "#     drop_last=False,\n",
    "#     pin_memory=True\n",
    "# )\n",
    "\n",
    "\n",
    "# X_test_loader = torch.utils.data.DataLoader(\n",
    "#     test_dataset, \n",
    "#     batch_size=test_batch_size,\n",
    "#     shuffle=False,\n",
    "#     drop_last=False,\n",
    "#     pin_memory=True\n",
    "# )"
   ]
  },
  {
   "cell_type": "code",
   "execution_count": 6,
   "metadata": {},
   "outputs": [],
   "source": [
    "# 保存各个数据加载器\n",
    "# 创建目录\n",
    "import pickle\n",
    "# 创建目录\n",
    "base_path = f'D:/论文数据/mouse/data_pkl/processed_data_user{user_id}'\n",
    "os.makedirs(base_path, exist_ok=True)  # exist_ok=True 表示如果目录已存在则不报错\n",
    "\n",
    "# 指定保存路径\n",
    "train_dataset_path = f'{base_path}/train_dataset_user{user_id}_{window_size}.pkl'\n",
    "test_dataset_path = f'{base_path}/test_dataset_user{user_id}_{window_size}.pkl'\n",
    "\n",
    "with open(train_dataset_path, 'wb') as f:\n",
    "    torch.save(train_dataset, f, pickle_module=pickle)\n",
    "\n",
    "with open(test_dataset_path, 'wb') as f:\n",
    "    torch.save(test_dataset, f, pickle_module=pickle)"
   ]
  },
  {
   "cell_type": "code",
   "execution_count": 7,
   "metadata": {},
   "outputs": [],
   "source": [
    "\n",
    "# 加载时\n",
    "with open(train_dataset_path, 'rb') as f:\n",
    "    train_dataset = torch.load(f, pickle_module=pickle)\n",
    "\n",
    "with open(test_dataset_path, 'rb') as f:\n",
    "    test_dataset = torch.load(f, pickle_module=pickle)\n",
    "\n",
    "# 重新创建 DataLoader\n",
    "X_train_loader = DataLoader(train_dataset, batch_size=128, shuffle=True)\n",
    "X_test_loader = DataLoader(test_dataset, batch_size=128, shuffle=True)"
   ]
  },
  {
   "cell_type": "code",
   "execution_count": 8,
   "metadata": {
    "id": "V7RKo17yLTGS",
    "outputId": "c9a5bee3-d05c-48a4-fed3-6b4c334cc365",
    "tags": []
   },
   "outputs": [
    {
     "name": "stdout",
     "output_type": "stream",
     "text": [
      "数据维度: torch.Size([128, 1, 100])\n",
      "标签维度: torch.Size([128])\n",
      "数据类型: torch.float32\n",
      "标签类型: torch.float32\n"
     ]
    }
   ],
   "source": [
    "# 首先从数据中获取序列长度和特征数量\n",
    "sequence_length = X.shape[2]  # 序列长度\n",
    "num_features = X.shape[1]     # 特征数量\n",
    "\n",
    "# 修改模型初始化部分\n",
    "model = MouseNeuralNetwork2(length_single_mouse_traj=window_size)\n",
    "model = model.to(device)  # 将模型移动到指定设备\n",
    "\n",
    "max_lr = 1e-4\n",
    "min_lr = 1e-7\n",
    "warmup_epochs = 10\n",
    "total_epochs = 50\n",
    "\n",
    "\n",
    "# 3. 初始化优化器 (在模型移动到GPU之后初始化优化器)\n",
    "optimizer = SWATS(model.parameters(), lr=1e-3)\n",
    "optim_SGD = torch.optim.SGD(\n",
    "    model.parameters(), \n",
    "    lr=1e-4, \n",
    "    momentum=0.80, \n",
    "    dampening=0, \n",
    "    weight_decay=1e-3, \n",
    "    nesterov=False\n",
    ")\n",
    "\n",
    "optim_ADAM = torch.optim.Adam(\n",
    "    model.parameters(), \n",
    "    lr=min_lr,\n",
    "    weight_decay=1e-3\n",
    ")\n",
    "\n",
    "# After warmup, use cosine annealing for (total_epochs - warmup_epochs) steps\n",
    "cosine_scheduler = CosineAnnealingLR(optim_ADAM, T_max=(total_epochs - warmup_epochs), eta_min=min_lr)\n",
    "\n",
    "# The multiplier is how much you multiply the initial LR to get the target LR at the end of warmup.\n",
    "# If initial LR = 1e-7 and we want 1e-3 after warmup:\n",
    "# multiplier = (desired_lr_after_warmup) / (initial_lr) = 1e-3 / 1e-7 = 10,000\n",
    "multiplier = max_lr / min_lr\n",
    "\n",
    "warmup_scheduler = GradualWarmupScheduler(optim_ADAM, multiplier=multiplier, total_epoch=warmup_epochs, after_scheduler=cosine_scheduler)\n",
    "\n",
    "# 检查第一个batch的数据\n",
    "for batch_data, batch_labels in X_train_loader:\n",
    "    print(\"数据维度:\", batch_data.shape)\n",
    "    print(\"标签维度:\", batch_labels.shape)\n",
    "    print(\"数据类型:\", batch_data.dtype)\n",
    "    print(\"标签类型:\", batch_labels.dtype)\n",
    "    break"
   ]
  },
  {
   "cell_type": "code",
   "execution_count": 9,
   "metadata": {
    "tags": []
   },
   "outputs": [],
   "source": [
    "from torch.utils.tensorboard import SummaryWriter\n",
    "from tqdm import tqdm\n",
    "import torch\n",
    "import torch.nn as nn\n",
    "from IPython.display import clear_output\n",
    "import matplotlib.pyplot as plt\n",
    "import os\n",
    "\n",
    "def train_ADAM(model, X_train_loader, optimizer=None, scheduler=None, epoch=300, user_id=None, window_size=None):\n",
    "    device = torch.device(\"cuda\" if torch.cuda.is_available() else \"cpu\")\n",
    "    loss_function = nn.CrossEntropyLoss()\n",
    "    model = model.to(device)\n",
    "    loss_function = loss_function.to(device)\n",
    "    \n",
    "    losslist = []\n",
    "    correctlist = []\n",
    "    train_correctlist = []\n",
    "    \n",
    "    writer = SummaryWriter('/root/tf-logs')\n",
    "    pbar = tqdm(total=epoch, desc='Training Progress')\n",
    "    \n",
    "    for i in range(epoch):\n",
    "        model.train()\n",
    "        totalloss = 0\n",
    "        correct = 0\n",
    "        total = 0\n",
    "        num_batches = 0\n",
    "        \n",
    "        for data in X_train_loader:\n",
    "            X, label = data\n",
    "            X = X.float().to(device)\n",
    "            label = label.long().to(device)\n",
    "            \n",
    "            optimizer.zero_grad()\n",
    "            pred = model(X).squeeze()\n",
    "            loss = loss_function(pred, label)\n",
    "           \n",
    "            totalloss += loss.item()\n",
    "            num_batches += 1\n",
    "            _, pred_id = torch.max(pred, dim=1)\n",
    "            correct += (pred_id == label).sum().cpu().detach().numpy()\n",
    "            total += label.size(0)\n",
    "            \n",
    "            loss.backward()\n",
    "            optimizer.step()\n",
    "        \n",
    "        if scheduler:\n",
    "            scheduler.step()\n",
    "        \n",
    "        current_lr = scheduler.get_last_lr()[0]\n",
    "        print(f\"Epoch {i+1}: LR = {current_lr:.8f}\")\n",
    "\n",
    "        train_acc = correct / total\n",
    "        avg_loss = totalloss / num_batches\n",
    "        losslist.append(avg_loss)\n",
    "        \n",
    "        pbar.update(1)\n",
    "        pbar.set_postfix({\n",
    "            'loss': f'{avg_loss:.4f}',\n",
    "            'acc': f'{train_acc:.4f}'\n",
    "        })\n",
    "        \n",
    "        if (i + 1) % 100 == 0:\n",
    "            print(f'Epoch {i+1}/{epoch} - Loss: {avg_loss:.4f}, Accuracy: {train_acc:.4f}')\n",
    "            correctlist.append(train_acc)\n",
    "            train_correctlist.append(train_acc)\n",
    "            writer.add_scalar('Training loss', avg_loss, i)\n",
    "            writer.add_scalar('Training accuracy', train_acc, i)\n",
    "    \n",
    "    pbar.close()\n",
    "    writer.close()\n",
    "    \n",
    "    # 绘制损失曲线\n",
    "    plt.figure(figsize=(10, 5))\n",
    "    plt.plot(range(1, epoch + 1), losslist, label='Training Loss')\n",
    "    plt.xlabel('Epoch')\n",
    "    plt.ylabel('Loss')  \n",
    "    plt.title(f'user_{user_id} window{window_size}+Resnet Training Loss')\n",
    "    plt.legend()\n",
    "    plt.grid(True)\n",
    "    plt.tight_layout()\n",
    "    \n",
    "    # 创建保存路径（如果不存在）\n",
    "    save_path = 'D:/论文数据/mouse/model_pt/resnet/Loss_log'\n",
    "    os.makedirs(save_path, exist_ok=True)\n",
    "    \n",
    "    # 保存图像，文件名与title一致\n",
    "    plt.savefig(os.path.join(save_path, f'user_{user_id} window{window_size}+Resnet Training Loss.png'))\n",
    "    plt.show()\n",
    "    \n",
    "    return optimizer, epoch, losslist, correctlist, train_correctlist"
   ]
  },
  {
   "cell_type": "code",
   "execution_count": 10,
   "metadata": {
    "scrolled": true,
    "tags": []
   },
   "outputs": [
    {
     "name": "stderr",
     "output_type": "stream",
     "text": [
      "Training Progress:   2%|▊                                      | 1/50 [00:01<00:52,  1.08s/it, loss=0.7249, acc=0.4950]"
     ]
    },
    {
     "name": "stdout",
     "output_type": "stream",
     "text": [
      "Epoch 1: LR = 0.00001009\n"
     ]
    },
    {
     "name": "stderr",
     "output_type": "stream",
     "text": [
      "Training Progress:   4%|█▌                                     | 2/50 [00:02<00:55,  1.15s/it, loss=0.5071, acc=0.7747]"
     ]
    },
    {
     "name": "stdout",
     "output_type": "stream",
     "text": [
      "Epoch 2: LR = 0.00002008\n"
     ]
    },
    {
     "name": "stderr",
     "output_type": "stream",
     "text": [
      "Training Progress:   6%|██▎                                    | 3/50 [00:03<01:00,  1.28s/it, loss=0.3416, acc=0.8637]"
     ]
    },
    {
     "name": "stdout",
     "output_type": "stream",
     "text": [
      "Epoch 3: LR = 0.00003007\n"
     ]
    },
    {
     "name": "stderr",
     "output_type": "stream",
     "text": [
      "Training Progress:   8%|███                                    | 4/50 [00:05<01:00,  1.31s/it, loss=0.2243, acc=0.9142]"
     ]
    },
    {
     "name": "stdout",
     "output_type": "stream",
     "text": [
      "Epoch 4: LR = 0.00004006\n"
     ]
    },
    {
     "name": "stderr",
     "output_type": "stream",
     "text": [
      "Training Progress:  10%|███▉                                   | 5/50 [00:06<00:59,  1.33s/it, loss=0.0791, acc=0.9824]"
     ]
    },
    {
     "name": "stdout",
     "output_type": "stream",
     "text": [
      "Epoch 5: LR = 0.00005005\n"
     ]
    },
    {
     "name": "stderr",
     "output_type": "stream",
     "text": [
      "Training Progress:  12%|████▋                                  | 6/50 [00:07<00:59,  1.35s/it, loss=0.0303, acc=0.9941]"
     ]
    },
    {
     "name": "stdout",
     "output_type": "stream",
     "text": [
      "Epoch 6: LR = 0.00006004\n"
     ]
    },
    {
     "name": "stderr",
     "output_type": "stream",
     "text": [
      "Training Progress:  14%|█████▍                                 | 7/50 [00:09<00:58,  1.37s/it, loss=0.0420, acc=0.9871]"
     ]
    },
    {
     "name": "stdout",
     "output_type": "stream",
     "text": [
      "Epoch 7: LR = 0.00007003\n"
     ]
    },
    {
     "name": "stderr",
     "output_type": "stream",
     "text": [
      "Training Progress:  16%|██████▏                                | 8/50 [00:10<00:56,  1.36s/it, loss=0.0896, acc=0.9670]"
     ]
    },
    {
     "name": "stdout",
     "output_type": "stream",
     "text": [
      "Epoch 8: LR = 0.00008002\n"
     ]
    },
    {
     "name": "stderr",
     "output_type": "stream",
     "text": [
      "Training Progress:  18%|███████                                | 9/50 [00:11<00:55,  1.36s/it, loss=0.0848, acc=0.9704]"
     ]
    },
    {
     "name": "stdout",
     "output_type": "stream",
     "text": [
      "Epoch 9: LR = 0.00009001\n"
     ]
    },
    {
     "name": "stderr",
     "output_type": "stream",
     "text": [
      "Training Progress:  20%|███████▌                              | 10/50 [00:13<00:54,  1.36s/it, loss=0.0559, acc=0.9810]"
     ]
    },
    {
     "name": "stdout",
     "output_type": "stream",
     "text": [
      "Epoch 10: LR = 0.00010000\n"
     ]
    },
    {
     "name": "stderr",
     "output_type": "stream",
     "text": [
      "D:\\conda\\envs\\mouse\\lib\\site-packages\\torch\\optim\\lr_scheduler.py:1063: UserWarning: To get the last learning rate computed by the scheduler, please use `get_last_lr()`.\n",
      "  _warn_get_lr_called_within_step(self)\n",
      "Training Progress:  22%|████████▎                             | 11/50 [00:14<00:53,  1.38s/it, loss=0.0181, acc=0.9943]"
     ]
    },
    {
     "name": "stdout",
     "output_type": "stream",
     "text": [
      "Epoch 11: LR = 0.00010000\n"
     ]
    },
    {
     "name": "stderr",
     "output_type": "stream",
     "text": [
      "Training Progress:  24%|█████████                             | 12/50 [00:16<00:51,  1.36s/it, loss=0.0256, acc=0.9913]"
     ]
    },
    {
     "name": "stdout",
     "output_type": "stream",
     "text": [
      "Epoch 12: LR = 0.00010000\n"
     ]
    },
    {
     "name": "stderr",
     "output_type": "stream",
     "text": [
      "Training Progress:  26%|█████████▉                            | 13/50 [00:17<00:50,  1.36s/it, loss=0.0315, acc=0.9869]"
     ]
    },
    {
     "name": "stdout",
     "output_type": "stream",
     "text": [
      "Epoch 13: LR = 0.00010000\n"
     ]
    },
    {
     "name": "stderr",
     "output_type": "stream",
     "text": [
      "Training Progress:  28%|██████████▋                           | 14/50 [00:18<00:48,  1.35s/it, loss=0.0332, acc=0.9883]"
     ]
    },
    {
     "name": "stdout",
     "output_type": "stream",
     "text": [
      "Epoch 14: LR = 0.00010000\n"
     ]
    },
    {
     "name": "stderr",
     "output_type": "stream",
     "text": [
      "Training Progress:  30%|███████████▍                          | 15/50 [00:20<00:47,  1.36s/it, loss=0.0262, acc=0.9903]"
     ]
    },
    {
     "name": "stdout",
     "output_type": "stream",
     "text": [
      "Epoch 15: LR = 0.00010000\n"
     ]
    },
    {
     "name": "stderr",
     "output_type": "stream",
     "text": [
      "Training Progress:  32%|████████████▏                         | 16/50 [00:21<00:46,  1.36s/it, loss=0.0141, acc=0.9948]"
     ]
    },
    {
     "name": "stdout",
     "output_type": "stream",
     "text": [
      "Epoch 16: LR = 0.00010000\n"
     ]
    },
    {
     "name": "stderr",
     "output_type": "stream",
     "text": [
      "Training Progress:  34%|████████████▉                         | 17/50 [00:22<00:45,  1.37s/it, loss=0.0044, acc=0.9989]"
     ]
    },
    {
     "name": "stdout",
     "output_type": "stream",
     "text": [
      "Epoch 17: LR = 0.00010000\n"
     ]
    },
    {
     "name": "stderr",
     "output_type": "stream",
     "text": [
      "Training Progress:  36%|█████████████▋                        | 18/50 [00:24<00:43,  1.37s/it, loss=0.0030, acc=0.9990]"
     ]
    },
    {
     "name": "stdout",
     "output_type": "stream",
     "text": [
      "Epoch 18: LR = 0.00010000\n"
     ]
    },
    {
     "name": "stderr",
     "output_type": "stream",
     "text": [
      "Training Progress:  38%|██████████████▍                       | 19/50 [00:25<00:42,  1.36s/it, loss=0.0028, acc=0.9994]"
     ]
    },
    {
     "name": "stdout",
     "output_type": "stream",
     "text": [
      "Epoch 19: LR = 0.00010000\n"
     ]
    },
    {
     "name": "stderr",
     "output_type": "stream",
     "text": [
      "Training Progress:  40%|███████████████▏                      | 20/50 [00:26<00:40,  1.35s/it, loss=0.0066, acc=0.9979]"
     ]
    },
    {
     "name": "stdout",
     "output_type": "stream",
     "text": [
      "Epoch 20: LR = 0.00010000\n"
     ]
    },
    {
     "name": "stderr",
     "output_type": "stream",
     "text": [
      "Training Progress:  42%|███████████████▉                      | 21/50 [00:28<00:39,  1.35s/it, loss=0.0109, acc=0.9966]"
     ]
    },
    {
     "name": "stdout",
     "output_type": "stream",
     "text": [
      "Epoch 21: LR = 0.00010000\n"
     ]
    },
    {
     "name": "stderr",
     "output_type": "stream",
     "text": [
      "Training Progress:  44%|████████████████▋                     | 22/50 [00:29<00:37,  1.35s/it, loss=0.0136, acc=0.9960]"
     ]
    },
    {
     "name": "stdout",
     "output_type": "stream",
     "text": [
      "Epoch 22: LR = 0.00010000\n"
     ]
    },
    {
     "name": "stderr",
     "output_type": "stream",
     "text": [
      "Training Progress:  46%|█████████████████▍                    | 23/50 [00:31<00:36,  1.37s/it, loss=0.0139, acc=0.9958]"
     ]
    },
    {
     "name": "stdout",
     "output_type": "stream",
     "text": [
      "Epoch 23: LR = 0.00010000\n"
     ]
    },
    {
     "name": "stderr",
     "output_type": "stream",
     "text": [
      "Training Progress:  48%|██████████████████▏                   | 24/50 [00:32<00:35,  1.37s/it, loss=0.0071, acc=0.9979]"
     ]
    },
    {
     "name": "stdout",
     "output_type": "stream",
     "text": [
      "Epoch 24: LR = 0.00010000\n"
     ]
    },
    {
     "name": "stderr",
     "output_type": "stream",
     "text": [
      "Training Progress:  50%|███████████████████                   | 25/50 [00:33<00:34,  1.39s/it, loss=0.0136, acc=0.9952]"
     ]
    },
    {
     "name": "stdout",
     "output_type": "stream",
     "text": [
      "Epoch 25: LR = 0.00010000\n"
     ]
    },
    {
     "name": "stderr",
     "output_type": "stream",
     "text": [
      "Training Progress:  52%|███████████████████▊                  | 26/50 [00:35<00:33,  1.38s/it, loss=0.0097, acc=0.9968]"
     ]
    },
    {
     "name": "stdout",
     "output_type": "stream",
     "text": [
      "Epoch 26: LR = 0.00010000\n"
     ]
    },
    {
     "name": "stderr",
     "output_type": "stream",
     "text": [
      "Training Progress:  54%|████████████████████▌                 | 27/50 [00:36<00:31,  1.35s/it, loss=0.0054, acc=0.9980]"
     ]
    },
    {
     "name": "stdout",
     "output_type": "stream",
     "text": [
      "Epoch 27: LR = 0.00010000\n"
     ]
    },
    {
     "name": "stderr",
     "output_type": "stream",
     "text": [
      "Training Progress:  56%|█████████████████████▎                | 28/50 [00:37<00:29,  1.36s/it, loss=0.0039, acc=0.9987]"
     ]
    },
    {
     "name": "stdout",
     "output_type": "stream",
     "text": [
      "Epoch 28: LR = 0.00010000\n"
     ]
    },
    {
     "name": "stderr",
     "output_type": "stream",
     "text": [
      "Training Progress:  58%|██████████████████████                | 29/50 [00:39<00:28,  1.35s/it, loss=0.0020, acc=0.9995]"
     ]
    },
    {
     "name": "stdout",
     "output_type": "stream",
     "text": [
      "Epoch 29: LR = 0.00010000\n"
     ]
    },
    {
     "name": "stderr",
     "output_type": "stream",
     "text": [
      "Training Progress:  60%|██████████████████████▊               | 30/50 [00:40<00:26,  1.33s/it, loss=0.0017, acc=0.9995]"
     ]
    },
    {
     "name": "stdout",
     "output_type": "stream",
     "text": [
      "Epoch 30: LR = 0.00010000\n"
     ]
    },
    {
     "name": "stderr",
     "output_type": "stream",
     "text": [
      "Training Progress:  62%|███████████████████████▌              | 31/50 [00:41<00:25,  1.33s/it, loss=0.0006, acc=1.0000]"
     ]
    },
    {
     "name": "stdout",
     "output_type": "stream",
     "text": [
      "Epoch 31: LR = 0.00010000\n"
     ]
    },
    {
     "name": "stderr",
     "output_type": "stream",
     "text": [
      "Training Progress:  64%|████████████████████████▎             | 32/50 [00:43<00:23,  1.33s/it, loss=0.0003, acc=1.0000]"
     ]
    },
    {
     "name": "stdout",
     "output_type": "stream",
     "text": [
      "Epoch 32: LR = 0.00010000\n"
     ]
    },
    {
     "name": "stderr",
     "output_type": "stream",
     "text": [
      "Training Progress:  66%|█████████████████████████             | 33/50 [00:44<00:22,  1.33s/it, loss=0.0003, acc=1.0000]"
     ]
    },
    {
     "name": "stdout",
     "output_type": "stream",
     "text": [
      "Epoch 33: LR = 0.00010000\n"
     ]
    },
    {
     "name": "stderr",
     "output_type": "stream",
     "text": [
      "Training Progress:  68%|█████████████████████████▊            | 34/50 [00:45<00:21,  1.33s/it, loss=0.0005, acc=1.0000]"
     ]
    },
    {
     "name": "stdout",
     "output_type": "stream",
     "text": [
      "Epoch 34: LR = 0.00010000\n"
     ]
    },
    {
     "name": "stderr",
     "output_type": "stream",
     "text": [
      "Training Progress:  70%|██████████████████████████▌           | 35/50 [00:47<00:19,  1.33s/it, loss=0.0005, acc=0.9999]"
     ]
    },
    {
     "name": "stdout",
     "output_type": "stream",
     "text": [
      "Epoch 35: LR = 0.00010000\n"
     ]
    },
    {
     "name": "stderr",
     "output_type": "stream",
     "text": [
      "Training Progress:  72%|███████████████████████████▎          | 36/50 [00:48<00:18,  1.32s/it, loss=0.0003, acc=0.9999]"
     ]
    },
    {
     "name": "stdout",
     "output_type": "stream",
     "text": [
      "Epoch 36: LR = 0.00010000\n"
     ]
    },
    {
     "name": "stderr",
     "output_type": "stream",
     "text": [
      "Training Progress:  74%|████████████████████████████          | 37/50 [00:49<00:17,  1.32s/it, loss=0.0002, acc=1.0000]"
     ]
    },
    {
     "name": "stdout",
     "output_type": "stream",
     "text": [
      "Epoch 37: LR = 0.00010000\n"
     ]
    },
    {
     "name": "stderr",
     "output_type": "stream",
     "text": [
      "Training Progress:  76%|████████████████████████████▉         | 38/50 [00:51<00:15,  1.32s/it, loss=0.0002, acc=1.0000]"
     ]
    },
    {
     "name": "stdout",
     "output_type": "stream",
     "text": [
      "Epoch 38: LR = 0.00010000\n"
     ]
    },
    {
     "name": "stderr",
     "output_type": "stream",
     "text": [
      "Training Progress:  78%|█████████████████████████████▋        | 39/50 [00:52<00:14,  1.31s/it, loss=0.0002, acc=1.0000]"
     ]
    },
    {
     "name": "stdout",
     "output_type": "stream",
     "text": [
      "Epoch 39: LR = 0.00010000\n"
     ]
    },
    {
     "name": "stderr",
     "output_type": "stream",
     "text": [
      "Training Progress:  80%|██████████████████████████████▍       | 40/50 [00:53<00:13,  1.32s/it, loss=0.0002, acc=1.0000]"
     ]
    },
    {
     "name": "stdout",
     "output_type": "stream",
     "text": [
      "Epoch 40: LR = 0.00010000\n"
     ]
    },
    {
     "name": "stderr",
     "output_type": "stream",
     "text": [
      "Training Progress:  82%|███████████████████████████████▏      | 41/50 [00:54<00:11,  1.31s/it, loss=0.0002, acc=1.0000]"
     ]
    },
    {
     "name": "stdout",
     "output_type": "stream",
     "text": [
      "Epoch 41: LR = 0.00010000\n"
     ]
    },
    {
     "name": "stderr",
     "output_type": "stream",
     "text": [
      "Training Progress:  84%|███████████████████████████████▉      | 42/50 [00:56<00:10,  1.31s/it, loss=0.0003, acc=1.0000]"
     ]
    },
    {
     "name": "stdout",
     "output_type": "stream",
     "text": [
      "Epoch 42: LR = 0.00010000\n"
     ]
    },
    {
     "name": "stderr",
     "output_type": "stream",
     "text": [
      "Training Progress:  86%|████████████████████████████████▋     | 43/50 [00:57<00:09,  1.31s/it, loss=0.0002, acc=1.0000]"
     ]
    },
    {
     "name": "stdout",
     "output_type": "stream",
     "text": [
      "Epoch 43: LR = 0.00010000\n"
     ]
    },
    {
     "name": "stderr",
     "output_type": "stream",
     "text": [
      "Training Progress:  88%|█████████████████████████████████▍    | 44/50 [00:58<00:07,  1.31s/it, loss=0.0002, acc=1.0000]"
     ]
    },
    {
     "name": "stdout",
     "output_type": "stream",
     "text": [
      "Epoch 44: LR = 0.00010000\n"
     ]
    },
    {
     "name": "stderr",
     "output_type": "stream",
     "text": [
      "Training Progress:  90%|██████████████████████████████████▏   | 45/50 [01:00<00:06,  1.32s/it, loss=0.0002, acc=1.0000]"
     ]
    },
    {
     "name": "stdout",
     "output_type": "stream",
     "text": [
      "Epoch 45: LR = 0.00010000\n"
     ]
    },
    {
     "name": "stderr",
     "output_type": "stream",
     "text": [
      "Training Progress:  92%|██████████████████████████████████▉   | 46/50 [01:01<00:05,  1.31s/it, loss=0.0001, acc=1.0000]"
     ]
    },
    {
     "name": "stdout",
     "output_type": "stream",
     "text": [
      "Epoch 46: LR = 0.00010000\n"
     ]
    },
    {
     "name": "stderr",
     "output_type": "stream",
     "text": [
      "Training Progress:  94%|███████████████████████████████████▋  | 47/50 [01:02<00:03,  1.32s/it, loss=0.0003, acc=1.0000]"
     ]
    },
    {
     "name": "stdout",
     "output_type": "stream",
     "text": [
      "Epoch 47: LR = 0.00010000\n"
     ]
    },
    {
     "name": "stderr",
     "output_type": "stream",
     "text": [
      "Training Progress:  96%|████████████████████████████████████▍ | 48/50 [01:04<00:02,  1.32s/it, loss=0.0001, acc=1.0000]"
     ]
    },
    {
     "name": "stdout",
     "output_type": "stream",
     "text": [
      "Epoch 48: LR = 0.00010000\n"
     ]
    },
    {
     "name": "stderr",
     "output_type": "stream",
     "text": [
      "Training Progress:  98%|█████████████████████████████████████▏| 49/50 [01:05<00:01,  1.31s/it, loss=0.0001, acc=1.0000]"
     ]
    },
    {
     "name": "stdout",
     "output_type": "stream",
     "text": [
      "Epoch 49: LR = 0.00010000\n"
     ]
    },
    {
     "name": "stderr",
     "output_type": "stream",
     "text": [
      "Training Progress: 100%|██████████████████████████████████████| 50/50 [01:06<00:00,  1.34s/it, loss=0.0002, acc=1.0000]"
     ]
    },
    {
     "name": "stdout",
     "output_type": "stream",
     "text": [
      "Epoch 50: LR = 0.00010000\n"
     ]
    },
    {
     "name": "stderr",
     "output_type": "stream",
     "text": [
      "\n"
     ]
    },
    {
     "data": {
      "image/png": "[encoded data removed]",
      "text/plain": [
       "<Figure size 1000x500 with 1 Axes>"
      ]
     },
     "metadata": {},
     "output_type": "display_data"
    }
   ],
   "source": [
    "# 仅使用训练集进行训练\n",
    "optim_ADAM, epoch, losslist, correctlist, train_correctlist = train_ADAM(\n",
    "    model, \n",
    "    X_train_loader, \n",
    "    optimizer=optim_ADAM, \n",
    "    scheduler=warmup_scheduler,\n",
    "    epoch=total_epochs,\n",
    "    user_id=user_id, window_size=window_size\n",
    ")"
   ]
  },
  {
   "cell_type": "code",
   "execution_count": 11,
   "metadata": {
    "tags": []
   },
   "outputs": [],
   "source": [
    "# 保存模型\n",
    "state = {'model': model.state_dict()}\n",
    "torch.save(state, f'D:/论文数据/mouse/model_pt/resnet/only-adam-user{user_id}_{window_size}-path.pt')"
   ]
  },
  {
   "cell_type": "code",
   "execution_count": 12,
   "metadata": {
    "tags": []
   },
   "outputs": [
    {
     "name": "stdout",
     "output_type": "stream",
     "text": [
      "Model has 7,219,266 trainable parameters\n"
     ]
    }
   ],
   "source": [
    "import torch\n",
    "\n",
    "model = MouseNeuralNetwork2(length_single_mouse_traj=window_size)  # 替换为你的模型\n",
    "params = sum(p.numel() for p in model.parameters() if p.requires_grad)\n",
    "print(f\"Model has {params:,} trainable parameters\")"
   ]
  },
  {
   "cell_type": "raw",
   "metadata": {},
   "source": [
    "==============  ==============  ==============  ==============  ==============  ==============  ==============  ============== \n",
    "                                                           下面开始迁移学习\n",
    "==============  ==============  ==============  ==============  ==============  ==============  ==============  ============== "
   ]
  },
  {
   "cell_type": "code",
   "execution_count": 13,
   "metadata": {},
   "outputs": [],
   "source": [
    "# 加载预训练模型\n",
    "model_transfer = MouseNeuralNetwork(length_single_mouse_traj=window_size)  # 创建新模型\n",
    "model_pretrain = MouseNeuralNetwork2(length_single_mouse_traj=window_size)  # 创建预训练模型结构\n"
   ]
  },
  {
   "cell_type": "code",
   "execution_count": 14,
   "metadata": {},
   "outputs": [
    {
     "name": "stdout",
     "output_type": "stream",
     "text": [
      "Loading pretrained model from: D:/论文数据/mouse/model_pt/resnet/only-adam-user7_100-path.pt\n"
     ]
    },
    {
     "data": {
      "text/plain": [
       "<All keys matched successfully>"
      ]
     },
     "execution_count": 14,
     "metadata": {},
     "output_type": "execute_result"
    }
   ],
   "source": [
    "# 加载预训练权重 - 使用weights_only=True提高安全性\n",
    "pretrain_path = f'D:/论文数据/mouse/model_pt/resnet/only-adam-user{user_id}_{window_size}-path.pt'\n",
    "checkpoint = torch.load(pretrain_path,weights_only=True)  # 添加weights_only=True\n",
    "print(f\"Loading pretrained model from: {pretrain_path}\")\n",
    "model_pretrain.load_state_dict(checkpoint['model'])\n"
   ]
  },
  {
   "cell_type": "code",
   "execution_count": 15,
   "metadata": {},
   "outputs": [
    {
     "name": "stdout",
     "output_type": "stream",
     "text": [
      "Pretrained ResNet1D weights loaded successfully.\n"
     ]
    }
   ],
   "source": [
    "# 加载 ResNet1D 权重到 model_transfer.resnet\n",
    "model_transfer.load_state_dict(checkpoint['model'], strict=False)\n",
    "print(\"Pretrained ResNet1D weights loaded successfully.\")\n",
    "\n",
    "# 如果需要，可以选择冻结 ResNet1D 的参数\n",
    "for param in model_transfer.resnet.parameters():\n",
    "    param.requires_grad = False  # 冻结 ResNet1D 的参数"
   ]
  },
  {
   "cell_type": "code",
   "execution_count": 16,
   "metadata": {},
   "outputs": [
    {
     "name": "stdout",
     "output_type": "stream",
     "text": [
      "Loading data loaders for user 7:\n",
      "Batch 0: data shape = torch.Size([128, 1, 100]), target shape = torch.Size([128])\n"
     ]
    }
   ],
   "source": [
    "# 加载保存的数据加载器\n",
    "import pickle\n",
    "base_path = f'D:/论文数据/mouse/data_pkl/processed_data_user{user_id}'\n",
    "\n",
    "train_path = f'{base_path}/train_dataset_user{user_id}_{window_size}.pkl'\n",
    "test_path = f'{base_path}/test_dataset_user{user_id}_{window_size}.pkl'\n",
    "print(f\"Loading data loaders for user {user_id}:\")\n",
    "\n",
    "\n",
    "# 加载时\n",
    "with open(train_path, 'rb') as f:\n",
    "    train_dataset = torch.load(f, pickle_module=pickle)\n",
    "\n",
    "with open(test_path, 'rb') as f:\n",
    "    test_dataset = torch.load(f, pickle_module=pickle)\n",
    "\n",
    "# 重新创建 DataLoader\n",
    "X_train_loader = DataLoader(train_dataset, batch_size=128, shuffle=True)\n",
    "X_test_loader = DataLoader(test_dataset, batch_size=128, shuffle=True)\n",
    "\n",
    "# 检查训练数据加载器内容\n",
    "for batch_idx, (data, labels) in enumerate(X_train_loader):\n",
    "    print(f\"Batch {batch_idx}: data shape = {data.shape}, target shape = {labels.shape}\")\n",
    "    break  # 检查第一个批次即可"
   ]
  },
  {
   "cell_type": "code",
   "execution_count": 17,
   "metadata": {},
   "outputs": [
    {
     "name": "stdout",
     "output_type": "stream",
     "text": [
      "Model moved to: cuda:0\n"
     ]
    }
   ],
   "source": [
    "# 将模型移到GPU\n",
    "model_transfer = model_transfer.cuda()\n",
    "print(f\"Model moved to: {next(model_transfer.parameters()).device}\")"
   ]
  },
  {
   "cell_type": "code",
   "execution_count": 18,
   "metadata": {},
   "outputs": [],
   "source": [
    "max_lr_transfer = 1e-4\n",
    "min_lr_transfer = 1e-7\n",
    "warmup_epochs_transfer = 30\n",
    "total_epochs_transfer = 200"
   ]
  },
  {
   "cell_type": "code",
   "execution_count": 19,
   "metadata": {},
   "outputs": [],
   "source": [
    "# 初始化优化器\n",
    "\n",
    "optim_ADAM_transfer = torch.optim.Adam(model_transfer.parameters(), lr=min_lr_transfer, weight_decay=1e-3)\n",
    "\n",
    "# After warmup, use cosine annealing for (total_epochs - warmup_epochs) steps\n",
    "cosine_scheduler_transfer = CosineAnnealingLR(optim_ADAM_transfer, T_max=(total_epochs_transfer - warmup_epochs_transfer), eta_min=min_lr_transfer)\n",
    "\n",
    "# The multiplier is how much you multiply the initial LR to get the target LR at the end of warmup.\n",
    "# If initial LR = 1e-7 and we want 1e-3 after warmup:\n",
    "# multiplier = (desired_lr_after_warmup) / (initial_lr) = 1e-3 / 1e-7 = 10,000\n",
    "multiplier_transfer = max_lr_transfer / min_lr_transfer\n",
    "\n",
    "warmup_scheduler_transfer = GradualWarmupScheduler(optim_ADAM_transfer, multiplier=multiplier_transfer, total_epoch=warmup_epochs_transfer, after_scheduler=cosine_scheduler_transfer)"
   ]
  },
  {
   "cell_type": "code",
   "execution_count": 20,
   "metadata": {},
   "outputs": [],
   "source": [
    "from torch.utils.tensorboard import SummaryWriter\n",
    "from tqdm import tqdm\n",
    "import torch\n",
    "import torch.nn as nn\n",
    "from IPython.display import clear_output\n",
    "import matplotlib.pyplot as plt\n",
    "import os\n",
    "\n",
    "def train_ADAM_transfer(model, X_train_loader, optimizer=None, scheduler=None, epoch=300, user_id=None, window_size=None):\n",
    "    device = torch.device(\"cuda\" if torch.cuda.is_available() else \"cpu\")\n",
    "    loss_function = nn.CrossEntropyLoss()\n",
    "    model = model.to(device)\n",
    "    loss_function = loss_function.to(device)\n",
    "    \n",
    "    losslist = []\n",
    "    correctlist = []\n",
    "    train_correctlist = []\n",
    "    \n",
    "    writer = SummaryWriter('/root/tf-logs')\n",
    "    pbar = tqdm(total=epoch, desc='Training Progress')\n",
    "    \n",
    "    for i in range(epoch):\n",
    "        model.train()\n",
    "        totalloss = 0\n",
    "        correct = 0\n",
    "        total = 0\n",
    "        num_batches = 0\n",
    "        \n",
    "        for data in X_train_loader:\n",
    "            X, label = data\n",
    "            X = X.float().to(device)\n",
    "            label = label.long().to(device)\n",
    "            \n",
    "            optimizer.zero_grad()\n",
    "            pred = model(X).squeeze()\n",
    "            loss = loss_function(pred, label)\n",
    "           \n",
    "            totalloss += loss.item()\n",
    "            num_batches += 1\n",
    "            _, pred_id = torch.max(pred, dim=1)\n",
    "            correct += (pred_id == label).sum().cpu().detach().numpy()\n",
    "            total += label.size(0)\n",
    "            \n",
    "            loss.backward()\n",
    "            optimizer.step()\n",
    "        \n",
    "        if scheduler:\n",
    "            scheduler.step()\n",
    "        \n",
    "        current_lr = scheduler.get_last_lr()[0]\n",
    "        print(f\"Epoch {i+1}: LR = {current_lr:.8f}\")\n",
    "\n",
    "        train_acc = correct / total\n",
    "        avg_loss = totalloss / num_batches\n",
    "        losslist.append(avg_loss)\n",
    "        \n",
    "        pbar.update(1)\n",
    "        pbar.set_postfix({\n",
    "            'loss': f'{avg_loss:.4f}',\n",
    "            'acc': f'{train_acc:.4f}'\n",
    "        })\n",
    "        \n",
    "        if (i + 1) % 100 == 0:\n",
    "            print(f'Epoch {i+1}/{epoch} - Loss: {avg_loss:.4f}, Accuracy: {train_acc:.4f}')\n",
    "            correctlist.append(train_acc)\n",
    "            train_correctlist.append(train_acc)\n",
    "            writer.add_scalar('Training loss', avg_loss, i)\n",
    "            writer.add_scalar('Training accuracy', train_acc, i)\n",
    "    \n",
    "    pbar.close()\n",
    "    writer.close()\n",
    "    \n",
    "    # 绘制损失曲线\n",
    "    plt.figure(figsize=(10, 5))\n",
    "    plt.plot(range(1, epoch + 1), losslist, label='Training Loss')\n",
    "    plt.xlabel('Epoch')\n",
    "    plt.ylabel('Loss')  \n",
    "    plt.title(f'user_{user_id} window_{window_size}+Resnet+Gru Training Loss')\n",
    "    plt.legend()\n",
    "    plt.grid(True)\n",
    "    plt.tight_layout()\n",
    "    \n",
    "    # 创建保存路径（如果不存在）\n",
    "    save_path = 'D:/论文数据/mouse/model_pt/ending_model/Loss_log'\n",
    "    os.makedirs(save_path, exist_ok=True)\n",
    "    \n",
    "    # 保存图像，文件名与title一致\n",
    "    plt.savefig(os.path.join(save_path, f'user_{user_id} window_{window_size} Resnet+Gru Training Loss.png'))\n",
    "    plt.show()\n",
    "    \n",
    "    return optimizer, epoch, losslist, correctlist, train_correctlist"
   ]
  },
  {
   "cell_type": "code",
   "execution_count": 21,
   "metadata": {
    "scrolled": true
   },
   "outputs": [
    {
     "name": "stderr",
     "output_type": "stream",
     "text": [
      "Training Progress:   0%|▏                                     | 1/200 [00:00<03:06,  1.07it/s, loss=0.7060, acc=0.0025]"
     ]
    },
    {
     "name": "stdout",
     "output_type": "stream",
     "text": [
      "Epoch 1: LR = 0.00000343\n"
     ]
    },
    {
     "name": "stderr",
     "output_type": "stream",
     "text": [
      "Training Progress:   1%|▍                                     | 2/200 [00:01<02:59,  1.10it/s, loss=0.6240, acc=0.8069]"
     ]
    },
    {
     "name": "stdout",
     "output_type": "stream",
     "text": [
      "Epoch 2: LR = 0.00000676\n"
     ]
    },
    {
     "name": "stderr",
     "output_type": "stream",
     "text": [
      "Training Progress:   2%|▌                                     | 3/200 [00:02<02:54,  1.13it/s, loss=0.4991, acc=0.8335]"
     ]
    },
    {
     "name": "stdout",
     "output_type": "stream",
     "text": [
      "Epoch 3: LR = 0.00001009\n"
     ]
    },
    {
     "name": "stderr",
     "output_type": "stream",
     "text": [
      "Training Progress:   2%|▊                                     | 4/200 [00:03<02:55,  1.11it/s, loss=0.4428, acc=0.8335]"
     ]
    },
    {
     "name": "stdout",
     "output_type": "stream",
     "text": [
      "Epoch 4: LR = 0.00001342\n"
     ]
    },
    {
     "name": "stderr",
     "output_type": "stream",
     "text": [
      "Training Progress:   2%|▉                                     | 5/200 [00:04<02:54,  1.12it/s, loss=0.4144, acc=0.8335]"
     ]
    },
    {
     "name": "stdout",
     "output_type": "stream",
     "text": [
      "Epoch 5: LR = 0.00001675\n"
     ]
    },
    {
     "name": "stderr",
     "output_type": "stream",
     "text": [
      "Training Progress:   3%|█▏                                    | 6/200 [00:05<02:53,  1.12it/s, loss=0.3737, acc=0.8335]"
     ]
    },
    {
     "name": "stdout",
     "output_type": "stream",
     "text": [
      "Epoch 6: LR = 0.00002008\n"
     ]
    },
    {
     "name": "stderr",
     "output_type": "stream",
     "text": [
      "Training Progress:   4%|█▎                                    | 7/200 [00:06<02:52,  1.12it/s, loss=0.3070, acc=0.8432]"
     ]
    },
    {
     "name": "stdout",
     "output_type": "stream",
     "text": [
      "Epoch 7: LR = 0.00002341\n"
     ]
    },
    {
     "name": "stderr",
     "output_type": "stream",
     "text": [
      "Training Progress:   4%|█▌                                    | 8/200 [00:07<02:50,  1.12it/s, loss=0.2218, acc=0.9109]"
     ]
    },
    {
     "name": "stdout",
     "output_type": "stream",
     "text": [
      "Epoch 8: LR = 0.00002674\n"
     ]
    },
    {
     "name": "stderr",
     "output_type": "stream",
     "text": [
      "Training Progress:   4%|█▋                                    | 9/200 [00:08<02:49,  1.13it/s, loss=0.1408, acc=0.9616]"
     ]
    },
    {
     "name": "stdout",
     "output_type": "stream",
     "text": [
      "Epoch 9: LR = 0.00003007\n"
     ]
    },
    {
     "name": "stderr",
     "output_type": "stream",
     "text": [
      "Training Progress:   5%|█▊                                   | 10/200 [00:08<02:48,  1.13it/s, loss=0.0861, acc=0.9839]"
     ]
    },
    {
     "name": "stdout",
     "output_type": "stream",
     "text": [
      "Epoch 10: LR = 0.00003340\n"
     ]
    },
    {
     "name": "stderr",
     "output_type": "stream",
     "text": [
      "Training Progress:   6%|██                                   | 11/200 [00:09<02:47,  1.13it/s, loss=0.0533, acc=0.9927]"
     ]
    },
    {
     "name": "stdout",
     "output_type": "stream",
     "text": [
      "Epoch 11: LR = 0.00003673\n"
     ]
    },
    {
     "name": "stderr",
     "output_type": "stream",
     "text": [
      "Training Progress:   6%|██▏                                  | 12/200 [00:10<02:44,  1.14it/s, loss=0.0358, acc=0.9943]"
     ]
    },
    {
     "name": "stdout",
     "output_type": "stream",
     "text": [
      "Epoch 12: LR = 0.00004006\n"
     ]
    },
    {
     "name": "stderr",
     "output_type": "stream",
     "text": [
      "Training Progress:   6%|██▍                                  | 13/200 [00:11<02:43,  1.14it/s, loss=0.0241, acc=0.9975]"
     ]
    },
    {
     "name": "stdout",
     "output_type": "stream",
     "text": [
      "Epoch 13: LR = 0.00004339\n"
     ]
    },
    {
     "name": "stderr",
     "output_type": "stream",
     "text": [
      "Training Progress:   7%|██▌                                  | 14/200 [00:12<02:41,  1.15it/s, loss=0.0161, acc=0.9989]"
     ]
    },
    {
     "name": "stdout",
     "output_type": "stream",
     "text": [
      "Epoch 14: LR = 0.00004672\n"
     ]
    },
    {
     "name": "stderr",
     "output_type": "stream",
     "text": [
      "Training Progress:   8%|██▊                                  | 15/200 [00:13<02:39,  1.16it/s, loss=0.0131, acc=0.9982]"
     ]
    },
    {
     "name": "stdout",
     "output_type": "stream",
     "text": [
      "Epoch 15: LR = 0.00005005\n"
     ]
    },
    {
     "name": "stderr",
     "output_type": "stream",
     "text": [
      "Training Progress:   8%|██▉                                  | 16/200 [00:14<02:39,  1.15it/s, loss=0.0092, acc=0.9995]"
     ]
    },
    {
     "name": "stdout",
     "output_type": "stream",
     "text": [
      "Epoch 16: LR = 0.00005338\n"
     ]
    },
    {
     "name": "stderr",
     "output_type": "stream",
     "text": [
      "Training Progress:   8%|███▏                                 | 17/200 [00:14<02:38,  1.16it/s, loss=0.0085, acc=0.9984]"
     ]
    },
    {
     "name": "stdout",
     "output_type": "stream",
     "text": [
      "Epoch 17: LR = 0.00005671\n"
     ]
    },
    {
     "name": "stderr",
     "output_type": "stream",
     "text": [
      "Training Progress:   9%|███▎                                 | 18/200 [00:15<02:37,  1.16it/s, loss=0.0061, acc=0.9994]"
     ]
    },
    {
     "name": "stdout",
     "output_type": "stream",
     "text": [
      "Epoch 18: LR = 0.00006004\n"
     ]
    },
    {
     "name": "stderr",
     "output_type": "stream",
     "text": [
      "Training Progress:  10%|███▌                                 | 19/200 [00:16<02:36,  1.16it/s, loss=0.0064, acc=0.9987]"
     ]
    },
    {
     "name": "stdout",
     "output_type": "stream",
     "text": [
      "Epoch 19: LR = 0.00006337\n"
     ]
    },
    {
     "name": "stderr",
     "output_type": "stream",
     "text": [
      "Training Progress:  10%|███▋                                 | 20/200 [00:17<02:37,  1.14it/s, loss=0.0035, acc=0.9999]"
     ]
    },
    {
     "name": "stdout",
     "output_type": "stream",
     "text": [
      "Epoch 20: LR = 0.00006670\n"
     ]
    },
    {
     "name": "stderr",
     "output_type": "stream",
     "text": [
      "Training Progress:  10%|███▉                                 | 21/200 [00:18<02:37,  1.14it/s, loss=0.0032, acc=0.9999]"
     ]
    },
    {
     "name": "stdout",
     "output_type": "stream",
     "text": [
      "Epoch 21: LR = 0.00007003\n"
     ]
    },
    {
     "name": "stderr",
     "output_type": "stream",
     "text": [
      "Training Progress:  11%|████                                 | 22/200 [00:19<02:36,  1.14it/s, loss=0.0032, acc=0.9995]"
     ]
    },
    {
     "name": "stdout",
     "output_type": "stream",
     "text": [
      "Epoch 22: LR = 0.00007336\n"
     ]
    },
    {
     "name": "stderr",
     "output_type": "stream",
     "text": [
      "Training Progress:  12%|████▎                                | 23/200 [00:20<02:36,  1.13it/s, loss=0.0027, acc=0.9996]"
     ]
    },
    {
     "name": "stdout",
     "output_type": "stream",
     "text": [
      "Epoch 23: LR = 0.00007669\n"
     ]
    },
    {
     "name": "stderr",
     "output_type": "stream",
     "text": [
      "Training Progress:  12%|████▍                                | 24/200 [00:21<02:34,  1.14it/s, loss=0.0017, acc=1.0000]"
     ]
    },
    {
     "name": "stdout",
     "output_type": "stream",
     "text": [
      "Epoch 24: LR = 0.00008002\n"
     ]
    },
    {
     "name": "stderr",
     "output_type": "stream",
     "text": [
      "Training Progress:  12%|████▋                                | 25/200 [00:21<02:31,  1.15it/s, loss=0.0023, acc=0.9995]"
     ]
    },
    {
     "name": "stdout",
     "output_type": "stream",
     "text": [
      "Epoch 25: LR = 0.00008335\n"
     ]
    },
    {
     "name": "stderr",
     "output_type": "stream",
     "text": [
      "Training Progress:  13%|████▊                                | 26/200 [00:22<02:31,  1.15it/s, loss=0.0014, acc=1.0000]"
     ]
    },
    {
     "name": "stdout",
     "output_type": "stream",
     "text": [
      "Epoch 26: LR = 0.00008668\n"
     ]
    },
    {
     "name": "stderr",
     "output_type": "stream",
     "text": [
      "Training Progress:  14%|████▉                                | 27/200 [00:23<02:31,  1.14it/s, loss=0.0017, acc=0.9997]"
     ]
    },
    {
     "name": "stdout",
     "output_type": "stream",
     "text": [
      "Epoch 27: LR = 0.00009001\n"
     ]
    },
    {
     "name": "stderr",
     "output_type": "stream",
     "text": [
      "Training Progress:  14%|█████▏                               | 28/200 [00:24<02:30,  1.14it/s, loss=0.0014, acc=0.9996]"
     ]
    },
    {
     "name": "stdout",
     "output_type": "stream",
     "text": [
      "Epoch 28: LR = 0.00009334\n"
     ]
    },
    {
     "name": "stderr",
     "output_type": "stream",
     "text": [
      "Training Progress:  14%|█████▎                               | 29/200 [00:25<02:29,  1.15it/s, loss=0.0009, acc=1.0000]"
     ]
    },
    {
     "name": "stdout",
     "output_type": "stream",
     "text": [
      "Epoch 29: LR = 0.00009667\n"
     ]
    },
    {
     "name": "stderr",
     "output_type": "stream",
     "text": [
      "Training Progress:  15%|█████▌                               | 30/200 [00:26<02:27,  1.15it/s, loss=0.0009, acc=1.0000]"
     ]
    },
    {
     "name": "stdout",
     "output_type": "stream",
     "text": [
      "Epoch 30: LR = 0.00010000\n"
     ]
    },
    {
     "name": "stderr",
     "output_type": "stream",
     "text": [
      "Training Progress:  16%|█████▋                               | 31/200 [00:27<02:27,  1.14it/s, loss=0.0006, acc=1.0000]"
     ]
    },
    {
     "name": "stdout",
     "output_type": "stream",
     "text": [
      "Epoch 31: LR = 0.00010000\n"
     ]
    },
    {
     "name": "stderr",
     "output_type": "stream",
     "text": [
      "Training Progress:  16%|█████▉                               | 32/200 [00:28<02:26,  1.15it/s, loss=0.0009, acc=1.0000]"
     ]
    },
    {
     "name": "stdout",
     "output_type": "stream",
     "text": [
      "Epoch 32: LR = 0.00010000\n"
     ]
    },
    {
     "name": "stderr",
     "output_type": "stream",
     "text": [
      "Training Progress:  16%|██████                               | 33/200 [00:28<02:24,  1.15it/s, loss=0.0010, acc=0.9999]"
     ]
    },
    {
     "name": "stdout",
     "output_type": "stream",
     "text": [
      "Epoch 33: LR = 0.00010000\n"
     ]
    },
    {
     "name": "stderr",
     "output_type": "stream",
     "text": [
      "Training Progress:  17%|██████▎                              | 34/200 [00:29<02:27,  1.13it/s, loss=0.0004, acc=1.0000]"
     ]
    },
    {
     "name": "stdout",
     "output_type": "stream",
     "text": [
      "Epoch 34: LR = 0.00010000\n"
     ]
    },
    {
     "name": "stderr",
     "output_type": "stream",
     "text": [
      "Training Progress:  18%|██████▍                              | 35/200 [00:30<02:28,  1.11it/s, loss=0.0006, acc=1.0000]"
     ]
    },
    {
     "name": "stdout",
     "output_type": "stream",
     "text": [
      "Epoch 35: LR = 0.00010000\n"
     ]
    },
    {
     "name": "stderr",
     "output_type": "stream",
     "text": [
      "Training Progress:  18%|██████▋                              | 36/200 [00:31<02:26,  1.12it/s, loss=0.0005, acc=1.0000]"
     ]
    },
    {
     "name": "stdout",
     "output_type": "stream",
     "text": [
      "Epoch 36: LR = 0.00010000\n"
     ]
    },
    {
     "name": "stderr",
     "output_type": "stream",
     "text": [
      "Training Progress:  18%|██████▊                              | 37/200 [00:32<02:24,  1.13it/s, loss=0.0005, acc=0.9999]"
     ]
    },
    {
     "name": "stdout",
     "output_type": "stream",
     "text": [
      "Epoch 37: LR = 0.00010000\n"
     ]
    },
    {
     "name": "stderr",
     "output_type": "stream",
     "text": [
      "Training Progress:  19%|███████                              | 38/200 [00:33<02:22,  1.13it/s, loss=0.0004, acc=1.0000]"
     ]
    },
    {
     "name": "stdout",
     "output_type": "stream",
     "text": [
      "Epoch 38: LR = 0.00010000\n"
     ]
    },
    {
     "name": "stderr",
     "output_type": "stream",
     "text": [
      "Training Progress:  20%|███████▏                             | 39/200 [00:34<02:24,  1.11it/s, loss=0.0004, acc=1.0000]"
     ]
    },
    {
     "name": "stdout",
     "output_type": "stream",
     "text": [
      "Epoch 39: LR = 0.00010000\n"
     ]
    },
    {
     "name": "stderr",
     "output_type": "stream",
     "text": [
      "Training Progress:  20%|███████▍                             | 40/200 [00:35<02:23,  1.11it/s, loss=0.0005, acc=1.0000]"
     ]
    },
    {
     "name": "stdout",
     "output_type": "stream",
     "text": [
      "Epoch 40: LR = 0.00010000\n"
     ]
    },
    {
     "name": "stderr",
     "output_type": "stream",
     "text": [
      "Training Progress:  20%|███████▌                             | 41/200 [00:36<02:22,  1.12it/s, loss=0.0005, acc=1.0000]"
     ]
    },
    {
     "name": "stdout",
     "output_type": "stream",
     "text": [
      "Epoch 41: LR = 0.00010000\n"
     ]
    },
    {
     "name": "stderr",
     "output_type": "stream",
     "text": [
      "Training Progress:  21%|███████▊                             | 42/200 [00:37<02:20,  1.13it/s, loss=0.0004, acc=1.0000]"
     ]
    },
    {
     "name": "stdout",
     "output_type": "stream",
     "text": [
      "Epoch 42: LR = 0.00010000\n"
     ]
    },
    {
     "name": "stderr",
     "output_type": "stream",
     "text": [
      "Training Progress:  22%|███████▉                             | 43/200 [00:37<02:18,  1.13it/s, loss=0.0008, acc=0.9997]"
     ]
    },
    {
     "name": "stdout",
     "output_type": "stream",
     "text": [
      "Epoch 43: LR = 0.00010000\n"
     ]
    },
    {
     "name": "stderr",
     "output_type": "stream",
     "text": [
      "Training Progress:  22%|████████▏                            | 44/200 [00:38<02:18,  1.13it/s, loss=0.0004, acc=0.9999]"
     ]
    },
    {
     "name": "stdout",
     "output_type": "stream",
     "text": [
      "Epoch 44: LR = 0.00010000\n"
     ]
    },
    {
     "name": "stderr",
     "output_type": "stream",
     "text": [
      "Training Progress:  22%|████████▎                            | 45/200 [00:39<02:18,  1.12it/s, loss=0.0003, acc=1.0000]"
     ]
    },
    {
     "name": "stdout",
     "output_type": "stream",
     "text": [
      "Epoch 45: LR = 0.00010000\n"
     ]
    },
    {
     "name": "stderr",
     "output_type": "stream",
     "text": [
      "Training Progress:  23%|████████▌                            | 46/200 [00:40<02:16,  1.13it/s, loss=0.0003, acc=1.0000]"
     ]
    },
    {
     "name": "stdout",
     "output_type": "stream",
     "text": [
      "Epoch 46: LR = 0.00010000\n"
     ]
    },
    {
     "name": "stderr",
     "output_type": "stream",
     "text": [
      "Training Progress:  24%|████████▋                            | 47/200 [00:41<02:17,  1.12it/s, loss=0.0003, acc=1.0000]"
     ]
    },
    {
     "name": "stdout",
     "output_type": "stream",
     "text": [
      "Epoch 47: LR = 0.00010000\n"
     ]
    },
    {
     "name": "stderr",
     "output_type": "stream",
     "text": [
      "Training Progress:  24%|████████▉                            | 48/200 [00:42<02:16,  1.11it/s, loss=0.0003, acc=1.0000]"
     ]
    },
    {
     "name": "stdout",
     "output_type": "stream",
     "text": [
      "Epoch 48: LR = 0.00010000\n"
     ]
    },
    {
     "name": "stderr",
     "output_type": "stream",
     "text": [
      "Training Progress:  24%|█████████                            | 49/200 [00:43<02:16,  1.11it/s, loss=0.0003, acc=1.0000]"
     ]
    },
    {
     "name": "stdout",
     "output_type": "stream",
     "text": [
      "Epoch 49: LR = 0.00010000\n"
     ]
    },
    {
     "name": "stderr",
     "output_type": "stream",
     "text": [
      "Training Progress:  25%|█████████▎                           | 50/200 [00:44<02:15,  1.11it/s, loss=0.0003, acc=1.0000]"
     ]
    },
    {
     "name": "stdout",
     "output_type": "stream",
     "text": [
      "Epoch 50: LR = 0.00010000\n"
     ]
    },
    {
     "name": "stderr",
     "output_type": "stream",
     "text": [
      "Training Progress:  26%|█████████▍                           | 51/200 [00:45<02:13,  1.11it/s, loss=0.0004, acc=0.9999]"
     ]
    },
    {
     "name": "stdout",
     "output_type": "stream",
     "text": [
      "Epoch 51: LR = 0.00010000\n"
     ]
    },
    {
     "name": "stderr",
     "output_type": "stream",
     "text": [
      "Training Progress:  26%|█████████▌                           | 52/200 [00:46<02:13,  1.11it/s, loss=0.0006, acc=0.9997]"
     ]
    },
    {
     "name": "stdout",
     "output_type": "stream",
     "text": [
      "Epoch 52: LR = 0.00010000\n"
     ]
    },
    {
     "name": "stderr",
     "output_type": "stream",
     "text": [
      "Training Progress:  26%|█████████▊                           | 53/200 [00:46<02:13,  1.10it/s, loss=0.0004, acc=0.9999]"
     ]
    },
    {
     "name": "stdout",
     "output_type": "stream",
     "text": [
      "Epoch 53: LR = 0.00010000\n"
     ]
    },
    {
     "name": "stderr",
     "output_type": "stream",
     "text": [
      "Training Progress:  27%|█████████▉                           | 54/200 [00:47<02:12,  1.10it/s, loss=0.0005, acc=1.0000]"
     ]
    },
    {
     "name": "stdout",
     "output_type": "stream",
     "text": [
      "Epoch 54: LR = 0.00010000\n"
     ]
    },
    {
     "name": "stderr",
     "output_type": "stream",
     "text": [
      "Training Progress:  28%|██████████▏                          | 55/200 [00:48<02:12,  1.09it/s, loss=0.0003, acc=1.0000]"
     ]
    },
    {
     "name": "stdout",
     "output_type": "stream",
     "text": [
      "Epoch 55: LR = 0.00010000\n"
     ]
    },
    {
     "name": "stderr",
     "output_type": "stream",
     "text": [
      "Training Progress:  28%|██████████▎                          | 56/200 [00:49<02:10,  1.11it/s, loss=0.0002, acc=1.0000]"
     ]
    },
    {
     "name": "stdout",
     "output_type": "stream",
     "text": [
      "Epoch 56: LR = 0.00010000\n"
     ]
    },
    {
     "name": "stderr",
     "output_type": "stream",
     "text": [
      "Training Progress:  28%|██████████▌                          | 57/200 [00:50<02:07,  1.12it/s, loss=0.0005, acc=0.9999]"
     ]
    },
    {
     "name": "stdout",
     "output_type": "stream",
     "text": [
      "Epoch 57: LR = 0.00010000\n"
     ]
    },
    {
     "name": "stderr",
     "output_type": "stream",
     "text": [
      "Training Progress:  29%|██████████▋                          | 58/200 [00:51<02:08,  1.11it/s, loss=0.0004, acc=1.0000]"
     ]
    },
    {
     "name": "stdout",
     "output_type": "stream",
     "text": [
      "Epoch 58: LR = 0.00010000\n"
     ]
    },
    {
     "name": "stderr",
     "output_type": "stream",
     "text": [
      "Training Progress:  30%|██████████▉                          | 59/200 [00:52<02:05,  1.13it/s, loss=0.0003, acc=0.9999]"
     ]
    },
    {
     "name": "stdout",
     "output_type": "stream",
     "text": [
      "Epoch 59: LR = 0.00010000\n"
     ]
    },
    {
     "name": "stderr",
     "output_type": "stream",
     "text": [
      "Training Progress:  30%|███████████                          | 60/200 [00:53<02:04,  1.13it/s, loss=0.0002, acc=1.0000]"
     ]
    },
    {
     "name": "stdout",
     "output_type": "stream",
     "text": [
      "Epoch 60: LR = 0.00010000\n"
     ]
    },
    {
     "name": "stderr",
     "output_type": "stream",
     "text": [
      "Training Progress:  30%|███████████▎                         | 61/200 [00:54<02:03,  1.13it/s, loss=0.0005, acc=0.9999]"
     ]
    },
    {
     "name": "stdout",
     "output_type": "stream",
     "text": [
      "Epoch 61: LR = 0.00010000\n"
     ]
    },
    {
     "name": "stderr",
     "output_type": "stream",
     "text": [
      "Training Progress:  31%|███████████▍                         | 62/200 [00:55<02:05,  1.10it/s, loss=0.0002, acc=1.0000]"
     ]
    },
    {
     "name": "stdout",
     "output_type": "stream",
     "text": [
      "Epoch 62: LR = 0.00010000\n"
     ]
    },
    {
     "name": "stderr",
     "output_type": "stream",
     "text": [
      "Training Progress:  32%|███████████▋                         | 63/200 [00:55<02:06,  1.08it/s, loss=0.0002, acc=1.0000]"
     ]
    },
    {
     "name": "stdout",
     "output_type": "stream",
     "text": [
      "Epoch 63: LR = 0.00010000\n"
     ]
    },
    {
     "name": "stderr",
     "output_type": "stream",
     "text": [
      "Training Progress:  32%|███████████▊                         | 64/200 [00:56<02:04,  1.09it/s, loss=0.0002, acc=1.0000]"
     ]
    },
    {
     "name": "stdout",
     "output_type": "stream",
     "text": [
      "Epoch 64: LR = 0.00010000\n"
     ]
    },
    {
     "name": "stderr",
     "output_type": "stream",
     "text": [
      "Training Progress:  32%|████████████                         | 65/200 [00:57<02:01,  1.11it/s, loss=0.0002, acc=1.0000]"
     ]
    },
    {
     "name": "stdout",
     "output_type": "stream",
     "text": [
      "Epoch 65: LR = 0.00010000\n"
     ]
    },
    {
     "name": "stderr",
     "output_type": "stream",
     "text": [
      "Training Progress:  33%|████████████▏                        | 66/200 [00:58<02:00,  1.12it/s, loss=0.0002, acc=1.0000]"
     ]
    },
    {
     "name": "stdout",
     "output_type": "stream",
     "text": [
      "Epoch 66: LR = 0.00010000\n"
     ]
    },
    {
     "name": "stderr",
     "output_type": "stream",
     "text": [
      "Training Progress:  34%|████████████▍                        | 67/200 [00:59<01:59,  1.11it/s, loss=0.0002, acc=1.0000]"
     ]
    },
    {
     "name": "stdout",
     "output_type": "stream",
     "text": [
      "Epoch 67: LR = 0.00010000\n"
     ]
    },
    {
     "name": "stderr",
     "output_type": "stream",
     "text": [
      "Training Progress:  34%|████████████▌                        | 68/200 [01:00<01:59,  1.10it/s, loss=0.0003, acc=1.0000]"
     ]
    },
    {
     "name": "stdout",
     "output_type": "stream",
     "text": [
      "Epoch 68: LR = 0.00010000\n"
     ]
    },
    {
     "name": "stderr",
     "output_type": "stream",
     "text": [
      "Training Progress:  34%|████████████▊                        | 69/200 [01:01<01:57,  1.11it/s, loss=0.0002, acc=1.0000]"
     ]
    },
    {
     "name": "stdout",
     "output_type": "stream",
     "text": [
      "Epoch 69: LR = 0.00010000\n"
     ]
    },
    {
     "name": "stderr",
     "output_type": "stream",
     "text": [
      "Training Progress:  35%|████████████▉                        | 70/200 [01:02<01:56,  1.11it/s, loss=0.0002, acc=1.0000]"
     ]
    },
    {
     "name": "stdout",
     "output_type": "stream",
     "text": [
      "Epoch 70: LR = 0.00010000\n"
     ]
    },
    {
     "name": "stderr",
     "output_type": "stream",
     "text": [
      "Training Progress:  36%|█████████████▏                       | 71/200 [01:03<01:55,  1.11it/s, loss=0.0003, acc=0.9999]"
     ]
    },
    {
     "name": "stdout",
     "output_type": "stream",
     "text": [
      "Epoch 71: LR = 0.00010000\n"
     ]
    },
    {
     "name": "stderr",
     "output_type": "stream",
     "text": [
      "Training Progress:  36%|█████████████▎                       | 72/200 [01:04<01:55,  1.11it/s, loss=0.0003, acc=1.0000]"
     ]
    },
    {
     "name": "stdout",
     "output_type": "stream",
     "text": [
      "Epoch 72: LR = 0.00010000\n"
     ]
    },
    {
     "name": "stderr",
     "output_type": "stream",
     "text": [
      "Training Progress:  36%|█████████████▌                       | 73/200 [01:04<01:54,  1.11it/s, loss=0.0006, acc=0.9997]"
     ]
    },
    {
     "name": "stdout",
     "output_type": "stream",
     "text": [
      "Epoch 73: LR = 0.00010000\n"
     ]
    },
    {
     "name": "stderr",
     "output_type": "stream",
     "text": [
      "Training Progress:  37%|█████████████▋                       | 74/200 [01:05<01:52,  1.12it/s, loss=0.0005, acc=0.9999]"
     ]
    },
    {
     "name": "stdout",
     "output_type": "stream",
     "text": [
      "Epoch 74: LR = 0.00010000\n"
     ]
    },
    {
     "name": "stderr",
     "output_type": "stream",
     "text": [
      "Training Progress:  38%|█████████████▉                       | 75/200 [01:06<01:52,  1.11it/s, loss=0.0002, acc=1.0000]"
     ]
    },
    {
     "name": "stdout",
     "output_type": "stream",
     "text": [
      "Epoch 75: LR = 0.00010000\n"
     ]
    },
    {
     "name": "stderr",
     "output_type": "stream",
     "text": [
      "Training Progress:  38%|██████████████                       | 76/200 [01:07<01:49,  1.13it/s, loss=0.0002, acc=1.0000]"
     ]
    },
    {
     "name": "stdout",
     "output_type": "stream",
     "text": [
      "Epoch 76: LR = 0.00010000\n"
     ]
    },
    {
     "name": "stderr",
     "output_type": "stream",
     "text": [
      "Training Progress:  38%|██████████████▏                      | 77/200 [01:08<01:48,  1.13it/s, loss=0.0003, acc=1.0000]"
     ]
    },
    {
     "name": "stdout",
     "output_type": "stream",
     "text": [
      "Epoch 77: LR = 0.00010000\n"
     ]
    },
    {
     "name": "stderr",
     "output_type": "stream",
     "text": [
      "Training Progress:  39%|██████████████▍                      | 78/200 [01:09<01:47,  1.13it/s, loss=0.0002, acc=1.0000]"
     ]
    },
    {
     "name": "stdout",
     "output_type": "stream",
     "text": [
      "Epoch 78: LR = 0.00010000\n"
     ]
    },
    {
     "name": "stderr",
     "output_type": "stream",
     "text": [
      "Training Progress:  40%|██████████████▌                      | 79/200 [01:10<01:46,  1.13it/s, loss=0.0002, acc=1.0000]"
     ]
    },
    {
     "name": "stdout",
     "output_type": "stream",
     "text": [
      "Epoch 79: LR = 0.00010000\n"
     ]
    },
    {
     "name": "stderr",
     "output_type": "stream",
     "text": [
      "Training Progress:  40%|██████████████▊                      | 80/200 [01:11<01:47,  1.12it/s, loss=0.0002, acc=1.0000]"
     ]
    },
    {
     "name": "stdout",
     "output_type": "stream",
     "text": [
      "Epoch 80: LR = 0.00010000\n"
     ]
    },
    {
     "name": "stderr",
     "output_type": "stream",
     "text": [
      "Training Progress:  40%|██████████████▉                      | 81/200 [01:12<01:45,  1.13it/s, loss=0.0002, acc=1.0000]"
     ]
    },
    {
     "name": "stdout",
     "output_type": "stream",
     "text": [
      "Epoch 81: LR = 0.00010000\n"
     ]
    },
    {
     "name": "stderr",
     "output_type": "stream",
     "text": [
      "Training Progress:  41%|███████████████▏                     | 82/200 [01:12<01:43,  1.14it/s, loss=0.0002, acc=1.0000]"
     ]
    },
    {
     "name": "stdout",
     "output_type": "stream",
     "text": [
      "Epoch 82: LR = 0.00010000\n"
     ]
    },
    {
     "name": "stderr",
     "output_type": "stream",
     "text": [
      "Training Progress:  42%|███████████████▎                     | 83/200 [01:13<01:43,  1.14it/s, loss=0.0002, acc=1.0000]"
     ]
    },
    {
     "name": "stdout",
     "output_type": "stream",
     "text": [
      "Epoch 83: LR = 0.00010000\n"
     ]
    },
    {
     "name": "stderr",
     "output_type": "stream",
     "text": [
      "Training Progress:  42%|███████████████▌                     | 84/200 [01:14<01:42,  1.13it/s, loss=0.0002, acc=1.0000]"
     ]
    },
    {
     "name": "stdout",
     "output_type": "stream",
     "text": [
      "Epoch 84: LR = 0.00010000\n"
     ]
    },
    {
     "name": "stderr",
     "output_type": "stream",
     "text": [
      "Training Progress:  42%|███████████████▋                     | 85/200 [01:15<01:41,  1.14it/s, loss=0.0003, acc=0.9999]"
     ]
    },
    {
     "name": "stdout",
     "output_type": "stream",
     "text": [
      "Epoch 85: LR = 0.00010000\n"
     ]
    },
    {
     "name": "stderr",
     "output_type": "stream",
     "text": [
      "Training Progress:  43%|███████████████▉                     | 86/200 [01:16<01:41,  1.13it/s, loss=0.0002, acc=1.0000]"
     ]
    },
    {
     "name": "stdout",
     "output_type": "stream",
     "text": [
      "Epoch 86: LR = 0.00010000\n"
     ]
    },
    {
     "name": "stderr",
     "output_type": "stream",
     "text": [
      "Training Progress:  44%|████████████████                     | 87/200 [01:17<01:39,  1.13it/s, loss=0.0003, acc=1.0000]"
     ]
    },
    {
     "name": "stdout",
     "output_type": "stream",
     "text": [
      "Epoch 87: LR = 0.00010000\n"
     ]
    },
    {
     "name": "stderr",
     "output_type": "stream",
     "text": [
      "Training Progress:  44%|████████████████▎                    | 88/200 [01:18<01:38,  1.14it/s, loss=0.0002, acc=1.0000]"
     ]
    },
    {
     "name": "stdout",
     "output_type": "stream",
     "text": [
      "Epoch 88: LR = 0.00010000\n"
     ]
    },
    {
     "name": "stderr",
     "output_type": "stream",
     "text": [
      "Training Progress:  44%|████████████████▍                    | 89/200 [01:19<01:37,  1.14it/s, loss=0.0002, acc=1.0000]"
     ]
    },
    {
     "name": "stdout",
     "output_type": "stream",
     "text": [
      "Epoch 89: LR = 0.00010000\n"
     ]
    },
    {
     "name": "stderr",
     "output_type": "stream",
     "text": [
      "Training Progress:  45%|████████████████▋                    | 90/200 [01:19<01:36,  1.14it/s, loss=0.0002, acc=1.0000]"
     ]
    },
    {
     "name": "stdout",
     "output_type": "stream",
     "text": [
      "Epoch 90: LR = 0.00010000\n"
     ]
    },
    {
     "name": "stderr",
     "output_type": "stream",
     "text": [
      "Training Progress:  46%|████████████████▊                    | 91/200 [01:20<01:35,  1.14it/s, loss=0.0002, acc=1.0000]"
     ]
    },
    {
     "name": "stdout",
     "output_type": "stream",
     "text": [
      "Epoch 91: LR = 0.00010000\n"
     ]
    },
    {
     "name": "stderr",
     "output_type": "stream",
     "text": [
      "Training Progress:  46%|█████████████████                    | 92/200 [01:21<01:35,  1.14it/s, loss=0.0003, acc=1.0000]"
     ]
    },
    {
     "name": "stdout",
     "output_type": "stream",
     "text": [
      "Epoch 92: LR = 0.00010000\n"
     ]
    },
    {
     "name": "stderr",
     "output_type": "stream",
     "text": [
      "Training Progress:  46%|█████████████████▏                   | 93/200 [01:22<01:33,  1.14it/s, loss=0.0008, acc=0.9996]"
     ]
    },
    {
     "name": "stdout",
     "output_type": "stream",
     "text": [
      "Epoch 93: LR = 0.00010000\n"
     ]
    },
    {
     "name": "stderr",
     "output_type": "stream",
     "text": [
      "Training Progress:  47%|█████████████████▍                   | 94/200 [01:23<01:33,  1.13it/s, loss=0.0003, acc=1.0000]"
     ]
    },
    {
     "name": "stdout",
     "output_type": "stream",
     "text": [
      "Epoch 94: LR = 0.00010000\n"
     ]
    },
    {
     "name": "stderr",
     "output_type": "stream",
     "text": [
      "Training Progress:  48%|█████████████████▌                   | 95/200 [01:24<01:33,  1.13it/s, loss=0.0002, acc=1.0000]"
     ]
    },
    {
     "name": "stdout",
     "output_type": "stream",
     "text": [
      "Epoch 95: LR = 0.00010000\n"
     ]
    },
    {
     "name": "stderr",
     "output_type": "stream",
     "text": [
      "Training Progress:  48%|█████████████████▊                   | 96/200 [01:25<01:32,  1.12it/s, loss=0.0003, acc=1.0000]"
     ]
    },
    {
     "name": "stdout",
     "output_type": "stream",
     "text": [
      "Epoch 96: LR = 0.00010000\n"
     ]
    },
    {
     "name": "stderr",
     "output_type": "stream",
     "text": [
      "Training Progress:  48%|█████████████████▉                   | 97/200 [01:26<01:33,  1.10it/s, loss=0.0002, acc=1.0000]"
     ]
    },
    {
     "name": "stdout",
     "output_type": "stream",
     "text": [
      "Epoch 97: LR = 0.00010000\n"
     ]
    },
    {
     "name": "stderr",
     "output_type": "stream",
     "text": [
      "Training Progress:  49%|██████████████████▏                  | 98/200 [01:27<01:32,  1.11it/s, loss=0.0002, acc=1.0000]"
     ]
    },
    {
     "name": "stdout",
     "output_type": "stream",
     "text": [
      "Epoch 98: LR = 0.00010000\n"
     ]
    },
    {
     "name": "stderr",
     "output_type": "stream",
     "text": [
      "Training Progress:  50%|██████████████████▎                  | 99/200 [01:27<01:30,  1.11it/s, loss=0.0001, acc=1.0000]"
     ]
    },
    {
     "name": "stdout",
     "output_type": "stream",
     "text": [
      "Epoch 99: LR = 0.00010000\n"
     ]
    },
    {
     "name": "stderr",
     "output_type": "stream",
     "text": [
      "Training Progress:  50%|██████████████████                  | 100/200 [01:28<01:29,  1.12it/s, loss=0.0002, acc=1.0000]"
     ]
    },
    {
     "name": "stdout",
     "output_type": "stream",
     "text": [
      "Epoch 100: LR = 0.00010000\n",
      "Epoch 100/200 - Loss: 0.0002, Accuracy: 1.0000\n"
     ]
    },
    {
     "name": "stderr",
     "output_type": "stream",
     "text": [
      "Training Progress:  50%|██████████████████▏                 | 101/200 [01:29<01:27,  1.14it/s, loss=0.0003, acc=0.9999]"
     ]
    },
    {
     "name": "stdout",
     "output_type": "stream",
     "text": [
      "Epoch 101: LR = 0.00010000\n"
     ]
    },
    {
     "name": "stderr",
     "output_type": "stream",
     "text": [
      "Training Progress:  51%|██████████████████▎                 | 102/200 [01:30<01:25,  1.14it/s, loss=0.0002, acc=1.0000]"
     ]
    },
    {
     "name": "stdout",
     "output_type": "stream",
     "text": [
      "Epoch 102: LR = 0.00010000\n"
     ]
    },
    {
     "name": "stderr",
     "output_type": "stream",
     "text": [
      "Training Progress:  52%|██████████████████▌                 | 103/200 [01:31<01:25,  1.14it/s, loss=0.0002, acc=1.0000]"
     ]
    },
    {
     "name": "stdout",
     "output_type": "stream",
     "text": [
      "Epoch 103: LR = 0.00010000\n"
     ]
    },
    {
     "name": "stderr",
     "output_type": "stream",
     "text": [
      "Training Progress:  52%|██████████████████▋                 | 104/200 [01:32<01:24,  1.14it/s, loss=0.0002, acc=1.0000]"
     ]
    },
    {
     "name": "stdout",
     "output_type": "stream",
     "text": [
      "Epoch 104: LR = 0.00010000\n"
     ]
    },
    {
     "name": "stderr",
     "output_type": "stream",
     "text": [
      "Training Progress:  52%|██████████████████▉                 | 105/200 [01:33<01:23,  1.13it/s, loss=0.0003, acc=1.0000]"
     ]
    },
    {
     "name": "stdout",
     "output_type": "stream",
     "text": [
      "Epoch 105: LR = 0.00010000\n"
     ]
    },
    {
     "name": "stderr",
     "output_type": "stream",
     "text": [
      "Training Progress:  53%|███████████████████                 | 106/200 [01:34<01:22,  1.14it/s, loss=0.0003, acc=1.0000]"
     ]
    },
    {
     "name": "stdout",
     "output_type": "stream",
     "text": [
      "Epoch 106: LR = 0.00010000\n"
     ]
    },
    {
     "name": "stderr",
     "output_type": "stream",
     "text": [
      "Training Progress:  54%|███████████████████▎                | 107/200 [01:34<01:21,  1.14it/s, loss=0.0005, acc=0.9999]"
     ]
    },
    {
     "name": "stdout",
     "output_type": "stream",
     "text": [
      "Epoch 107: LR = 0.00010000\n"
     ]
    },
    {
     "name": "stderr",
     "output_type": "stream",
     "text": [
      "Training Progress:  54%|███████████████████▍                | 108/200 [01:35<01:20,  1.14it/s, loss=0.0003, acc=0.9999]"
     ]
    },
    {
     "name": "stdout",
     "output_type": "stream",
     "text": [
      "Epoch 108: LR = 0.00010000\n"
     ]
    },
    {
     "name": "stderr",
     "output_type": "stream",
     "text": [
      "Training Progress:  55%|███████████████████▌                | 109/200 [01:36<01:19,  1.14it/s, loss=0.0004, acc=0.9999]"
     ]
    },
    {
     "name": "stdout",
     "output_type": "stream",
     "text": [
      "Epoch 109: LR = 0.00010000\n"
     ]
    },
    {
     "name": "stderr",
     "output_type": "stream",
     "text": [
      "Training Progress:  55%|███████████████████▊                | 110/200 [01:37<01:19,  1.14it/s, loss=0.0002, acc=1.0000]"
     ]
    },
    {
     "name": "stdout",
     "output_type": "stream",
     "text": [
      "Epoch 110: LR = 0.00010000\n"
     ]
    },
    {
     "name": "stderr",
     "output_type": "stream",
     "text": [
      "Training Progress:  56%|███████████████████▉                | 111/200 [01:38<01:18,  1.14it/s, loss=0.0003, acc=1.0000]"
     ]
    },
    {
     "name": "stdout",
     "output_type": "stream",
     "text": [
      "Epoch 111: LR = 0.00010000\n"
     ]
    },
    {
     "name": "stderr",
     "output_type": "stream",
     "text": [
      "Training Progress:  56%|████████████████████▏               | 112/200 [01:39<01:16,  1.15it/s, loss=0.0007, acc=0.9999]"
     ]
    },
    {
     "name": "stdout",
     "output_type": "stream",
     "text": [
      "Epoch 112: LR = 0.00010000\n"
     ]
    },
    {
     "name": "stderr",
     "output_type": "stream",
     "text": [
      "Training Progress:  56%|████████████████████▎               | 113/200 [01:40<01:15,  1.15it/s, loss=0.0003, acc=1.0000]"
     ]
    },
    {
     "name": "stdout",
     "output_type": "stream",
     "text": [
      "Epoch 113: LR = 0.00010000\n"
     ]
    },
    {
     "name": "stderr",
     "output_type": "stream",
     "text": [
      "Training Progress:  57%|████████████████████▌               | 114/200 [01:41<01:14,  1.15it/s, loss=0.0002, acc=1.0000]"
     ]
    },
    {
     "name": "stdout",
     "output_type": "stream",
     "text": [
      "Epoch 114: LR = 0.00010000\n"
     ]
    },
    {
     "name": "stderr",
     "output_type": "stream",
     "text": [
      "Training Progress:  57%|████████████████████▋               | 115/200 [01:41<01:14,  1.14it/s, loss=0.0002, acc=1.0000]"
     ]
    },
    {
     "name": "stdout",
     "output_type": "stream",
     "text": [
      "Epoch 115: LR = 0.00010000\n"
     ]
    },
    {
     "name": "stderr",
     "output_type": "stream",
     "text": [
      "Training Progress:  58%|████████████████████▉               | 116/200 [01:42<01:14,  1.13it/s, loss=0.0002, acc=1.0000]"
     ]
    },
    {
     "name": "stdout",
     "output_type": "stream",
     "text": [
      "Epoch 116: LR = 0.00010000\n"
     ]
    },
    {
     "name": "stderr",
     "output_type": "stream",
     "text": [
      "Training Progress:  58%|█████████████████████               | 117/200 [01:43<01:13,  1.13it/s, loss=0.0002, acc=1.0000]"
     ]
    },
    {
     "name": "stdout",
     "output_type": "stream",
     "text": [
      "Epoch 117: LR = 0.00010000\n"
     ]
    },
    {
     "name": "stderr",
     "output_type": "stream",
     "text": [
      "Training Progress:  59%|█████████████████████▏              | 118/200 [01:44<01:12,  1.13it/s, loss=0.0004, acc=0.9999]"
     ]
    },
    {
     "name": "stdout",
     "output_type": "stream",
     "text": [
      "Epoch 118: LR = 0.00010000\n"
     ]
    },
    {
     "name": "stderr",
     "output_type": "stream",
     "text": [
      "Training Progress:  60%|█████████████████████▍              | 119/200 [01:45<01:11,  1.13it/s, loss=0.0002, acc=1.0000]"
     ]
    },
    {
     "name": "stdout",
     "output_type": "stream",
     "text": [
      "Epoch 119: LR = 0.00010000\n"
     ]
    },
    {
     "name": "stderr",
     "output_type": "stream",
     "text": [
      "Training Progress:  60%|█████████████████████▌              | 120/200 [01:46<01:10,  1.13it/s, loss=0.0001, acc=1.0000]"
     ]
    },
    {
     "name": "stdout",
     "output_type": "stream",
     "text": [
      "Epoch 120: LR = 0.00010000\n"
     ]
    },
    {
     "name": "stderr",
     "output_type": "stream",
     "text": [
      "Training Progress:  60%|█████████████████████▊              | 121/200 [01:47<01:09,  1.13it/s, loss=0.0002, acc=1.0000]"
     ]
    },
    {
     "name": "stdout",
     "output_type": "stream",
     "text": [
      "Epoch 121: LR = 0.00010000\n"
     ]
    },
    {
     "name": "stderr",
     "output_type": "stream",
     "text": [
      "Training Progress:  61%|█████████████████████▉              | 122/200 [01:48<01:08,  1.13it/s, loss=0.0002, acc=1.0000]"
     ]
    },
    {
     "name": "stdout",
     "output_type": "stream",
     "text": [
      "Epoch 122: LR = 0.00010000\n"
     ]
    },
    {
     "name": "stderr",
     "output_type": "stream",
     "text": [
      "Training Progress:  62%|██████████████████████▏             | 123/200 [01:49<01:07,  1.14it/s, loss=0.0003, acc=1.0000]"
     ]
    },
    {
     "name": "stdout",
     "output_type": "stream",
     "text": [
      "Epoch 123: LR = 0.00010000\n"
     ]
    },
    {
     "name": "stderr",
     "output_type": "stream",
     "text": [
      "Training Progress:  62%|██████████████████████▎             | 124/200 [01:49<01:07,  1.13it/s, loss=0.0002, acc=1.0000]"
     ]
    },
    {
     "name": "stdout",
     "output_type": "stream",
     "text": [
      "Epoch 124: LR = 0.00010000\n"
     ]
    },
    {
     "name": "stderr",
     "output_type": "stream",
     "text": [
      "Training Progress:  62%|██████████████████████▌             | 125/200 [01:50<01:05,  1.14it/s, loss=0.0003, acc=1.0000]"
     ]
    },
    {
     "name": "stdout",
     "output_type": "stream",
     "text": [
      "Epoch 125: LR = 0.00010000\n"
     ]
    },
    {
     "name": "stderr",
     "output_type": "stream",
     "text": [
      "Training Progress:  63%|██████████████████████▋             | 126/200 [01:51<01:05,  1.13it/s, loss=0.0003, acc=0.9999]"
     ]
    },
    {
     "name": "stdout",
     "output_type": "stream",
     "text": [
      "Epoch 126: LR = 0.00010000\n"
     ]
    },
    {
     "name": "stderr",
     "output_type": "stream",
     "text": [
      "Training Progress:  64%|██████████████████████▊             | 127/200 [01:52<01:04,  1.13it/s, loss=0.0004, acc=0.9999]"
     ]
    },
    {
     "name": "stdout",
     "output_type": "stream",
     "text": [
      "Epoch 127: LR = 0.00010000\n"
     ]
    },
    {
     "name": "stderr",
     "output_type": "stream",
     "text": [
      "Training Progress:  64%|███████████████████████             | 128/200 [01:53<01:03,  1.13it/s, loss=0.0002, acc=1.0000]"
     ]
    },
    {
     "name": "stdout",
     "output_type": "stream",
     "text": [
      "Epoch 128: LR = 0.00010000\n"
     ]
    },
    {
     "name": "stderr",
     "output_type": "stream",
     "text": [
      "Training Progress:  64%|███████████████████████▏            | 129/200 [01:54<01:02,  1.14it/s, loss=0.0002, acc=1.0000]"
     ]
    },
    {
     "name": "stdout",
     "output_type": "stream",
     "text": [
      "Epoch 129: LR = 0.00010000\n"
     ]
    },
    {
     "name": "stderr",
     "output_type": "stream",
     "text": [
      "Training Progress:  65%|███████████████████████▍            | 130/200 [01:55<01:01,  1.14it/s, loss=0.0002, acc=1.0000]"
     ]
    },
    {
     "name": "stdout",
     "output_type": "stream",
     "text": [
      "Epoch 130: LR = 0.00010000\n"
     ]
    },
    {
     "name": "stderr",
     "output_type": "stream",
     "text": [
      "Training Progress:  66%|███████████████████████▌            | 131/200 [01:56<01:01,  1.13it/s, loss=0.0001, acc=1.0000]"
     ]
    },
    {
     "name": "stdout",
     "output_type": "stream",
     "text": [
      "Epoch 131: LR = 0.00010000\n"
     ]
    },
    {
     "name": "stderr",
     "output_type": "stream",
     "text": [
      "Training Progress:  66%|███████████████████████▊            | 132/200 [01:56<00:59,  1.14it/s, loss=0.0002, acc=1.0000]"
     ]
    },
    {
     "name": "stdout",
     "output_type": "stream",
     "text": [
      "Epoch 132: LR = 0.00010000\n"
     ]
    },
    {
     "name": "stderr",
     "output_type": "stream",
     "text": [
      "Training Progress:  66%|███████████████████████▉            | 133/200 [01:57<00:58,  1.14it/s, loss=0.0002, acc=1.0000]"
     ]
    },
    {
     "name": "stdout",
     "output_type": "stream",
     "text": [
      "Epoch 133: LR = 0.00010000\n"
     ]
    },
    {
     "name": "stderr",
     "output_type": "stream",
     "text": [
      "Training Progress:  67%|████████████████████████            | 134/200 [01:58<00:57,  1.14it/s, loss=0.0003, acc=1.0000]"
     ]
    },
    {
     "name": "stdout",
     "output_type": "stream",
     "text": [
      "Epoch 134: LR = 0.00010000\n"
     ]
    },
    {
     "name": "stderr",
     "output_type": "stream",
     "text": [
      "Training Progress:  68%|████████████████████████▎           | 135/200 [01:59<00:56,  1.14it/s, loss=0.0002, acc=1.0000]"
     ]
    },
    {
     "name": "stdout",
     "output_type": "stream",
     "text": [
      "Epoch 135: LR = 0.00010000\n"
     ]
    },
    {
     "name": "stderr",
     "output_type": "stream",
     "text": [
      "Training Progress:  68%|████████████████████████▍           | 136/200 [02:00<00:56,  1.14it/s, loss=0.0002, acc=1.0000]"
     ]
    },
    {
     "name": "stdout",
     "output_type": "stream",
     "text": [
      "Epoch 136: LR = 0.00010000\n"
     ]
    },
    {
     "name": "stderr",
     "output_type": "stream",
     "text": [
      "Training Progress:  68%|████████████████████████▋           | 137/200 [02:01<00:54,  1.15it/s, loss=0.0002, acc=1.0000]"
     ]
    },
    {
     "name": "stdout",
     "output_type": "stream",
     "text": [
      "Epoch 137: LR = 0.00010000\n"
     ]
    },
    {
     "name": "stderr",
     "output_type": "stream",
     "text": [
      "Training Progress:  69%|████████████████████████▊           | 138/200 [02:02<00:53,  1.16it/s, loss=0.0002, acc=1.0000]"
     ]
    },
    {
     "name": "stdout",
     "output_type": "stream",
     "text": [
      "Epoch 138: LR = 0.00010000\n"
     ]
    },
    {
     "name": "stderr",
     "output_type": "stream",
     "text": [
      "Training Progress:  70%|█████████████████████████           | 139/200 [02:03<00:52,  1.15it/s, loss=0.0003, acc=1.0000]"
     ]
    },
    {
     "name": "stdout",
     "output_type": "stream",
     "text": [
      "Epoch 139: LR = 0.00010000\n"
     ]
    },
    {
     "name": "stderr",
     "output_type": "stream",
     "text": [
      "Training Progress:  70%|█████████████████████████▏          | 140/200 [02:03<00:52,  1.14it/s, loss=0.0002, acc=1.0000]"
     ]
    },
    {
     "name": "stdout",
     "output_type": "stream",
     "text": [
      "Epoch 140: LR = 0.00010000\n"
     ]
    },
    {
     "name": "stderr",
     "output_type": "stream",
     "text": [
      "Training Progress:  70%|█████████████████████████▍          | 141/200 [02:04<00:53,  1.11it/s, loss=0.0003, acc=0.9999]"
     ]
    },
    {
     "name": "stdout",
     "output_type": "stream",
     "text": [
      "Epoch 141: LR = 0.00010000\n"
     ]
    },
    {
     "name": "stderr",
     "output_type": "stream",
     "text": [
      "Training Progress:  71%|█████████████████████████▌          | 142/200 [02:05<00:52,  1.11it/s, loss=0.0003, acc=0.9999]"
     ]
    },
    {
     "name": "stdout",
     "output_type": "stream",
     "text": [
      "Epoch 142: LR = 0.00010000\n"
     ]
    },
    {
     "name": "stderr",
     "output_type": "stream",
     "text": [
      "Training Progress:  72%|█████████████████████████▋          | 143/200 [02:06<00:50,  1.12it/s, loss=0.0001, acc=1.0000]"
     ]
    },
    {
     "name": "stdout",
     "output_type": "stream",
     "text": [
      "Epoch 143: LR = 0.00010000\n"
     ]
    },
    {
     "name": "stderr",
     "output_type": "stream",
     "text": [
      "Training Progress:  72%|█████████████████████████▉          | 144/200 [02:07<00:50,  1.12it/s, loss=0.0003, acc=1.0000]"
     ]
    },
    {
     "name": "stdout",
     "output_type": "stream",
     "text": [
      "Epoch 144: LR = 0.00010000\n"
     ]
    },
    {
     "name": "stderr",
     "output_type": "stream",
     "text": [
      "Training Progress:  72%|██████████████████████████          | 145/200 [02:08<00:48,  1.12it/s, loss=0.0002, acc=1.0000]"
     ]
    },
    {
     "name": "stdout",
     "output_type": "stream",
     "text": [
      "Epoch 145: LR = 0.00010000\n"
     ]
    },
    {
     "name": "stderr",
     "output_type": "stream",
     "text": [
      "Training Progress:  73%|██████████████████████████▎         | 146/200 [02:09<00:47,  1.13it/s, loss=0.0004, acc=0.9999]"
     ]
    },
    {
     "name": "stdout",
     "output_type": "stream",
     "text": [
      "Epoch 146: LR = 0.00010000\n"
     ]
    },
    {
     "name": "stderr",
     "output_type": "stream",
     "text": [
      "Training Progress:  74%|██████████████████████████▍         | 147/200 [02:10<00:47,  1.12it/s, loss=0.0006, acc=0.9997]"
     ]
    },
    {
     "name": "stdout",
     "output_type": "stream",
     "text": [
      "Epoch 147: LR = 0.00010000\n"
     ]
    },
    {
     "name": "stderr",
     "output_type": "stream",
     "text": [
      "Training Progress:  74%|██████████████████████████▋         | 148/200 [02:11<00:46,  1.12it/s, loss=0.0002, acc=1.0000]"
     ]
    },
    {
     "name": "stdout",
     "output_type": "stream",
     "text": [
      "Epoch 148: LR = 0.00010000\n"
     ]
    },
    {
     "name": "stderr",
     "output_type": "stream",
     "text": [
      "Training Progress:  74%|██████████████████████████▊         | 149/200 [02:12<00:45,  1.11it/s, loss=0.0003, acc=1.0000]"
     ]
    },
    {
     "name": "stdout",
     "output_type": "stream",
     "text": [
      "Epoch 149: LR = 0.00010000\n"
     ]
    },
    {
     "name": "stderr",
     "output_type": "stream",
     "text": [
      "Training Progress:  75%|███████████████████████████         | 150/200 [02:12<00:44,  1.11it/s, loss=0.0002, acc=1.0000]"
     ]
    },
    {
     "name": "stdout",
     "output_type": "stream",
     "text": [
      "Epoch 150: LR = 0.00010000\n"
     ]
    },
    {
     "name": "stderr",
     "output_type": "stream",
     "text": [
      "Training Progress:  76%|███████████████████████████▏        | 151/200 [02:13<00:43,  1.12it/s, loss=0.0002, acc=1.0000]"
     ]
    },
    {
     "name": "stdout",
     "output_type": "stream",
     "text": [
      "Epoch 151: LR = 0.00010000\n"
     ]
    },
    {
     "name": "stderr",
     "output_type": "stream",
     "text": [
      "Training Progress:  76%|███████████████████████████▎        | 152/200 [02:14<00:42,  1.13it/s, loss=0.0010, acc=0.9996]"
     ]
    },
    {
     "name": "stdout",
     "output_type": "stream",
     "text": [
      "Epoch 152: LR = 0.00010000\n"
     ]
    },
    {
     "name": "stderr",
     "output_type": "stream",
     "text": [
      "Training Progress:  76%|███████████████████████████▌        | 153/200 [02:15<00:41,  1.13it/s, loss=0.0002, acc=1.0000]"
     ]
    },
    {
     "name": "stdout",
     "output_type": "stream",
     "text": [
      "Epoch 153: LR = 0.00010000\n"
     ]
    },
    {
     "name": "stderr",
     "output_type": "stream",
     "text": [
      "Training Progress:  77%|███████████████████████████▋        | 154/200 [02:16<00:40,  1.13it/s, loss=0.0002, acc=1.0000]"
     ]
    },
    {
     "name": "stdout",
     "output_type": "stream",
     "text": [
      "Epoch 154: LR = 0.00010000\n"
     ]
    },
    {
     "name": "stderr",
     "output_type": "stream",
     "text": [
      "Training Progress:  78%|███████████████████████████▉        | 155/200 [02:17<00:39,  1.13it/s, loss=0.0002, acc=1.0000]"
     ]
    },
    {
     "name": "stdout",
     "output_type": "stream",
     "text": [
      "Epoch 155: LR = 0.00010000\n"
     ]
    },
    {
     "name": "stderr",
     "output_type": "stream",
     "text": [
      "Training Progress:  78%|████████████████████████████        | 156/200 [02:18<00:38,  1.13it/s, loss=0.0002, acc=1.0000]"
     ]
    },
    {
     "name": "stdout",
     "output_type": "stream",
     "text": [
      "Epoch 156: LR = 0.00010000\n"
     ]
    },
    {
     "name": "stderr",
     "output_type": "stream",
     "text": [
      "Training Progress:  78%|████████████████████████████▎       | 157/200 [02:19<00:38,  1.12it/s, loss=0.0002, acc=1.0000]"
     ]
    },
    {
     "name": "stdout",
     "output_type": "stream",
     "text": [
      "Epoch 157: LR = 0.00010000\n"
     ]
    },
    {
     "name": "stderr",
     "output_type": "stream",
     "text": [
      "Training Progress:  79%|████████████████████████████▍       | 158/200 [02:20<00:37,  1.13it/s, loss=0.0002, acc=1.0000]"
     ]
    },
    {
     "name": "stdout",
     "output_type": "stream",
     "text": [
      "Epoch 158: LR = 0.00010000\n"
     ]
    },
    {
     "name": "stderr",
     "output_type": "stream",
     "text": [
      "Training Progress:  80%|████████████████████████████▌       | 159/200 [02:20<00:36,  1.12it/s, loss=0.0002, acc=1.0000]"
     ]
    },
    {
     "name": "stdout",
     "output_type": "stream",
     "text": [
      "Epoch 159: LR = 0.00010000\n"
     ]
    },
    {
     "name": "stderr",
     "output_type": "stream",
     "text": [
      "Training Progress:  80%|████████████████████████████▊       | 160/200 [02:21<00:35,  1.11it/s, loss=0.0002, acc=1.0000]"
     ]
    },
    {
     "name": "stdout",
     "output_type": "stream",
     "text": [
      "Epoch 160: LR = 0.00010000\n"
     ]
    },
    {
     "name": "stderr",
     "output_type": "stream",
     "text": [
      "Training Progress:  80%|████████████████████████████▉       | 161/200 [02:22<00:34,  1.12it/s, loss=0.0003, acc=1.0000]"
     ]
    },
    {
     "name": "stdout",
     "output_type": "stream",
     "text": [
      "Epoch 161: LR = 0.00010000\n"
     ]
    },
    {
     "name": "stderr",
     "output_type": "stream",
     "text": [
      "Training Progress:  81%|█████████████████████████████▏      | 162/200 [02:23<00:33,  1.12it/s, loss=0.0002, acc=1.0000]"
     ]
    },
    {
     "name": "stdout",
     "output_type": "stream",
     "text": [
      "Epoch 162: LR = 0.00010000\n"
     ]
    },
    {
     "name": "stderr",
     "output_type": "stream",
     "text": [
      "Training Progress:  82%|█████████████████████████████▎      | 163/200 [02:24<00:32,  1.13it/s, loss=0.0002, acc=1.0000]"
     ]
    },
    {
     "name": "stdout",
     "output_type": "stream",
     "text": [
      "Epoch 163: LR = 0.00010000\n"
     ]
    },
    {
     "name": "stderr",
     "output_type": "stream",
     "text": [
      "Training Progress:  82%|█████████████████████████████▌      | 164/200 [02:25<00:32,  1.12it/s, loss=0.0001, acc=1.0000]"
     ]
    },
    {
     "name": "stdout",
     "output_type": "stream",
     "text": [
      "Epoch 164: LR = 0.00010000\n"
     ]
    },
    {
     "name": "stderr",
     "output_type": "stream",
     "text": [
      "Training Progress:  82%|█████████████████████████████▋      | 165/200 [02:26<00:31,  1.10it/s, loss=0.0002, acc=1.0000]"
     ]
    },
    {
     "name": "stdout",
     "output_type": "stream",
     "text": [
      "Epoch 165: LR = 0.00010000\n"
     ]
    },
    {
     "name": "stderr",
     "output_type": "stream",
     "text": [
      "Training Progress:  83%|█████████████████████████████▉      | 166/200 [02:27<00:30,  1.11it/s, loss=0.0005, acc=0.9999]"
     ]
    },
    {
     "name": "stdout",
     "output_type": "stream",
     "text": [
      "Epoch 166: LR = 0.00010000\n"
     ]
    },
    {
     "name": "stderr",
     "output_type": "stream",
     "text": [
      "Training Progress:  84%|██████████████████████████████      | 167/200 [02:28<00:29,  1.12it/s, loss=0.0001, acc=1.0000]"
     ]
    },
    {
     "name": "stdout",
     "output_type": "stream",
     "text": [
      "Epoch 167: LR = 0.00010000\n"
     ]
    },
    {
     "name": "stderr",
     "output_type": "stream",
     "text": [
      "Training Progress:  84%|██████████████████████████████▏     | 168/200 [02:28<00:28,  1.13it/s, loss=0.0002, acc=1.0000]"
     ]
    },
    {
     "name": "stdout",
     "output_type": "stream",
     "text": [
      "Epoch 168: LR = 0.00010000\n"
     ]
    },
    {
     "name": "stderr",
     "output_type": "stream",
     "text": [
      "Training Progress:  84%|██████████████████████████████▍     | 169/200 [02:29<00:27,  1.12it/s, loss=0.0001, acc=1.0000]"
     ]
    },
    {
     "name": "stdout",
     "output_type": "stream",
     "text": [
      "Epoch 169: LR = 0.00010000\n"
     ]
    },
    {
     "name": "stderr",
     "output_type": "stream",
     "text": [
      "Training Progress:  85%|██████████████████████████████▌     | 170/200 [02:30<00:26,  1.12it/s, loss=0.0002, acc=1.0000]"
     ]
    },
    {
     "name": "stdout",
     "output_type": "stream",
     "text": [
      "Epoch 170: LR = 0.00010000\n"
     ]
    },
    {
     "name": "stderr",
     "output_type": "stream",
     "text": [
      "Training Progress:  86%|██████████████████████████████▊     | 171/200 [02:31<00:25,  1.12it/s, loss=0.0002, acc=1.0000]"
     ]
    },
    {
     "name": "stdout",
     "output_type": "stream",
     "text": [
      "Epoch 171: LR = 0.00010000\n"
     ]
    },
    {
     "name": "stderr",
     "output_type": "stream",
     "text": [
      "Training Progress:  86%|██████████████████████████████▉     | 172/200 [02:32<00:25,  1.12it/s, loss=0.0001, acc=1.0000]"
     ]
    },
    {
     "name": "stdout",
     "output_type": "stream",
     "text": [
      "Epoch 172: LR = 0.00010000\n"
     ]
    },
    {
     "name": "stderr",
     "output_type": "stream",
     "text": [
      "Training Progress:  86%|███████████████████████████████▏    | 173/200 [02:33<00:24,  1.11it/s, loss=0.0002, acc=1.0000]"
     ]
    },
    {
     "name": "stdout",
     "output_type": "stream",
     "text": [
      "Epoch 173: LR = 0.00010000\n"
     ]
    },
    {
     "name": "stderr",
     "output_type": "stream",
     "text": [
      "Training Progress:  87%|███████████████████████████████▎    | 174/200 [02:34<00:23,  1.11it/s, loss=0.0001, acc=1.0000]"
     ]
    },
    {
     "name": "stdout",
     "output_type": "stream",
     "text": [
      "Epoch 174: LR = 0.00010000\n"
     ]
    },
    {
     "name": "stderr",
     "output_type": "stream",
     "text": [
      "Training Progress:  88%|███████████████████████████████▌    | 175/200 [02:35<00:22,  1.12it/s, loss=0.0002, acc=1.0000]"
     ]
    },
    {
     "name": "stdout",
     "output_type": "stream",
     "text": [
      "Epoch 175: LR = 0.00010000\n"
     ]
    },
    {
     "name": "stderr",
     "output_type": "stream",
     "text": [
      "Training Progress:  88%|███████████████████████████████▋    | 176/200 [02:36<00:21,  1.11it/s, loss=0.0001, acc=1.0000]"
     ]
    },
    {
     "name": "stdout",
     "output_type": "stream",
     "text": [
      "Epoch 176: LR = 0.00010000\n"
     ]
    },
    {
     "name": "stderr",
     "output_type": "stream",
     "text": [
      "Training Progress:  88%|███████████████████████████████▊    | 177/200 [02:37<00:20,  1.11it/s, loss=0.0001, acc=1.0000]"
     ]
    },
    {
     "name": "stdout",
     "output_type": "stream",
     "text": [
      "Epoch 177: LR = 0.00010000\n"
     ]
    },
    {
     "name": "stderr",
     "output_type": "stream",
     "text": [
      "Training Progress:  89%|████████████████████████████████    | 178/200 [02:37<00:19,  1.12it/s, loss=0.0001, acc=1.0000]"
     ]
    },
    {
     "name": "stdout",
     "output_type": "stream",
     "text": [
      "Epoch 178: LR = 0.00010000\n"
     ]
    },
    {
     "name": "stderr",
     "output_type": "stream",
     "text": [
      "Training Progress:  90%|████████████████████████████████▏   | 179/200 [02:38<00:18,  1.12it/s, loss=0.0003, acc=1.0000]"
     ]
    },
    {
     "name": "stdout",
     "output_type": "stream",
     "text": [
      "Epoch 179: LR = 0.00010000\n"
     ]
    },
    {
     "name": "stderr",
     "output_type": "stream",
     "text": [
      "Training Progress:  90%|████████████████████████████████▍   | 180/200 [02:39<00:18,  1.11it/s, loss=0.0002, acc=1.0000]"
     ]
    },
    {
     "name": "stdout",
     "output_type": "stream",
     "text": [
      "Epoch 180: LR = 0.00010000\n"
     ]
    },
    {
     "name": "stderr",
     "output_type": "stream",
     "text": [
      "Training Progress:  90%|████████████████████████████████▌   | 181/200 [02:40<00:17,  1.11it/s, loss=0.0003, acc=1.0000]"
     ]
    },
    {
     "name": "stdout",
     "output_type": "stream",
     "text": [
      "Epoch 181: LR = 0.00010000\n"
     ]
    },
    {
     "name": "stderr",
     "output_type": "stream",
     "text": [
      "Training Progress:  91%|████████████████████████████████▊   | 182/200 [02:41<00:16,  1.12it/s, loss=0.0003, acc=0.9999]"
     ]
    },
    {
     "name": "stdout",
     "output_type": "stream",
     "text": [
      "Epoch 182: LR = 0.00010000\n"
     ]
    },
    {
     "name": "stderr",
     "output_type": "stream",
     "text": [
      "Training Progress:  92%|████████████████████████████████▉   | 183/200 [02:42<00:15,  1.11it/s, loss=0.0003, acc=0.9999]"
     ]
    },
    {
     "name": "stdout",
     "output_type": "stream",
     "text": [
      "Epoch 183: LR = 0.00010000\n"
     ]
    },
    {
     "name": "stderr",
     "output_type": "stream",
     "text": [
      "Training Progress:  92%|█████████████████████████████████   | 184/200 [02:43<00:14,  1.11it/s, loss=0.0002, acc=1.0000]"
     ]
    },
    {
     "name": "stdout",
     "output_type": "stream",
     "text": [
      "Epoch 184: LR = 0.00010000\n"
     ]
    },
    {
     "name": "stderr",
     "output_type": "stream",
     "text": [
      "Training Progress:  92%|█████████████████████████████████▎  | 185/200 [02:44<00:13,  1.12it/s, loss=0.0003, acc=1.0000]"
     ]
    },
    {
     "name": "stdout",
     "output_type": "stream",
     "text": [
      "Epoch 185: LR = 0.00010000\n"
     ]
    },
    {
     "name": "stderr",
     "output_type": "stream",
     "text": [
      "Training Progress:  93%|█████████████████████████████████▍  | 186/200 [02:45<00:12,  1.12it/s, loss=0.0004, acc=0.9999]"
     ]
    },
    {
     "name": "stdout",
     "output_type": "stream",
     "text": [
      "Epoch 186: LR = 0.00010000\n"
     ]
    },
    {
     "name": "stderr",
     "output_type": "stream",
     "text": [
      "Training Progress:  94%|█████████████████████████████████▋  | 187/200 [02:46<00:11,  1.11it/s, loss=0.0002, acc=1.0000]"
     ]
    },
    {
     "name": "stdout",
     "output_type": "stream",
     "text": [
      "Epoch 187: LR = 0.00010000\n"
     ]
    },
    {
     "name": "stderr",
     "output_type": "stream",
     "text": [
      "Training Progress:  94%|█████████████████████████████████▊  | 188/200 [02:46<00:10,  1.11it/s, loss=0.0002, acc=1.0000]"
     ]
    },
    {
     "name": "stdout",
     "output_type": "stream",
     "text": [
      "Epoch 188: LR = 0.00010000\n"
     ]
    },
    {
     "name": "stderr",
     "output_type": "stream",
     "text": [
      "Training Progress:  94%|██████████████████████████████████  | 189/200 [02:47<00:09,  1.12it/s, loss=0.0006, acc=0.9997]"
     ]
    },
    {
     "name": "stdout",
     "output_type": "stream",
     "text": [
      "Epoch 189: LR = 0.00010000\n"
     ]
    },
    {
     "name": "stderr",
     "output_type": "stream",
     "text": [
      "Training Progress:  95%|██████████████████████████████████▏ | 190/200 [02:48<00:09,  1.11it/s, loss=0.0002, acc=1.0000]"
     ]
    },
    {
     "name": "stdout",
     "output_type": "stream",
     "text": [
      "Epoch 190: LR = 0.00010000\n"
     ]
    },
    {
     "name": "stderr",
     "output_type": "stream",
     "text": [
      "Training Progress:  96%|██████████████████████████████████▍ | 191/200 [02:49<00:08,  1.11it/s, loss=0.0002, acc=1.0000]"
     ]
    },
    {
     "name": "stdout",
     "output_type": "stream",
     "text": [
      "Epoch 191: LR = 0.00010000\n"
     ]
    },
    {
     "name": "stderr",
     "output_type": "stream",
     "text": [
      "Training Progress:  96%|██████████████████████████████████▌ | 192/200 [02:50<00:07,  1.12it/s, loss=0.0005, acc=0.9997]"
     ]
    },
    {
     "name": "stdout",
     "output_type": "stream",
     "text": [
      "Epoch 192: LR = 0.00010000\n"
     ]
    },
    {
     "name": "stderr",
     "output_type": "stream",
     "text": [
      "Training Progress:  96%|██████████████████████████████████▋ | 193/200 [02:51<00:06,  1.12it/s, loss=0.0002, acc=1.0000]"
     ]
    },
    {
     "name": "stdout",
     "output_type": "stream",
     "text": [
      "Epoch 193: LR = 0.00010000\n"
     ]
    },
    {
     "name": "stderr",
     "output_type": "stream",
     "text": [
      "Training Progress:  97%|██████████████████████████████████▉ | 194/200 [02:52<00:05,  1.12it/s, loss=0.0004, acc=1.0000]"
     ]
    },
    {
     "name": "stdout",
     "output_type": "stream",
     "text": [
      "Epoch 194: LR = 0.00010000\n"
     ]
    },
    {
     "name": "stderr",
     "output_type": "stream",
     "text": [
      "Training Progress:  98%|███████████████████████████████████ | 195/200 [02:53<00:04,  1.12it/s, loss=0.0003, acc=1.0000]"
     ]
    },
    {
     "name": "stdout",
     "output_type": "stream",
     "text": [
      "Epoch 195: LR = 0.00010000\n"
     ]
    },
    {
     "name": "stderr",
     "output_type": "stream",
     "text": [
      "Training Progress:  98%|███████████████████████████████████▎| 196/200 [02:54<00:03,  1.12it/s, loss=0.0002, acc=1.0000]"
     ]
    },
    {
     "name": "stdout",
     "output_type": "stream",
     "text": [
      "Epoch 196: LR = 0.00010000\n"
     ]
    },
    {
     "name": "stderr",
     "output_type": "stream",
     "text": [
      "Training Progress:  98%|███████████████████████████████████▍| 197/200 [02:54<00:02,  1.12it/s, loss=0.0002, acc=1.0000]"
     ]
    },
    {
     "name": "stdout",
     "output_type": "stream",
     "text": [
      "Epoch 197: LR = 0.00010000\n"
     ]
    },
    {
     "name": "stderr",
     "output_type": "stream",
     "text": [
      "Training Progress:  99%|███████████████████████████████████▋| 198/200 [02:55<00:01,  1.11it/s, loss=0.0002, acc=1.0000]"
     ]
    },
    {
     "name": "stdout",
     "output_type": "stream",
     "text": [
      "Epoch 198: LR = 0.00010000\n"
     ]
    },
    {
     "name": "stderr",
     "output_type": "stream",
     "text": [
      "Training Progress: 100%|███████████████████████████████████▊| 199/200 [02:56<00:00,  1.10it/s, loss=0.0003, acc=1.0000]"
     ]
    },
    {
     "name": "stdout",
     "output_type": "stream",
     "text": [
      "Epoch 199: LR = 0.00010000\n"
     ]
    },
    {
     "name": "stderr",
     "output_type": "stream",
     "text": [
      "Training Progress: 100%|████████████████████████████████████| 200/200 [02:57<00:00,  1.13it/s, loss=0.0001, acc=1.0000]"
     ]
    },
    {
     "name": "stdout",
     "output_type": "stream",
     "text": [
      "Epoch 200: LR = 0.00010000\n",
      "Epoch 200/200 - Loss: 0.0001, Accuracy: 1.0000\n"
     ]
    },
    {
     "name": "stderr",
     "output_type": "stream",
     "text": [
      "\n"
     ]
    },
    {
     "data": {
      "image/png": "[encoded data removed]",
      "text/plain": [
       "<Figure size 1000x500 with 1 Axes>"
      ]
     },
     "metadata": {},
     "output_type": "display_data"
    }
   ],
   "source": [
    "# 训练迁移模型\n",
    "optim_ADAM, epoch, losslist, correctlist, train_correctlist = train_ADAM_transfer(\n",
    "    model_transfer, \n",
    "    X_train_loader, \n",
    "    optimizer=optim_ADAM_transfer, \n",
    "    scheduler=warmup_scheduler_transfer,\n",
    "    epoch=total_epochs_transfer,\n",
    "    user_id=user_id, window_size=window_size\n",
    ")"
   ]
  },
  {
   "cell_type": "code",
   "execution_count": 22,
   "metadata": {},
   "outputs": [
    {
     "name": "stdout",
     "output_type": "stream",
     "text": [
      "Transfer model saved to: D:/论文数据/mouse/model_pt/ending_model/gru-transfer-user7_100-path.pt\n"
     ]
    }
   ],
   "source": [
    "# 保存迁移后的模型\n",
    "transfer_save_path = f'D:/论文数据/mouse/model_pt/ending_model/gru-transfer-user{user_id}_{window_size}-path.pt'  # 修改为实际路径\n",
    "state = {\n",
    "    'model': model_transfer.state_dict(),\n",
    "    'epoch': epoch\n",
    "}\n",
    "torch.save(state, transfer_save_path)\n",
    "print(f\"Transfer model saved to: {transfer_save_path}\")"
   ]
  },
  {
   "cell_type": "code",
   "execution_count": 23,
   "metadata": {},
   "outputs": [
    {
     "name": "stdout",
     "output_type": "stream",
     "text": [
      "Model has 7,265,517 trainable parameters\n"
     ]
    }
   ],
   "source": [
    "import torch\n",
    "\n",
    "model = MouseNeuralNetwork(X.shape[2])  # 替换为你的模型\n",
    "params = sum(p.numel() for p in model.parameters() if p.requires_grad)\n",
    "print(f\"Model has {params:,} trainable parameters\")"
   ]
  },
  {
   "cell_type": "raw",
   "metadata": {},
   "source": [
    "==============  ==============  ==============  ==============  ==============  ==============  ==============  ============== "
   ]
  },
  {
   "cell_type": "raw",
   "metadata": {},
   "source": [
    "                                                       下面开始测试代码"
   ]
  },
  {
   "cell_type": "raw",
   "metadata": {},
   "source": [
    "==============  ==============  ==============  ==============  ==============  ==============  ==============  ============== "
   ]
  },
  {
   "cell_type": "code",
   "execution_count": 24,
   "metadata": {},
   "outputs": [],
   "source": [
    "import os\n",
    "import sys\n",
    "import math\n",
    "import csv\n",
    "\n",
    "import numpy as np\n",
    "import matplotlib.pyplot as plt\n",
    "from sklearn import metrics\n",
    "\n",
    "import torch\n",
    "from torch import nn\n",
    "import torch.nn.functional as F\n",
    "from torch.autograd import Variable\n",
    "from torch.utils import data\n",
    "from torch.utils.data import (\n",
    "    DataLoader,\n",
    "    RandomSampler,\n",
    "    SequentialSampler,\n",
    "    TensorDataset,\n",
    "    WeightedRandomSampler,\n",
    "    random_split\n",
    ")\n",
    "import torchvision\n",
    "from torchvision.datasets import mnist\n",
    "\n",
    "from torch.optim.lr_scheduler import CosineAnnealingLR\n",
    "from warmup_scheduler import GradualWarmupScheduler\n",
    "\n",
    "# 设置项目根目录\n",
    "project_root = \"C:/Users/Admin/Mouse\"  # 替换为您的项目根目录路径\n",
    "datautils_path = os.path.join(project_root, 'datautils')\n",
    "model_path = os.path.join(project_root, 'model')\n",
    "\n",
    "# 添加自定义模块路径\n",
    "sys.path.extend([datautils_path, model_path])\n",
    "\n",
    "# 导入自定义模块\n",
    "from data_utils import load_mouse_data, process_mouse_data\n",
    "from resnet_mouse import  BasicBlock1D, ResNet1D\n",
    "from mouse_traj_classification import MouseNeuralNetwork, MouseNeuralNetwork2\n",
    "from new_optim import SWATS\n",
    "import time\n",
    "\n",
    "# 获取当前工作目录（可选）\n",
    "pwd = os.getcwd()\n",
    "# print(pwd)\n"
   ]
  },
  {
   "cell_type": "code",
   "execution_count": 25,
   "metadata": {},
   "outputs": [],
   "source": [
    "def save_results_to_csv(user_id, window_size, metrics_dict, csv_path):\n",
    "    \"\"\"\n",
    "    保存结果到CSV文件\n",
    "    Args:\n",
    "        user_id: 用户ID\n",
    "        window_size: 窗口大小\n",
    "        metrics_dict: 包含各项指标的字典\n",
    "        csv_path: CSV文件路径\n",
    "    \"\"\"\n",
    "    # 定义列名\n",
    "    columns = ['user_id', 'window_size', 'recall', 'accuracy', 'precision', 'F1', 'AUC', 'EER']\n",
    "    \n",
    "    # 检查文件是否存在\n",
    "    if os.path.exists(csv_path):\n",
    "        df = pd.read_csv(csv_path)\n",
    "    else:\n",
    "        df = pd.DataFrame(columns=columns)\n",
    "    \n",
    "    # 创建新行数据\n",
    "    new_row = pd.DataFrame([{\n",
    "        'user_id': f'user{user_id}',\n",
    "        'window_size': window_size,\n",
    "        'recall': metrics_dict['recall'],\n",
    "        'accuracy': metrics_dict['accuracy'],\n",
    "        'precision': metrics_dict['precision'],\n",
    "        'F1': metrics_dict['f1'],\n",
    "        'AUC': metrics_dict['auc'],\n",
    "        'EER': metrics_dict['eer']\n",
    "    }])\n",
    "    \n",
    "    # 使用concat替代append\n",
    "    df = pd.concat([df, new_row], ignore_index=True)\n",
    "    \n",
    "    # 保存到CSV\n",
    "    df.to_csv(csv_path, index=False)\n",
    "    print(f\"Results saved to {csv_path}\")"
   ]
  },
  {
   "cell_type": "code",
   "execution_count": 26,
   "metadata": {},
   "outputs": [],
   "source": [
    "# 评估函数\n",
    "def val(model, data_loader):\n",
    "    correct = 0 \n",
    "    fenmu = 0\n",
    "    New_label = []\n",
    "    \n",
    "    total_inference_time = 0\n",
    "    num_inferences = 0\n",
    "\n",
    "    for data in data_loader:\n",
    "        X, label = data\n",
    "        model.zero_grad()\n",
    "        \n",
    "        start_time = time.time()\n",
    "        pred = model(X).squeeze()\n",
    "        end_time = time.time()\n",
    "        \n",
    "        total_inference_time += (end_time - start_time)\n",
    "        num_inferences += X.size(0)\n",
    "        \n",
    "        _, pred_id = torch.max(pred, dim=1)\n",
    "        correct += (pred_id == label).sum().cpu().detach().numpy()\n",
    "        New_label.append(label)\n",
    "        fenmu += label.size(0)\n",
    "        \n",
    "    correct = correct / fenmu\n",
    "    avg_inference_time = total_inference_time / num_inferences\n",
    "    print(f\"Average inference time: {avg_inference_time:.6f} seconds\")\n",
    "    \n",
    "    return pred_id, pred, label\n",
    "\n",
    "def recall(predictions, labels):\n",
    "    TP, FP, TN, FN = 0, 0, 0, 0\n",
    "    for i in range(len(predictions)):\n",
    "        if predictions[i] == 1 and labels[i] == 1:\n",
    "            TP += 1\n",
    "        elif predictions[i] == 1 and labels[i] == 0:\n",
    "            FP += 1\n",
    "        elif predictions[i] == 0 and labels[i] == 0:\n",
    "            TN += 1\n",
    "        elif predictions[i] == 0 and labels[i] == 1:\n",
    "            FN += 1\n",
    "    if (TP + FN) == 0:\n",
    "        print(predictions)\n",
    "        print(labels)\n",
    "    recall = TP / (TP + FN)\n",
    "    return recall\n",
    "\n",
    "def et_TPFN(predictions, labels):\n",
    "    TP, FP, TN, FN = 0, 0, 0, 0\n",
    "    for i in range(len(predictions)):\n",
    "        if predictions[i] == 1 and labels[i] == 1:\n",
    "            TP += 1\n",
    "        elif predictions[i] == 1 and labels[i] == 0:\n",
    "            FP += 1\n",
    "        elif predictions[i] == 0 and labels[i] == 0:\n",
    "            TN += 1\n",
    "        elif predictions[i] == 0 and labels[i] == 1:\n",
    "            FN += 1\n",
    "    return TP, FP, TN, FN\n",
    "\n",
    "def pre(predictions, labels):\n",
    "    TP, FP, TN, FN = 0, 0, 0, 0\n",
    "    for i in range(len(predictions)):\n",
    "        if predictions[i] == 1 and labels[i] == 1:\n",
    "            TP += 1\n",
    "        elif predictions[i] == 1 and labels[i] == 0:\n",
    "            FP += 1\n",
    "        elif predictions[i] == 0 and labels[i] == 0:\n",
    "            TN += 1\n",
    "        elif predictions[i] == 0 and labels[i] == 1:\n",
    "            FN += 1\n",
    "    return TP/(FP+TP)\n",
    "# 在评估函数部分添加新的指标计算函数\n",
    "def calculate_f1(precision, recall):\n",
    "    \"\"\"计算F1分数\"\"\"\n",
    "    if precision + recall == 0:\n",
    "        return 0\n",
    "    return 2 * (precision * recall) / (precision + recall)\n",
    "\n",
    "def calculate_eer(fpr, tpr):\n",
    "    \"\"\"计算EER (Equal Error Rate)\"\"\"\n",
    "    fnr = 1 - tpr\n",
    "    # EER是当FAR(FPR)等于FRR(FNR)时的值\n",
    "    eer = fpr[np.nanargmin(np.absolute(fnr - fpr))]\n",
    "    return eer"
   ]
  },
  {
   "cell_type": "code",
   "execution_count": 27,
   "metadata": {},
   "outputs": [
    {
     "name": "stdout",
     "output_type": "stream",
     "text": [
      "\n",
      "Loading test data from: D:/论文数据/mouse/data_pkl/processed_data_user7/test_dataset_user7_100.pkl\n"
     ]
    }
   ],
   "source": [
    "import dill\n",
    "import torch\n",
    "import json\n",
    "import numpy as np\n",
    "\n",
    "\n",
    "# 1. 加载原始测试数据\n",
    "test_dataset_path = f'D:/论文数据/mouse/data_pkl/processed_data_user{user_id}/test_dataset_user{user_id}_{window_size}.pkl'\n",
    "print(f\"\\nLoading test data from: {test_dataset_path}\")\n",
    "with open(test_dataset_path, 'rb') as f:\n",
    "    test_dataset = torch.load(f, pickle_module=pickle)\n",
    "X_test_loader = DataLoader(test_dataset, batch_size=100, shuffle=True)\n",
    "# 重新创建 DataLoader\n",
    "# X_train_loader = DataLoader(train_dataset, batch_size=128, shuffle=True)\n",
    "# X_test_loader = DataLoader(test_dataset, batch_size=128, shuffle=True)\n"
   ]
  },
  {
   "cell_type": "code",
   "execution_count": 28,
   "metadata": {},
   "outputs": [
    {
     "name": "stdout",
     "output_type": "stream",
     "text": [
      "\n",
      "Loading test data from: D:/论文数据/mouse/data_pkl/processed_data_user7/test_dataset_user7_100.pkl\n",
      "\n",
      "Original Test Dataset Statistics:\n",
      "Total number of samples: 3401\n",
      "Positive (0): 2834\n",
      "Negative (1): 567\n",
      "Sample shape: torch.Size([1, 100])\n",
      "Data type of X_test: torch.float32\n",
      "Data type of y_test: torch.float32\n",
      "\n",
      "Loading predict data from: D:/论文数据/mouse/data/processed_data_user7/predict_samples_user7_100.json\n",
      "Predict samples shape after processing: torch.Size([1889, 1, 100])\n",
      "Data type of X_predict: torch.float32\n",
      "\n",
      "Number of negative samples in test set: 567\n",
      "Number of predict samples to insert: 567\n",
      "\n",
      "Final Test Dataset Statistics:\n",
      "Total number of samples: 3968\n",
      "Positive (0): 2834\n",
      "Negative (1): 1134\n",
      "Data shape: torch.Size([1, 100])\n",
      "Data type of X_test_final: torch.float32\n",
      "Data type of y_test_final: torch.float32\n",
      "\n",
      "Final Test Loader:\n",
      "Number of samples: 3968\n",
      "Batch size: 256\n",
      "\n",
      "Creating new test DataLoader from the selected final samples...\n",
      "Shape after insertion: torch.Size([1, 100])\n",
      "\n",
      "New Test DataLoader Details:\n",
      "Single batch shape: torch.Size([256, 1, 100])\n",
      "Features dimension: 1\n",
      "Sequence length: 100\n",
      "\n",
      "Total number of samples: 3840\n",
      "Number of batches: 15\n",
      "Batch sizes: [256, 256, 256, 256, 256, 256, 256, 256, 256, 256, 256, 256, 256, 256, 256]\n",
      "\n",
      "Label distribution:\n",
      "Label 0.0: 2745 samples\n",
      "Label 1.0: 1095 samples\n",
      "\n",
      "Checking X_test_loader Details:\n",
      "Single batch shape: torch.Size([256, 1, 100])\n",
      "Features dimension: 1\n",
      "Sequence length: 100\n",
      "\n",
      "X_test_loader Total Samples: 3328\n",
      "X_test_loader Number of Batches: 13\n",
      "X_test_loader Batch sizes: [256, 256, 256, 256, 256, 256, 256, 256, 256, 256, 256, 256, 256]\n",
      "\n",
      "X_test_loader Label distribution:\n",
      "Label 0.0: 2782 samples\n",
      "Label 1.0: 546 samples\n"
     ]
    }
   ],
   "source": [
    "import torch\n",
    "import json\n",
    "import numpy as np\n",
    "import pickle\n",
    "from torch.utils.data import TensorDataset, DataLoader, SubsetRandomSampler\n",
    "\n",
    "def create_proportional_dataloader(X, y, batch_size=256):\n",
    "    # 计算正负样本的比例\n",
    "    pos_indices = (y == 0).nonzero(as_tuple=True)[0]\n",
    "    neg_indices = (y == 1).nonzero(as_tuple=True)[0]\n",
    "    \n",
    "    # 创建一个平衡的索引列表\n",
    "    total_samples = len(y)\n",
    "    all_indices = []\n",
    "    \n",
    "    # 计算每个batch应该包含的正负样本数量\n",
    "    pos_ratio = len(pos_indices) / total_samples\n",
    "    neg_ratio = len(neg_indices) / total_samples\n",
    "    \n",
    "    # 打乱正负样本的索引\n",
    "    pos_indices = pos_indices[torch.randperm(len(pos_indices))]\n",
    "    neg_indices = neg_indices[torch.randperm(len(neg_indices))]\n",
    "    \n",
    "    pos_idx = 0\n",
    "    neg_idx = 0\n",
    "    \n",
    "    # 按比例交替添加正负样本的索引\n",
    "    while pos_idx < len(pos_indices) or neg_idx < len(neg_indices):\n",
    "        # 添加正样本\n",
    "        remaining_pos = min(int(batch_size * pos_ratio), len(pos_indices) - pos_idx)\n",
    "        if remaining_pos > 0:\n",
    "            all_indices.extend(pos_indices[pos_idx:pos_idx + remaining_pos].tolist())\n",
    "            pos_idx += remaining_pos\n",
    "            \n",
    "        # 添加负样本\n",
    "        remaining_neg = min(int(batch_size * neg_ratio), len(neg_indices) - neg_idx)\n",
    "        if remaining_neg > 0:\n",
    "            all_indices.extend(neg_indices[neg_idx:neg_idx + remaining_neg].tolist())\n",
    "            neg_idx += remaining_neg\n",
    "\n",
    "        # 计算完整batch数量\n",
    "    num_complete_batches = len(all_indices) // batch_size\n",
    "    \n",
    "    # 如果有不完整的最后一个batch，删除它\n",
    "    if len(all_indices) % batch_size != 0:\n",
    "        all_indices = all_indices[:num_complete_batches * batch_size]\n",
    "    \n",
    "    # 创建数据集和dataloader\n",
    "    dataset = TensorDataset(X, y)\n",
    "    dataloader = DataLoader(\n",
    "        dataset,\n",
    "        batch_size=batch_size,\n",
    "        sampler=SubsetRandomSampler(all_indices)\n",
    "    )\n",
    "    \n",
    "    return dataloader\n",
    "\n",
    "# 1. 加载处理后的测试数据集\n",
    "test_dataset_path = f'D:/论文数据/mouse/data_pkl/processed_data_user{user_id}/test_dataset_user{user_id}_{window_size}.pkl'\n",
    "print(f\"\\nLoading test data from: {test_dataset_path}\")\n",
    "with open(test_dataset_path, 'rb') as f:\n",
    "    test_dataset = torch.load(f, pickle_module=pickle)\n",
    "\n",
    "# 提取 X_test 和 y_test\n",
    "if isinstance(test_dataset, TensorDataset):\n",
    "    X_test, y_test = test_dataset.tensors\n",
    "else:\n",
    "    raise ValueError(\"Unexpected format of test_dataset. Expected TensorDataset.\")\n",
    "\n",
    "# 创建保持原有比例的数据加载器\n",
    "X_test_loader = create_proportional_dataloader(X_test, y_test, batch_size=256)\n",
    "\n",
    "print(f\"\\nOriginal Test Dataset Statistics:\")\n",
    "print(f\"Total number of samples: {len(X_test)}\")\n",
    "print(f\"Positive (0): {(y_test == 0).sum().item()}\")\n",
    "print(f\"Negative (1): {(y_test == 1).sum().item()}\")\n",
    "print(f\"Sample shape: {X_test.shape[1:]}\")\n",
    "print(f\"Data type of X_test: {X_test.dtype}\")\n",
    "print(f\"Data type of y_test: {y_test.dtype}\")\n",
    "\n",
    "# 2. 加载和处理预测数据\n",
    "predict_path = f'D:/论文数据/mouse/data/processed_data_user{user_id}/predict_samples_user{user_id}_{window_size}.json'\n",
    "print(f\"\\nLoading predict data from: {predict_path}\")\n",
    "\n",
    "with open(predict_path, 'r') as f:\n",
    "    predict_data = json.load(f)\n",
    "\n",
    "# 将预测数据转换为 tensor\n",
    "trajectories = []\n",
    "feature_names = predict_data['metadata']['feature_names']\n",
    "for sample in predict_data['samples']:\n",
    "    trajectory = np.array([[step[feature] for feature in feature_names] for step in sample])\n",
    "    trajectories.append(trajectory)\n",
    "\n",
    "X_predict = np.array(trajectories)\n",
    "X_predict = torch.FloatTensor(X_predict).transpose(1, 2)  # [N, features, time]\n",
    "\n",
    "# 检查测试集数据的维度，确保与预测数据一致\n",
    "if X_test.dim() != X_predict.dim() or X_test.shape[1:] != X_predict.shape[1:]:\n",
    "    raise ValueError(f\"Dimension mismatch between test_data and X_predict.\\n\"\n",
    "                     f\"test_data shape: {X_test.shape}, X_predict shape: {X_predict.shape}\")\n",
    "\n",
    "print(f\"Predict samples shape after processing: {X_predict.shape}\")\n",
    "print(f\"Data type of X_predict: {X_predict.dtype}\")\n",
    "\n",
    "# 3. 插入预测样本，确保插入样本数与测试集中的负样本数相同\n",
    "num_neg_test = (y_test == 1).sum().item()\n",
    "print(f\"\\nNumber of negative samples in test set: {num_neg_test}\")\n",
    "\n",
    "if len(X_predict) < num_neg_test:\n",
    "    print(f\"Warning: Only {len(X_predict)} predict samples available, less than required {num_neg_test}\")\n",
    "    desired_predict = len(X_predict)  # 若不够则使用全部\n",
    "else:\n",
    "    desired_predict = num_neg_test\n",
    "\n",
    "print(f\"Number of predict samples to insert: {desired_predict}\")\n",
    "\n",
    "# 随机选择预测样本\n",
    "indices = torch.randperm(len(X_predict))[:desired_predict]\n",
    "X_insert = X_predict[indices]\n",
    "\n",
    "# 创建对应的预测样本标签（使用1表示负样本，确保类型与 y_test 相同）\n",
    "label_insert = torch.ones(len(X_insert), dtype=y_test.dtype)\n",
    "\n",
    "# 合并预测样本与原始测试样本\n",
    "X_test_final = torch.cat([X_test, X_insert], dim=0)\n",
    "y_test_final = torch.cat([y_test, label_insert], dim=0)\n",
    "\n",
    "print(\"\\nFinal Test Dataset Statistics:\")\n",
    "print(f\"Total number of samples: {len(X_test_final)}\")\n",
    "print(f\"Positive (0): {(y_test_final == 0).sum().item()}\")\n",
    "print(f\"Negative (1): {(y_test_final == 1).sum().item()}\")\n",
    "print(f\"Data shape: {X_test_final.shape[1:]}\")\n",
    "print(f\"Data type of X_test_final: {X_test_final.dtype}\")\n",
    "print(f\"Data type of y_test_final: {y_test_final.dtype}\")\n",
    "\n",
    "# 4. 随机打乱最终的测试集\n",
    "final_test_indices = torch.randperm(len(X_test_final))\n",
    "X_test_final = X_test_final[final_test_indices]\n",
    "y_test_final = y_test_final[final_test_indices]\n",
    "\n",
    "# 5. 创建最终的测试数据集和 DataLoader\n",
    "final_test_dataset = TensorDataset(X_test_final, y_test_final)\n",
    "test_loader_final = create_proportional_dataloader(X_test_final, y_test_final, batch_size=256)\n",
    "\n",
    "print(f\"\\nFinal Test Loader:\")\n",
    "print(f\"Number of samples: {len(test_loader_final.dataset)}\")\n",
    "print(f\"Batch size: {test_loader_final.batch_size}\")\n",
    "\n",
    "# 6. 创建新的测试 DataLoader\n",
    "print(\"\\nCreating new test DataLoader from the selected final samples...\")\n",
    "new_test_dataloader = create_proportional_dataloader(X_test_final, y_test_final, batch_size=256)\n",
    "\n",
    "# 打印插入后的 shape 信息（单个样本的形状）\n",
    "shape_new_single_mouse_traj = X_test_final.shape[1:]\n",
    "print(f\"Shape after insertion: {shape_new_single_mouse_traj}\")\n",
    "\n",
    "# 检查 new_test_dataloader 的详细信息\n",
    "print(\"\\nNew Test DataLoader Details:\")\n",
    "total_samples = 0\n",
    "total_batches = 0\n",
    "batch_sizes = []\n",
    "\n",
    "for batch_idx, (X, labels) in enumerate(new_test_dataloader):\n",
    "    total_samples += len(X)\n",
    "    total_batches += 1\n",
    "    batch_sizes.append(len(X))\n",
    "    if batch_idx == 0:\n",
    "        print(f\"Single batch shape: {X.shape}\")\n",
    "        # 假设 X 的 shape 为 [batch, feature, seq_length]\n",
    "        print(f\"Features dimension: {X.shape[1]}\")\n",
    "        print(f\"Sequence length: {X.shape[2]}\")\n",
    "\n",
    "print(f\"\\nTotal number of samples: {total_samples}\")\n",
    "print(f\"Number of batches: {total_batches}\")\n",
    "print(f\"Batch sizes: {batch_sizes}\")\n",
    "\n",
    "# 检查标签分布\n",
    "all_labels = []\n",
    "for _, labels in new_test_dataloader:\n",
    "    all_labels.extend(labels.cpu().numpy())\n",
    "\n",
    "unique_labels, counts = np.unique(all_labels, return_counts=True)\n",
    "print(\"\\nLabel distribution:\")\n",
    "for label, count in zip(unique_labels, counts):\n",
    "    print(f\"Label {label}: {count} samples\")\n",
    "\n",
    "# 检查 X_test_loader 的详细信息\n",
    "print(\"\\nChecking X_test_loader Details:\")\n",
    "total_samples_test_loader = 0\n",
    "total_batches_test_loader = 0\n",
    "batch_sizes_test_loader = []\n",
    "\n",
    "for batch_idx, (X, labels) in enumerate(X_test_loader):\n",
    "    total_samples_test_loader += len(X)\n",
    "    total_batches_test_loader += 1\n",
    "    batch_sizes_test_loader.append(len(X))\n",
    "    if batch_idx == 0:\n",
    "        print(f\"Single batch shape: {X.shape}\")\n",
    "        if X.dim() >= 3:\n",
    "            print(f\"Features dimension: {X.shape[1]}\")\n",
    "            print(f\"Sequence length: {X.shape[2]}\")\n",
    "        elif X.dim() == 2:\n",
    "            print(f\"Features dimension: {X.shape[1]}\")\n",
    "            print(f\"No sequence length (2D data).\")\n",
    "        else:\n",
    "            print(f\"Unexpected data shape for X: {X.shape}\")\n",
    "\n",
    "print(f\"\\nX_test_loader Total Samples: {total_samples_test_loader}\")\n",
    "print(f\"X_test_loader Number of Batches: {total_batches_test_loader}\")\n",
    "print(f\"X_test_loader Batch sizes: {batch_sizes_test_loader}\")\n",
    "\n",
    "# 检查标签分布\n",
    "all_labels_test_loader = []\n",
    "for _, labels in X_test_loader:\n",
    "    all_labels_test_loader.extend(labels.cpu().numpy())\n",
    "\n",
    "unique_labels_test_loader, counts_test_loader = np.unique(all_labels_test_loader, return_counts=True)\n",
    "print(\"\\nX_test_loader Label distribution:\")\n",
    "for label, count in zip(unique_labels_test_loader, counts_test_loader):\n",
    "    print(f\"Label {label}: {count} samples\")"
   ]
  },
  {
   "cell_type": "code",
   "execution_count": 29,
   "metadata": {},
   "outputs": [
    {
     "name": "stdout",
     "output_type": "stream",
     "text": [
      "\n",
      "Loading model from: D:/论文数据/mouse/model_pt/ending_model/gru-transfer-user7_100-path.pt\n"
     ]
    },
    {
     "name": "stderr",
     "output_type": "stream",
     "text": [
      "C:\\Users\\Admin\\AppData\\Local\\Temp\\ipykernel_19884\\1691636379.py:5: FutureWarning: You are using `torch.load` with `weights_only=False` (the current default value), which uses the default pickle module implicitly. It is possible to construct malicious pickle data which will execute arbitrary code during unpickling (See https://github.com/pytorch/pytorch/blob/main/SECURITY.md#untrusted-models for more details). In a future release, the default value for `weights_only` will be flipped to `True`. This limits the functions that could be executed during unpickling. Arbitrary objects will no longer be allowed to be loaded via this mode unless they are explicitly allowlisted by the user via `torch.serialization.add_safe_globals`. We recommend you start setting `weights_only=True` for any use case where you don't have full control of the loaded file. Please open an issue on GitHub for any issues related to this experimental feature.\n",
      "  checkpoint = torch.load(model_path)\n"
     ]
    },
    {
     "data": {
      "text/plain": [
       "<All keys matched successfully>"
      ]
     },
     "execution_count": 29,
     "metadata": {},
     "output_type": "execute_result"
    }
   ],
   "source": [
    "# 3. 创建和加载模型\n",
    "New_model_new_test = MouseNeuralNetwork(length_single_mouse_traj=window_size)\n",
    "model_path = f'D:/论文数据/mouse/model_pt/ending_model/gru-transfer-user{user_id}_{window_size}-path.pt'\n",
    "print(f\"\\nLoading model from: {model_path}\")\n",
    "checkpoint = torch.load(model_path) \n",
    "New_model_new_test.load_state_dict(checkpoint['model'])"
   ]
  },
  {
   "cell_type": "code",
   "execution_count": 30,
   "metadata": {},
   "outputs": [
    {
     "name": "stdout",
     "output_type": "stream",
     "text": [
      "\n",
      "Evaluating original test set...\n",
      "Batch 1 completed\n",
      "Batch 2 completed\n",
      "Batch 3 completed\n",
      "Batch 4 completed\n",
      "Batch 5 completed\n",
      "Batch 6 completed\n",
      "Batch 7 completed\n",
      "Batch 8 completed\n",
      "Batch 9 completed\n",
      "Batch 10 completed\n",
      "Batch 11 completed\n",
      "Batch 12 completed\n",
      "Batch 13 completed\n",
      "\n",
      "Original Test Set Results:\n",
      "Average Recall: 0.5340 ± 0.0776\n",
      "Average Accuracy: 0.9038 ± 0.0192\n",
      "Average Precision: 0.8161 ± 0.0657\n",
      "Average F1 Score: 0.6427 ± 0.0685\n",
      "Average AUC: 0.8595 ± 0.0482\n",
      "Average EER: 0.2279 ± 0.0663\n",
      "\n",
      "Total Confusion Matrix:\n",
      "[[2715   67]\n",
      " [ 253  293]]\n",
      "Results saved to D:/论文数据/mouse/RESULTS\\original_test_results_user7.csv\n"
     ]
    }
   ],
   "source": [
    "from sklearn import metrics\n",
    "import numpy as np\n",
    "import os\n",
    "import torch\n",
    "\n",
    "\n",
    "# 4. 评估原始测试集\n",
    "print(\"\\nEvaluating original test set...\")\n",
    "d_c = []           # Recall\n",
    "d_acc = []         # Accuracy\n",
    "d_precision = []   # Precision\n",
    "d_f1 = []          # F1 Score\n",
    "d_auc = []         # AUC\n",
    "d_eer = []         # EER\n",
    "total_confusion_matrix = None  # 混淆矩阵累加\n",
    "\n",
    "# 将模型设置为评估模式\n",
    "New_model_new_test.eval()\n",
    "\n",
    "# 如果使用 GPU，请将模型和数据移动到 GPU\n",
    "device = torch.device(\"cuda\" if torch.cuda.is_available() else \"cpu\")\n",
    "New_model_new_test.to(device)\n",
    "\n",
    "# 遍历 X_test_loader 中的每个批次\n",
    "with torch.no_grad():\n",
    "    for batch_idx, (inputs, labels) in enumerate(X_test_loader, 1):\n",
    "        # 将数据移动到设备\n",
    "        inputs = inputs.to(device)\n",
    "        labels = labels.to(device)\n",
    "        \n",
    "        # 前向传播\n",
    "        outputs = New_model_new_test(inputs)\n",
    "        \n",
    "        # 假设模型输出为 logits，需要转换为概率\n",
    "        if outputs.shape[1] == 1:\n",
    "            # 二分类问题，假设输出是单个logit\n",
    "            pred_probs = torch.sigmoid(outputs).cpu().numpy()\n",
    "            pred_id_list = (pred_probs >= 0.5).astype(int).flatten()\n",
    "            pred_probs = np.hstack([1 - pred_probs, pred_probs])  # 构建 [prob_class0, prob_class1]\n",
    "        else:\n",
    "            # 多分类问题，使用softmax\n",
    "            pred_probs = torch.softmax(outputs, dim=1).cpu().numpy()\n",
    "            pred_id_list = np.argmax(pred_probs, axis=1)\n",
    "        \n",
    "        # 转换标签为 NumPy 数组\n",
    "        labels_np = labels.cpu().numpy()\n",
    "        \n",
    "        # 计算基本指标\n",
    "        recall_val = recall(pred_id_list, labels_np)\n",
    "        c = et_TPFN(pred_id_list, labels_np)\n",
    "        accuracy = (c[0] + c[2]) / (c[0] + c[1] + c[2] + c[3])\n",
    "        precision_val = pre(pred_id_list, labels_np)\n",
    "        \n",
    "        # 计算 F1 分数\n",
    "        f1_score = calculate_f1(precision_val, recall_val)\n",
    "        \n",
    "        # 计算 ROC 和 AUC\n",
    "        if outputs.shape[1] == 1:\n",
    "            # 二分类问题\n",
    "            fpr, tpr, _ = metrics.roc_curve(labels_np, pred_probs[:, 1])\n",
    "        else:\n",
    "            # 多分类问题，需进行适当处理\n",
    "            # 这里假设为二分类，若为多分类，请根据需求调整\n",
    "            fpr, tpr, _ = metrics.roc_curve(labels_np, pred_probs[:, 1])\n",
    "        auc_val = metrics.auc(fpr, tpr)\n",
    "        \n",
    "        # 计算 EER\n",
    "        eer_val = calculate_eer(fpr, tpr)\n",
    "        \n",
    "        # 计算混淆矩阵\n",
    "        conf_matrix = metrics.confusion_matrix(labels_np, pred_id_list)\n",
    "        if total_confusion_matrix is None:\n",
    "            total_confusion_matrix = conf_matrix\n",
    "        else:\n",
    "            total_confusion_matrix += conf_matrix\n",
    "        \n",
    "        # 保存当前批次的所有指标\n",
    "        d_c.append(recall_val)\n",
    "        d_acc.append(accuracy)\n",
    "        d_precision.append(precision_val)\n",
    "        d_f1.append(f1_score)\n",
    "        d_auc.append(auc_val)\n",
    "        d_eer.append(eer_val)\n",
    "        \n",
    "        print(f\"Batch {batch_idx} completed\")\n",
    "\n",
    "# 计算所有批次的平均指标和标准差\n",
    "print(\"\\nOriginal Test Set Results:\")\n",
    "print(f\"Average Recall: {np.mean(d_c):.4f} ± {np.std(d_c):.4f}\")\n",
    "print(f\"Average Accuracy: {np.mean(d_acc):.4f} ± {np.std(d_acc):.4f}\")\n",
    "print(f\"Average Precision: {np.mean(d_precision):.4f} ± {np.std(d_precision):.4f}\")\n",
    "print(f\"Average F1 Score: {np.mean(d_f1):.4f} ± {np.std(d_f1):.4f}\")\n",
    "print(f\"Average AUC: {np.mean(d_auc):.4f} ± {np.std(d_auc):.4f}\")\n",
    "print(f\"Average EER: {np.mean(d_eer):.4f} ± {np.std(d_eer):.4f}\")\n",
    "\n",
    "# 打印累加后的混淆矩阵\n",
    "print(\"\\nTotal Confusion Matrix:\")\n",
    "print(total_confusion_matrix)\n",
    "\n",
    "# 保存原始测试集结果\n",
    "original_metrics = {\n",
    "    'recall': np.mean(d_c),\n",
    "    'accuracy': np.mean(d_acc),\n",
    "    'precision': np.mean(d_precision),\n",
    "    'f1': np.mean(d_f1),\n",
    "    'auc': np.mean(d_auc),\n",
    "    'eer': np.mean(d_eer)\n",
    "}\n",
    "\n",
    "# 定义基础路径\n",
    "base_path = 'D:/论文数据/mouse/RESULTS'\n",
    "\n",
    "# 确保目录存在\n",
    "os.makedirs(base_path, exist_ok=True)\n",
    "\n",
    "# 构建文件名，添加 user_id 和 window_size\n",
    "filename = f'original_test_results_user{user_id}.csv'\n",
    "\n",
    "# 拼接完整的文件路径\n",
    "full_path = os.path.join(base_path, filename)\n",
    "\n",
    "# 调用保存函数\n",
    "save_results_to_csv(user_id, window_size, original_metrics, full_path)\n"
   ]
  },
  {
   "cell_type": "code",
   "execution_count": 31,
   "metadata": {},
   "outputs": [
    {
     "data": {
      "text/plain": [
       "7898"
      ]
     },
     "execution_count": 31,
     "metadata": {},
     "output_type": "execute_result"
    }
   ],
   "source": [
    "import gc\n",
    "# 强制垃圾回收\n",
    "gc.collect()"
   ]
  },
  {
   "cell_type": "code",
   "execution_count": 32,
   "metadata": {},
   "outputs": [
    {
     "name": "stdout",
     "output_type": "stream",
     "text": [
      "\n",
      "Evaluating new test set (new_test_dataloader)...\n",
      "new_test_dataloader - Batch 1 completed\n",
      "new_test_dataloader - Batch 2 completed\n",
      "new_test_dataloader - Batch 3 completed\n",
      "new_test_dataloader - Batch 4 completed\n",
      "new_test_dataloader - Batch 5 completed\n",
      "new_test_dataloader - Batch 6 completed\n",
      "new_test_dataloader - Batch 7 completed\n",
      "new_test_dataloader - Batch 8 completed\n",
      "new_test_dataloader - Batch 9 completed\n",
      "new_test_dataloader - Batch 10 completed\n",
      "new_test_dataloader - Batch 11 completed\n",
      "new_test_dataloader - Batch 12 completed\n",
      "new_test_dataloader - Batch 13 completed\n",
      "new_test_dataloader - Batch 14 completed\n",
      "new_test_dataloader - Batch 15 completed\n",
      "\n",
      "New Test Set Results (new_test_dataloader):\n",
      "Average Recall: 0.6278 ± 0.0547\n",
      "Average Accuracy: 0.8768 ± 0.0182\n",
      "Average Precision: 0.9126 ± 0.0327\n",
      "Average F1 Score: 0.7423 ± 0.0420\n",
      "Average AUC: 0.9081 ± 0.0245\n",
      "Average EER: 0.1700 ± 0.0359\n",
      "\n",
      "Total Confusion Matrix (new_test_dataloader):\n",
      "[[2680   65]\n",
      " [ 408  687]]\n",
      "Results saved to D:/论文数据/mouse/RESULTS\\new_test_results_user7.csv\n"
     ]
    }
   ],
   "source": [
    "# 2. 评估 new_test_dataloader\n",
    "print(\"\\nEvaluating new test set (new_test_dataloader)...\")\n",
    "d_c_2 = []           # Recall\n",
    "d_acc_2 = []         # Accuracy\n",
    "d_precision_2 = []   # Precision\n",
    "d_f1_2 = []          # F1 Score\n",
    "d_auc_2 = []         # AUC\n",
    "d_eer_2 = []         # EER\n",
    "total_confusion_matrix_2 = None  # 混淆矩阵累加\n",
    "\n",
    "with torch.no_grad():\n",
    "    for batch_idx, (inputs, labels) in enumerate(new_test_dataloader, 1):\n",
    "        # 将数据移动到设备\n",
    "        inputs = inputs.to(device)\n",
    "        labels = labels.to(device)\n",
    "        \n",
    "        # 前向传播\n",
    "        outputs = New_model_new_test(inputs)\n",
    "        \n",
    "        # 假设模型输出为 logits，需要转换为概率\n",
    "        if outputs.shape[1] == 1:\n",
    "            # 二分类问题，假设输出是单个logit\n",
    "            pred_probs = torch.sigmoid(outputs).cpu().numpy()\n",
    "            pred_id_list = (pred_probs >= 0.5).astype(int).flatten()\n",
    "            pred_probs = np.hstack([1 - pred_probs, pred_probs])  # 构建 [prob_class0, prob_class1]\n",
    "        else:\n",
    "            # 多分类问题，使用softmax\n",
    "            pred_probs = torch.softmax(outputs, dim=1).cpu().numpy()\n",
    "            pred_id_list = np.argmax(pred_probs, axis=1)\n",
    "        \n",
    "        # 转换标签为 NumPy 数组\n",
    "        labels_np = labels.cpu().numpy()\n",
    "        \n",
    "        # 计算基本指标\n",
    "        recall_val = recall(pred_id_list, labels_np)\n",
    "        c = et_TPFN(pred_id_list, labels_np)\n",
    "        accuracy = (c[0] + c[2]) / (c[0] + c[1] + c[2] + c[3])\n",
    "        precision_val = pre(pred_id_list, labels_np)\n",
    "        \n",
    "        # 计算 F1 分数\n",
    "        f1_score = calculate_f1(precision_val, recall_val)\n",
    "        \n",
    "        # 计算 ROC 和 AUC\n",
    "        if outputs.shape[1] == 1:\n",
    "            # 二分类问题\n",
    "            fpr, tpr, _ = metrics.roc_curve(labels_np, pred_probs[:, 1])\n",
    "        else:\n",
    "            # 多分类问题，需进行适当处理\n",
    "            # 这里假设为二分类，若为多分类，请根据需求调整\n",
    "            fpr, tpr, _ = metrics.roc_curve(labels_np, pred_probs[:, 1])\n",
    "        auc_val = metrics.auc(fpr, tpr)\n",
    "        \n",
    "        # 计算 EER\n",
    "        eer_val = calculate_eer(fpr, tpr)\n",
    "        \n",
    "        # 计算混淆矩阵\n",
    "        conf_matrix = metrics.confusion_matrix(labels_np, pred_id_list)\n",
    "        if total_confusion_matrix_2 is None:\n",
    "            total_confusion_matrix_2 = conf_matrix\n",
    "        else:\n",
    "            total_confusion_matrix_2 += conf_matrix\n",
    "        \n",
    "        # 保存当前批次的所有指标\n",
    "        d_c_2.append(recall_val)\n",
    "        d_acc_2.append(accuracy)\n",
    "        d_precision_2.append(precision_val)\n",
    "        d_f1_2.append(f1_score)\n",
    "        d_auc_2.append(auc_val)\n",
    "        d_eer_2.append(eer_val)\n",
    "        \n",
    "        print(f\"new_test_dataloader - Batch {batch_idx} completed\")\n",
    "\n",
    "# 计算所有批次的平均指标和标准差\n",
    "print(\"\\nNew Test Set Results (new_test_dataloader):\")\n",
    "print(f\"Average Recall: {np.mean(d_c_2):.4f} ± {np.std(d_c_2):.4f}\")\n",
    "print(f\"Average Accuracy: {np.mean(d_acc_2):.4f} ± {np.std(d_acc_2):.4f}\")\n",
    "print(f\"Average Precision: {np.mean(d_precision_2):.4f} ± {np.std(d_precision_2):.4f}\")\n",
    "print(f\"Average F1 Score: {np.mean(d_f1_2):.4f} ± {np.std(d_f1_2):.4f}\")\n",
    "print(f\"Average AUC: {np.mean(d_auc_2):.4f} ± {np.std(d_auc_2):.4f}\")\n",
    "print(f\"Average EER: {np.mean(d_eer_2):.4f} ± {np.std(d_eer_2):.4f}\")\n",
    "\n",
    "# 打印累加后的混淆矩阵\n",
    "print(\"\\nTotal Confusion Matrix (new_test_dataloader):\")\n",
    "print(total_confusion_matrix_2)\n",
    "\n",
    "# 保存 new_test_dataloader 的结果\n",
    "new_test_metrics = {\n",
    "    'recall': np.mean(d_c_2),\n",
    "    'accuracy': np.mean(d_acc_2),\n",
    "    'precision': np.mean(d_precision_2),\n",
    "    'f1': np.mean(d_f1_2),\n",
    "    'auc': np.mean(d_auc_2),\n",
    "    'eer': np.mean(d_eer_2)\n",
    "}\n",
    "\n",
    "# 定义基础路径\n",
    "base_path = 'D:/论文数据/mouse/RESULTS'\n",
    "\n",
    "# 确保目录存在\n",
    "os.makedirs(base_path, exist_ok=True)\n",
    "\n",
    "# 构建文件名，添加 user_id 和 window_size\n",
    "filename_new = f'new_test_results_user{user_id}.csv'\n",
    "\n",
    "# 拼接完整的文件路径\n",
    "full_path_new = os.path.join(base_path, filename_new)\n",
    "\n",
    "# 调用保存函数\n",
    "save_results_to_csv(user_id, window_size, new_test_metrics, full_path_new)"
   ]
  },
  {
   "cell_type": "code",
   "execution_count": 33,
   "metadata": {},
   "outputs": [
    {
     "data": {
      "image/png": "[encoded data removed]",
      "text/plain": [
       "<Figure size 1000x600 with 1 Axes>"
      ]
     },
     "metadata": {},
     "output_type": "display_data"
    },
    {
     "data": {
      "image/png": "[encoded data removed]",
      "text/plain": [
       "<Figure size 1200x600 with 1 Axes>"
      ]
     },
     "metadata": {},
     "output_type": "display_data"
    },
    {
     "data": {
      "image/png": "[encoded data removed]",
      "text/plain": [
       "<Figure size 800x600 with 1 Axes>"
      ]
     },
     "metadata": {},
     "output_type": "display_data"
    }
   ],
   "source": [
    "import matplotlib.pyplot as plt\n",
    "import seaborn as sns\n",
    "from sklearn import metrics\n",
    "import numpy as np\n",
    "import os\n",
    "import torch\n",
    "\n",
    "# 设置保存路径和用户信息\n",
    "output_dir = \"D:/论文数据/mouse/RESULTS/Plotting\"\n",
    "os.makedirs(output_dir, exist_ok=True)\n",
    "\n",
    "# 准备数据\n",
    "metrics_names = ['Recall', 'Accuracy', 'Precision', 'F1', 'AUC', 'EER']\n",
    "original_values = [np.mean(d_c), np.mean(d_acc), np.mean(d_precision), \n",
    "                   np.mean(d_f1), np.mean(d_auc), np.mean(d_eer)]\n",
    "new_values = [np.mean(d_c_2), np.mean(d_acc_2), np.mean(d_precision_2),\n",
    "              np.mean(d_f1_2), np.mean(d_auc_2), np.mean(d_eer_2)]\n",
    "\n",
    "# 1. 柱状图对比\n",
    "plt.figure(figsize=(10, 6))\n",
    "x = np.arange(len(metrics_names))\n",
    "width = 0.35\n",
    "\n",
    "plt.bar(x - width/2, original_values, width, label='Original Test Set')\n",
    "plt.bar(x + width/2, new_values, width, label='New Test Set')\n",
    "\n",
    "plt.xlabel('Evaluation Metrics')\n",
    "plt.ylabel('Values')\n",
    "plt.title(f'Comparison of Evaluation Metrics: user_{user_id}_window_{window_size}')\n",
    "plt.xticks(x, metrics_names, rotation=45, ha='right')\n",
    "plt.legend()\n",
    "plt.grid(True, alpha=0.3)\n",
    "plt.tight_layout()\n",
    "\n",
    "# 保存图片\n",
    "bar_chart_path = os.path.join(output_dir, f\"user_{user_id}_window_{window_size}_bar_chart.png\")\n",
    "plt.savefig(bar_chart_path)\n",
    "plt.show()\n",
    "\n",
    "# 2. 箱式图对比\n",
    "plt.figure(figsize=(12, 6))\n",
    "data = {\n",
    "    'Recall': [d_c, d_c_2],\n",
    "    'Accuracy': [d_acc, d_acc_2],\n",
    "    'Precision': [d_precision, d_precision_2],\n",
    "    'F1': [d_f1, d_f1_2],\n",
    "    'AUC': [d_auc, d_auc_2],\n",
    "    'EER': [d_eer, d_eer_2]\n",
    "}\n",
    "\n",
    "positions = []\n",
    "labels = []\n",
    "plot_data = []\n",
    "\n",
    "for i, metric in enumerate(metrics_names):\n",
    "    positions.extend([i*3, i*3 + 1])\n",
    "    labels.extend([f'{metric}\\nOriginal', f'{metric}\\nNew Test'])\n",
    "    plot_data.extend([data[metric][0], data[metric][1]])\n",
    "\n",
    "plt.boxplot(plot_data, positions=positions)\n",
    "plt.xticks(positions, labels, rotation=45, ha='right')\n",
    "plt.xlabel('Evaluation Metrics')\n",
    "plt.ylabel('Values')\n",
    "plt.title(f'Box Plot Comparison: user_{user_id}_window_{window_size}')\n",
    "plt.grid(True, alpha=0.3)\n",
    "plt.tight_layout()\n",
    "\n",
    "# 保存图片\n",
    "box_plot_path = os.path.join(output_dir, f\"user_{user_id}_window_{window_size}_box_plot.png\")\n",
    "plt.savefig(box_plot_path)\n",
    "plt.show()\n",
    "\n",
    "# 3. ROC曲线对比\n",
    "plt.figure(figsize=(8, 6))\n",
    "\n",
    "# 获取最后一个batch的ROC数据\n",
    "with torch.no_grad():\n",
    "    # 原始测试集\n",
    "    inputs, labels = next(iter(X_test_loader))\n",
    "    inputs = inputs.to(device)\n",
    "    labels = labels.to(device)\n",
    "    outputs = New_model_new_test(inputs)\n",
    "    if outputs.shape[1] == 1:\n",
    "        pred_probs = torch.sigmoid(outputs).cpu().numpy()\n",
    "        pred_probs = np.hstack([1 - pred_probs, pred_probs])\n",
    "    else:\n",
    "        pred_probs = torch.softmax(outputs, dim=1).cpu().numpy()\n",
    "    labels_np = labels.cpu().numpy()\n",
    "    fpr1, tpr1, _ = metrics.roc_curve(labels_np, pred_probs[:, 1])\n",
    "\n",
    "    # 新测试集\n",
    "    inputs, labels = next(iter(new_test_dataloader))\n",
    "    inputs = inputs.to(device)\n",
    "    labels = labels.to(device)\n",
    "    outputs = New_model_new_test(inputs)\n",
    "    if outputs.shape[1] == 1:\n",
    "        pred_probs = torch.sigmoid(outputs).cpu().numpy()\n",
    "        pred_probs = np.hstack([1 - pred_probs, pred_probs])\n",
    "    else:\n",
    "        pred_probs = torch.softmax(outputs, dim=1).cpu().numpy()\n",
    "    labels_np = labels.cpu().numpy()\n",
    "    fpr2, tpr2, _ = metrics.roc_curve(labels_np, pred_probs[:, 1])\n",
    "\n",
    "plt.plot(fpr1, tpr1, label=f'Original Test Set (AUC = {np.mean(d_auc):.3f})')\n",
    "plt.plot(fpr2, tpr2, label=f'New Test Set (AUC = {np.mean(d_auc_2):.3f})')\n",
    "plt.plot([0, 1], [0, 1], 'k--')\n",
    "plt.xlabel('False Positive Rate (FPR)')\n",
    "plt.ylabel('True Positive Rate (TPR)')\n",
    "plt.title(f'ROC Curve Comparison: user_{user_id}_window_{window_size}')\n",
    "plt.legend()\n",
    "plt.grid(True, alpha=0.3)\n",
    "plt.tight_layout()\n",
    "\n",
    "# 保存图片\n",
    "roc_curve_path = os.path.join(output_dir, f\"user_{user_id}_window_{window_size}_roc_curve.png\")\n",
    "plt.savefig(roc_curve_path)\n",
    "plt.show()\n"
   ]
  },
  {
   "cell_type": "code",
   "execution_count": null,
   "metadata": {},
   "outputs": [],
   "source": []
  },
  {
   "cell_type": "code",
   "execution_count": null,
   "metadata": {},
   "outputs": [],
   "source": []
  },
  {
   "cell_type": "code",
   "execution_count": null,
   "metadata": {},
   "outputs": [],
   "source": []
  },
  {
   "cell_type": "code",
   "execution_count": null,
   "metadata": {},
   "outputs": [],
   "source": []
  },
  {
   "cell_type": "code",
   "execution_count": null,
   "metadata": {},
   "outputs": [],
   "source": []
  },
  {
   "cell_type": "code",
   "execution_count": null,
   "metadata": {},
   "outputs": [],
   "source": []
  },
  {
   "cell_type": "code",
   "execution_count": null,
   "metadata": {},
   "outputs": [],
   "source": []
  },
  {
   "cell_type": "code",
   "execution_count": null,
   "metadata": {},
   "outputs": [],
   "source": []
  },
  {
   "cell_type": "code",
   "execution_count": null,
   "metadata": {},
   "outputs": [],
   "source": []
  },
  {
   "cell_type": "code",
   "execution_count": null,
   "metadata": {},
   "outputs": [],
   "source": []
  },
  {
   "cell_type": "code",
   "execution_count": null,
   "metadata": {},
   "outputs": [],
   "source": []
  },
  {
   "cell_type": "code",
   "execution_count": null,
   "metadata": {},
   "outputs": [],
   "source": []
  },
  {
   "cell_type": "code",
   "execution_count": null,
   "metadata": {},
   "outputs": [],
   "source": []
  },
  {
   "cell_type": "code",
   "execution_count": null,
   "metadata": {},
   "outputs": [],
   "source": []
  }
 ],
 "metadata": {
  "kernelspec": {
   "display_name": "Python 3 (ipykernel)",
   "language": "python",
   "name": "python3"
  },
  "language_info": {
   "codemirror_mode": {
    "name": "ipython",
    "version": 3
   },
   "file_extension": ".py",
   "mimetype": "text/x-python",
   "name": "python",
   "nbconvert_exporter": "python",
   "pygments_lexer": "ipython3",
   "version": "3.8.20"
  },
  "vscode": {
   "interpreter": {
    "hash": "91bb753b057673435fb8d6f6a083e6c818364728098c7ae050ca3a25357dd754"
   }
  }
 },
 "nbformat": 4,
 "nbformat_minor": 4
}
